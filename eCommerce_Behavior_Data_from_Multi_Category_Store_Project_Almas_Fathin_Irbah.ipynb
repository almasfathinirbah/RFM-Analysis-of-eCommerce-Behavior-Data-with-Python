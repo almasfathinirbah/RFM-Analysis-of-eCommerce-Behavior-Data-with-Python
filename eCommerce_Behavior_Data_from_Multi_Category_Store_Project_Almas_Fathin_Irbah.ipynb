{
  "nbformat": 4,
  "nbformat_minor": 0,
  "metadata": {
    "colab": {
      "name": "eCommerce Behavior Data from Multi Category Store Project - Almas Fathin Irbah.ipynb",
      "provenance": [],
      "collapsed_sections": [
        "wx24hORBfPet",
        "8YEc9crWFXE2",
        "lbIuy-OAGY7B",
        "MgdvJ8nGGnvB",
        "yJT7cuf5HBV-",
        "2sJVKT3fIEVr"
      ]
    },
    "kernelspec": {
      "display_name": "Python 3",
      "name": "python3"
    },
    "language_info": {
      "name": "python"
    }
  },
  "cells": [
    {
      "cell_type": "markdown",
      "metadata": {
        "id": "fOGpLRgeNoGI"
      },
      "source": [
        "**Almas Fathin Irbah**\n",
        "> Dataset : eCommerce behavior data from multi category store \\\n",
        "> Sumber : Kaggle \\\n",
        "> Link Dataset : https://www.kaggle.com/mkechinov/ecommerce-behavior-data-from-multi-category-store"
      ]
    },
    {
      "cell_type": "markdown",
      "metadata": {
        "id": "wx24hORBfPet"
      },
      "source": [
        "# **Preparation**"
      ]
    },
    {
      "cell_type": "code",
      "metadata": {
        "colab": {
          "base_uri": "https://localhost:8080/"
        },
        "id": "ElWMfwJURAUp",
        "outputId": "6dc03a67-74b6-42bb-9f08-d871bbb8ed31"
      },
      "source": [
        "pip install squarify"
      ],
      "execution_count": null,
      "outputs": [
        {
          "output_type": "stream",
          "name": "stdout",
          "text": [
            "Collecting squarify\n",
            "  Downloading squarify-0.4.3-py3-none-any.whl (4.3 kB)\n",
            "Installing collected packages: squarify\n",
            "Successfully installed squarify-0.4.3\n"
          ]
        }
      ]
    },
    {
      "cell_type": "code",
      "metadata": {
        "id": "Mm72xq3PR_FT"
      },
      "source": [
        "# import library\n",
        "import pandas as pd\n",
        "import numpy as np\n",
        "import seaborn as sns\n",
        "import os\n",
        "import squarify\n",
        "from sklearn.preprocessing import OrdinalEncoder\n",
        "from sklearn.preprocessing import OneHotEncoder"
      ],
      "execution_count": null,
      "outputs": []
    },
    {
      "cell_type": "code",
      "metadata": {
        "colab": {
          "base_uri": "https://localhost:8080/"
        },
        "id": "Z4o89kh_T7R4",
        "outputId": "f39eb18b-f23a-44ee-f589-6b0dc9d88ab9"
      },
      "source": [
        "# mounted google drive\n",
        "import google.colab as gc\n",
        "gc.drive.mount('/content/drive')"
      ],
      "execution_count": null,
      "outputs": [
        {
          "output_type": "stream",
          "name": "stdout",
          "text": [
            "Drive already mounted at /content/drive; to attempt to forcibly remount, call drive.mount(\"/content/drive\", force_remount=True).\n"
          ]
        }
      ]
    },
    {
      "cell_type": "code",
      "metadata": {
        "colab": {
          "base_uri": "https://localhost:8080/"
        },
        "id": "8Xzq7_qtWnqU",
        "outputId": "139fd361-17f1-4add-916c-7b3299babed7"
      },
      "source": [
        "# check the path\n",
        "!pwd"
      ],
      "execution_count": null,
      "outputs": [
        {
          "output_type": "stream",
          "name": "stdout",
          "text": [
            "/content\n"
          ]
        }
      ]
    },
    {
      "cell_type": "code",
      "metadata": {
        "colab": {
          "base_uri": "https://localhost:8080/"
        },
        "id": "51wAfzB2Wpf6",
        "outputId": "80c970c9-5699-4a38-8d33-e713b3fa17fe"
      },
      "source": [
        "# change folder\n",
        "%cd '/content/drive/My Drive/data_file'"
      ],
      "execution_count": null,
      "outputs": [
        {
          "output_type": "stream",
          "name": "stdout",
          "text": [
            "/content/drive/.shortcut-targets-by-id/1t8EkfV-chB44rwwHoMuk27bpM9uQIAqz/data_file\n"
          ]
        }
      ]
    },
    {
      "cell_type": "code",
      "metadata": {
        "colab": {
          "base_uri": "https://localhost:8080/"
        },
        "id": "g2Ge_QFUWpjo",
        "outputId": "3e40d239-d2f9-4bd1-ea64-a4c31dd3332d"
      },
      "source": [
        "# check file in folder\n",
        "!ls"
      ],
      "execution_count": null,
      "outputs": [
        {
          "output_type": "stream",
          "name": "stdout",
          "text": [
            " 2019-Nov.csv\t      'property data.csv'\n",
            " 2019-Nov.pkl\t       quiz_data.json\n",
            " 2019-Oct.csv\t       student_grade_prediction.xlsx\n",
            " 2019-Oct.yaml\t       student-mat.csv\n",
            " data_student.pkl      USA_Housing.csv\n",
            " earthquake_data.csv   USA_Housing.gsheet\n",
            " melb_data.csv\t       WA_Fn-UseC_-HR-Employee-Attrition.csv\n"
          ]
        }
      ]
    },
    {
      "cell_type": "markdown",
      "metadata": {
        "id": "8YEc9crWFXE2"
      },
      "source": [
        "# **OCTOBER 2019**"
      ]
    },
    {
      "cell_type": "markdown",
      "metadata": {
        "id": "bhh5S6RQXgKR"
      },
      "source": [
        "## **Handle The Missing Data**"
      ]
    },
    {
      "cell_type": "code",
      "metadata": {
        "colab": {
          "base_uri": "https://localhost:8080/",
          "height": 357
        },
        "id": "NIDyGKthXpNh",
        "outputId": "0b57f256-f7c8-4389-f63a-83039889e9f4"
      },
      "source": [
        "# read the data\n",
        "cols = ['event_time', 'event_type', 'category_code', 'brand', 'price','user_id','user_session']\n",
        "df2019oct = pd.read_csv('2019-Oct.csv', usecols = cols)\n",
        "df2019oct.head(10)"
      ],
      "execution_count": null,
      "outputs": [
        {
          "output_type": "execute_result",
          "data": {
            "text/html": [
              "<div>\n",
              "<style scoped>\n",
              "    .dataframe tbody tr th:only-of-type {\n",
              "        vertical-align: middle;\n",
              "    }\n",
              "\n",
              "    .dataframe tbody tr th {\n",
              "        vertical-align: top;\n",
              "    }\n",
              "\n",
              "    .dataframe thead th {\n",
              "        text-align: right;\n",
              "    }\n",
              "</style>\n",
              "<table border=\"1\" class=\"dataframe\">\n",
              "  <thead>\n",
              "    <tr style=\"text-align: right;\">\n",
              "      <th></th>\n",
              "      <th>event_time</th>\n",
              "      <th>event_type</th>\n",
              "      <th>category_code</th>\n",
              "      <th>brand</th>\n",
              "      <th>price</th>\n",
              "      <th>user_id</th>\n",
              "      <th>user_session</th>\n",
              "    </tr>\n",
              "  </thead>\n",
              "  <tbody>\n",
              "    <tr>\n",
              "      <th>0</th>\n",
              "      <td>2019-10-01 00:00:00 UTC</td>\n",
              "      <td>view</td>\n",
              "      <td>NaN</td>\n",
              "      <td>shiseido</td>\n",
              "      <td>35.79</td>\n",
              "      <td>541312140</td>\n",
              "      <td>72d76fde-8bb3-4e00-8c23-a032dfed738c</td>\n",
              "    </tr>\n",
              "    <tr>\n",
              "      <th>1</th>\n",
              "      <td>2019-10-01 00:00:00 UTC</td>\n",
              "      <td>view</td>\n",
              "      <td>appliances.environment.water_heater</td>\n",
              "      <td>aqua</td>\n",
              "      <td>33.20</td>\n",
              "      <td>554748717</td>\n",
              "      <td>9333dfbd-b87a-4708-9857-6336556b0fcc</td>\n",
              "    </tr>\n",
              "    <tr>\n",
              "      <th>2</th>\n",
              "      <td>2019-10-01 00:00:01 UTC</td>\n",
              "      <td>view</td>\n",
              "      <td>furniture.living_room.sofa</td>\n",
              "      <td>NaN</td>\n",
              "      <td>543.10</td>\n",
              "      <td>519107250</td>\n",
              "      <td>566511c2-e2e3-422b-b695-cf8e6e792ca8</td>\n",
              "    </tr>\n",
              "    <tr>\n",
              "      <th>3</th>\n",
              "      <td>2019-10-01 00:00:01 UTC</td>\n",
              "      <td>view</td>\n",
              "      <td>computers.notebook</td>\n",
              "      <td>lenovo</td>\n",
              "      <td>251.74</td>\n",
              "      <td>550050854</td>\n",
              "      <td>7c90fc70-0e80-4590-96f3-13c02c18c713</td>\n",
              "    </tr>\n",
              "    <tr>\n",
              "      <th>4</th>\n",
              "      <td>2019-10-01 00:00:04 UTC</td>\n",
              "      <td>view</td>\n",
              "      <td>electronics.smartphone</td>\n",
              "      <td>apple</td>\n",
              "      <td>1081.98</td>\n",
              "      <td>535871217</td>\n",
              "      <td>c6bd7419-2748-4c56-95b4-8cec9ff8b80d</td>\n",
              "    </tr>\n",
              "    <tr>\n",
              "      <th>5</th>\n",
              "      <td>2019-10-01 00:00:05 UTC</td>\n",
              "      <td>view</td>\n",
              "      <td>computers.desktop</td>\n",
              "      <td>pulser</td>\n",
              "      <td>908.62</td>\n",
              "      <td>512742880</td>\n",
              "      <td>0d0d91c2-c9c2-4e81-90a5-86594dec0db9</td>\n",
              "    </tr>\n",
              "    <tr>\n",
              "      <th>6</th>\n",
              "      <td>2019-10-01 00:00:08 UTC</td>\n",
              "      <td>view</td>\n",
              "      <td>NaN</td>\n",
              "      <td>creed</td>\n",
              "      <td>380.96</td>\n",
              "      <td>555447699</td>\n",
              "      <td>4fe811e9-91de-46da-90c3-bbd87ed3a65d</td>\n",
              "    </tr>\n",
              "    <tr>\n",
              "      <th>7</th>\n",
              "      <td>2019-10-01 00:00:08 UTC</td>\n",
              "      <td>view</td>\n",
              "      <td>NaN</td>\n",
              "      <td>luminarc</td>\n",
              "      <td>41.16</td>\n",
              "      <td>550978835</td>\n",
              "      <td>6280d577-25c8-4147-99a7-abc6048498d6</td>\n",
              "    </tr>\n",
              "    <tr>\n",
              "      <th>8</th>\n",
              "      <td>2019-10-01 00:00:10 UTC</td>\n",
              "      <td>view</td>\n",
              "      <td>apparel.shoes.keds</td>\n",
              "      <td>baden</td>\n",
              "      <td>102.71</td>\n",
              "      <td>520571932</td>\n",
              "      <td>ac1cd4e5-a3ce-4224-a2d7-ff660a105880</td>\n",
              "    </tr>\n",
              "    <tr>\n",
              "      <th>9</th>\n",
              "      <td>2019-10-01 00:00:11 UTC</td>\n",
              "      <td>view</td>\n",
              "      <td>electronics.smartphone</td>\n",
              "      <td>huawei</td>\n",
              "      <td>566.01</td>\n",
              "      <td>537918940</td>\n",
              "      <td>406c46ed-90a4-4787-a43b-59a410c1a5fb</td>\n",
              "    </tr>\n",
              "  </tbody>\n",
              "</table>\n",
              "</div>"
            ],
            "text/plain": [
              "                event_time  ...                          user_session\n",
              "0  2019-10-01 00:00:00 UTC  ...  72d76fde-8bb3-4e00-8c23-a032dfed738c\n",
              "1  2019-10-01 00:00:00 UTC  ...  9333dfbd-b87a-4708-9857-6336556b0fcc\n",
              "2  2019-10-01 00:00:01 UTC  ...  566511c2-e2e3-422b-b695-cf8e6e792ca8\n",
              "3  2019-10-01 00:00:01 UTC  ...  7c90fc70-0e80-4590-96f3-13c02c18c713\n",
              "4  2019-10-01 00:00:04 UTC  ...  c6bd7419-2748-4c56-95b4-8cec9ff8b80d\n",
              "5  2019-10-01 00:00:05 UTC  ...  0d0d91c2-c9c2-4e81-90a5-86594dec0db9\n",
              "6  2019-10-01 00:00:08 UTC  ...  4fe811e9-91de-46da-90c3-bbd87ed3a65d\n",
              "7  2019-10-01 00:00:08 UTC  ...  6280d577-25c8-4147-99a7-abc6048498d6\n",
              "8  2019-10-01 00:00:10 UTC  ...  ac1cd4e5-a3ce-4224-a2d7-ff660a105880\n",
              "9  2019-10-01 00:00:11 UTC  ...  406c46ed-90a4-4787-a43b-59a410c1a5fb\n",
              "\n",
              "[10 rows x 7 columns]"
            ]
          },
          "metadata": {},
          "execution_count": 73
        }
      ]
    },
    {
      "cell_type": "code",
      "metadata": {
        "id": "Qw9WncFF_Xx7"
      },
      "source": [
        "df2019oct=df2019oct.loc[df2019oct.event_type == 'purchase']"
      ],
      "execution_count": null,
      "outputs": []
    },
    {
      "cell_type": "code",
      "metadata": {
        "colab": {
          "base_uri": "https://localhost:8080/"
        },
        "id": "svbP5evHAr8Q",
        "outputId": "d14ebc73-8ec0-45d1-9544-568b21633f8d"
      },
      "source": [
        "# simple data checking - get row and column of dataframe\n",
        "print(df2019oct.shape)"
      ],
      "execution_count": null,
      "outputs": [
        {
          "output_type": "stream",
          "name": "stdout",
          "text": [
            "(742849, 7)\n"
          ]
        }
      ]
    },
    {
      "cell_type": "code",
      "metadata": {
        "colab": {
          "base_uri": "https://localhost:8080/"
        },
        "id": "UDI7uZMcvIWG",
        "outputId": "506e226c-1267-442d-9dc5-e919a083e087"
      },
      "source": [
        "# simple data checking - get columns name\n",
        "print(df2019oct.columns)"
      ],
      "execution_count": null,
      "outputs": [
        {
          "output_type": "stream",
          "name": "stdout",
          "text": [
            "Index(['event_time', 'event_type', 'category_code', 'brand', 'price',\n",
            "       'user_id', 'user_session'],\n",
            "      dtype='object')\n"
          ]
        }
      ]
    },
    {
      "cell_type": "code",
      "metadata": {
        "colab": {
          "base_uri": "https://localhost:8080/"
        },
        "id": "oZvhrKVVrtuh",
        "outputId": "8988b165-9b5b-46ff-947b-0e2e1e25085b"
      },
      "source": [
        "# simple data checking - get dataframe general information\n",
        "df2019oct.info()"
      ],
      "execution_count": null,
      "outputs": [
        {
          "output_type": "stream",
          "name": "stdout",
          "text": [
            "<class 'pandas.core.frame.DataFrame'>\n",
            "Int64Index: 742849 entries, 162 to 42448657\n",
            "Data columns (total 7 columns):\n",
            " #   Column         Non-Null Count   Dtype  \n",
            "---  ------         --------------   -----  \n",
            " 0   event_time     742849 non-null  object \n",
            " 1   event_type     742849 non-null  object \n",
            " 2   category_code  569424 non-null  object \n",
            " 3   brand          684544 non-null  object \n",
            " 4   price          742849 non-null  float64\n",
            " 5   user_id        742849 non-null  int64  \n",
            " 6   user_session   742849 non-null  object \n",
            "dtypes: float64(1), int64(1), object(5)\n",
            "memory usage: 45.3+ MB\n"
          ]
        }
      ]
    },
    {
      "cell_type": "code",
      "metadata": {
        "colab": {
          "base_uri": "https://localhost:8080/"
        },
        "id": "Y5RWhvddZCUg",
        "outputId": "575af4a9-a1f4-4b6f-901f-1038f4e407e6"
      },
      "source": [
        "# check standard missing value - multiple column\n",
        "missing_data = df2019oct.isnull()\n",
        "for column in missing_data.columns.values.tolist():\n",
        "    print(column)\n",
        "    print (missing_data[column].value_counts())\n",
        "    print(\"\")  "
      ],
      "execution_count": null,
      "outputs": [
        {
          "output_type": "stream",
          "name": "stdout",
          "text": [
            "event_time\n",
            "False    742849\n",
            "Name: event_time, dtype: int64\n",
            "\n",
            "event_type\n",
            "False    742849\n",
            "Name: event_type, dtype: int64\n",
            "\n",
            "category_code\n",
            "False    569424\n",
            "True     173425\n",
            "Name: category_code, dtype: int64\n",
            "\n",
            "brand\n",
            "False    684544\n",
            "True      58305\n",
            "Name: brand, dtype: int64\n",
            "\n",
            "price\n",
            "False    742849\n",
            "Name: price, dtype: int64\n",
            "\n",
            "user_id\n",
            "False    742849\n",
            "Name: user_id, dtype: int64\n",
            "\n",
            "user_session\n",
            "False    742849\n",
            "Name: user_session, dtype: int64\n",
            "\n"
          ]
        }
      ]
    },
    {
      "cell_type": "code",
      "metadata": {
        "colab": {
          "base_uri": "https://localhost:8080/",
          "height": 417
        },
        "id": "cJD4qdBFTmA1",
        "outputId": "16ebfbea-2ba9-46d3-e3b3-39be0332ca34"
      },
      "source": [
        "# check standard missing value - category_code column\n",
        "df2019oct[df2019oct['category_code'].isnull()]"
      ],
      "execution_count": null,
      "outputs": [
        {
          "output_type": "execute_result",
          "data": {
            "text/html": [
              "<div>\n",
              "<style scoped>\n",
              "    .dataframe tbody tr th:only-of-type {\n",
              "        vertical-align: middle;\n",
              "    }\n",
              "\n",
              "    .dataframe tbody tr th {\n",
              "        vertical-align: top;\n",
              "    }\n",
              "\n",
              "    .dataframe thead th {\n",
              "        text-align: right;\n",
              "    }\n",
              "</style>\n",
              "<table border=\"1\" class=\"dataframe\">\n",
              "  <thead>\n",
              "    <tr style=\"text-align: right;\">\n",
              "      <th></th>\n",
              "      <th>event_time</th>\n",
              "      <th>event_type</th>\n",
              "      <th>category_code</th>\n",
              "      <th>brand</th>\n",
              "      <th>price</th>\n",
              "      <th>user_id</th>\n",
              "      <th>user_session</th>\n",
              "    </tr>\n",
              "  </thead>\n",
              "  <tbody>\n",
              "    <tr>\n",
              "      <th>379</th>\n",
              "      <td>2019-10-01 00:06:02 UTC</td>\n",
              "      <td>purchase</td>\n",
              "      <td>NaN</td>\n",
              "      <td>xiaomi</td>\n",
              "      <td>29.51</td>\n",
              "      <td>514591159</td>\n",
              "      <td>0e5dfc4b-2a55-43e6-8c05-97e1f07fbb56</td>\n",
              "    </tr>\n",
              "    <tr>\n",
              "      <th>1566</th>\n",
              "      <td>2019-10-01 02:19:12 UTC</td>\n",
              "      <td>purchase</td>\n",
              "      <td>NaN</td>\n",
              "      <td>pdw</td>\n",
              "      <td>391.26</td>\n",
              "      <td>516178643</td>\n",
              "      <td>4d74b49e-3838-43cc-ac2e-a0490942b464</td>\n",
              "    </tr>\n",
              "    <tr>\n",
              "      <th>1760</th>\n",
              "      <td>2019-10-01 02:19:59 UTC</td>\n",
              "      <td>purchase</td>\n",
              "      <td>NaN</td>\n",
              "      <td>NaN</td>\n",
              "      <td>153.16</td>\n",
              "      <td>517953667</td>\n",
              "      <td>7954f58c-158d-402d-9820-c502a5eea86d</td>\n",
              "    </tr>\n",
              "    <tr>\n",
              "      <th>1884</th>\n",
              "      <td>2019-10-01 02:20:28 UTC</td>\n",
              "      <td>purchase</td>\n",
              "      <td>NaN</td>\n",
              "      <td>NaN</td>\n",
              "      <td>91.12</td>\n",
              "      <td>554101070</td>\n",
              "      <td>5a29c401-c05b-4dcf-b9e6-78324875dfd4</td>\n",
              "    </tr>\n",
              "    <tr>\n",
              "      <th>2093</th>\n",
              "      <td>2019-10-01 02:21:07 UTC</td>\n",
              "      <td>purchase</td>\n",
              "      <td>NaN</td>\n",
              "      <td>omron</td>\n",
              "      <td>62.52</td>\n",
              "      <td>516815266</td>\n",
              "      <td>918c33db-9bb0-41b9-a148-47523330eddd</td>\n",
              "    </tr>\n",
              "    <tr>\n",
              "      <th>...</th>\n",
              "      <td>...</td>\n",
              "      <td>...</td>\n",
              "      <td>...</td>\n",
              "      <td>...</td>\n",
              "      <td>...</td>\n",
              "      <td>...</td>\n",
              "      <td>...</td>\n",
              "    </tr>\n",
              "    <tr>\n",
              "      <th>42447435</th>\n",
              "      <td>2019-10-31 23:49:26 UTC</td>\n",
              "      <td>purchase</td>\n",
              "      <td>NaN</td>\n",
              "      <td>xiaomi</td>\n",
              "      <td>29.58</td>\n",
              "      <td>514905226</td>\n",
              "      <td>6f25d2de-bb1c-4e68-b848-f03372fb6e7d</td>\n",
              "    </tr>\n",
              "    <tr>\n",
              "      <th>42447626</th>\n",
              "      <td>2019-10-31 23:51:02 UTC</td>\n",
              "      <td>purchase</td>\n",
              "      <td>NaN</td>\n",
              "      <td>NaN</td>\n",
              "      <td>419.55</td>\n",
              "      <td>542728394</td>\n",
              "      <td>e62b779b-d70e-4468-8f35-4bcf6879e471</td>\n",
              "    </tr>\n",
              "    <tr>\n",
              "      <th>42447890</th>\n",
              "      <td>2019-10-31 23:53:18 UTC</td>\n",
              "      <td>purchase</td>\n",
              "      <td>NaN</td>\n",
              "      <td>NaN</td>\n",
              "      <td>419.55</td>\n",
              "      <td>542728394</td>\n",
              "      <td>e62b779b-d70e-4468-8f35-4bcf6879e471</td>\n",
              "    </tr>\n",
              "    <tr>\n",
              "      <th>42448049</th>\n",
              "      <td>2019-10-31 23:54:33 UTC</td>\n",
              "      <td>purchase</td>\n",
              "      <td>NaN</td>\n",
              "      <td>NaN</td>\n",
              "      <td>143.89</td>\n",
              "      <td>513040838</td>\n",
              "      <td>639dc99e-72cd-433d-ad90-24c78d71418f</td>\n",
              "    </tr>\n",
              "    <tr>\n",
              "      <th>42448148</th>\n",
              "      <td>2019-10-31 23:55:13 UTC</td>\n",
              "      <td>purchase</td>\n",
              "      <td>NaN</td>\n",
              "      <td>NaN</td>\n",
              "      <td>102.45</td>\n",
              "      <td>516604399</td>\n",
              "      <td>a98bd433-57ac-42d0-ba81-e18b135a7a16</td>\n",
              "    </tr>\n",
              "  </tbody>\n",
              "</table>\n",
              "<p>173425 rows × 7 columns</p>\n",
              "</div>"
            ],
            "text/plain": [
              "                       event_time  ...                          user_session\n",
              "379       2019-10-01 00:06:02 UTC  ...  0e5dfc4b-2a55-43e6-8c05-97e1f07fbb56\n",
              "1566      2019-10-01 02:19:12 UTC  ...  4d74b49e-3838-43cc-ac2e-a0490942b464\n",
              "1760      2019-10-01 02:19:59 UTC  ...  7954f58c-158d-402d-9820-c502a5eea86d\n",
              "1884      2019-10-01 02:20:28 UTC  ...  5a29c401-c05b-4dcf-b9e6-78324875dfd4\n",
              "2093      2019-10-01 02:21:07 UTC  ...  918c33db-9bb0-41b9-a148-47523330eddd\n",
              "...                           ...  ...                                   ...\n",
              "42447435  2019-10-31 23:49:26 UTC  ...  6f25d2de-bb1c-4e68-b848-f03372fb6e7d\n",
              "42447626  2019-10-31 23:51:02 UTC  ...  e62b779b-d70e-4468-8f35-4bcf6879e471\n",
              "42447890  2019-10-31 23:53:18 UTC  ...  e62b779b-d70e-4468-8f35-4bcf6879e471\n",
              "42448049  2019-10-31 23:54:33 UTC  ...  639dc99e-72cd-433d-ad90-24c78d71418f\n",
              "42448148  2019-10-31 23:55:13 UTC  ...  a98bd433-57ac-42d0-ba81-e18b135a7a16\n",
              "\n",
              "[173425 rows x 7 columns]"
            ]
          },
          "metadata": {},
          "execution_count": 79
        }
      ]
    },
    {
      "cell_type": "code",
      "metadata": {
        "colab": {
          "base_uri": "https://localhost:8080/",
          "height": 35
        },
        "id": "IHPEUgIaZOFu",
        "outputId": "77f47010-4a44-4341-8b69-d4f5b2741a29"
      },
      "source": [
        "#check the most frequent value object \n",
        "df2019oct['category_code'].value_counts().idxmax()"
      ],
      "execution_count": null,
      "outputs": [
        {
          "output_type": "execute_result",
          "data": {
            "application/vnd.google.colaboratory.intrinsic+json": {
              "type": "string"
            },
            "text/plain": [
              "'electronics.smartphone'"
            ]
          },
          "metadata": {},
          "execution_count": 80
        }
      ]
    },
    {
      "cell_type": "code",
      "metadata": {
        "colab": {
          "base_uri": "https://localhost:8080/",
          "height": 417
        },
        "id": "QDEoNd8MZWII",
        "outputId": "95fe10ae-c3b9-40e7-c988-736357611edd"
      },
      "source": [
        "# check standard missing value - brand column\n",
        "df2019oct[df2019oct['brand'].isnull()]"
      ],
      "execution_count": null,
      "outputs": [
        {
          "output_type": "execute_result",
          "data": {
            "text/html": [
              "<div>\n",
              "<style scoped>\n",
              "    .dataframe tbody tr th:only-of-type {\n",
              "        vertical-align: middle;\n",
              "    }\n",
              "\n",
              "    .dataframe tbody tr th {\n",
              "        vertical-align: top;\n",
              "    }\n",
              "\n",
              "    .dataframe thead th {\n",
              "        text-align: right;\n",
              "    }\n",
              "</style>\n",
              "<table border=\"1\" class=\"dataframe\">\n",
              "  <thead>\n",
              "    <tr style=\"text-align: right;\">\n",
              "      <th></th>\n",
              "      <th>event_time</th>\n",
              "      <th>event_type</th>\n",
              "      <th>category_code</th>\n",
              "      <th>brand</th>\n",
              "      <th>price</th>\n",
              "      <th>user_id</th>\n",
              "      <th>user_session</th>\n",
              "    </tr>\n",
              "  </thead>\n",
              "  <tbody>\n",
              "    <tr>\n",
              "      <th>1760</th>\n",
              "      <td>2019-10-01 02:19:59 UTC</td>\n",
              "      <td>purchase</td>\n",
              "      <td>NaN</td>\n",
              "      <td>NaN</td>\n",
              "      <td>153.16</td>\n",
              "      <td>517953667</td>\n",
              "      <td>7954f58c-158d-402d-9820-c502a5eea86d</td>\n",
              "    </tr>\n",
              "    <tr>\n",
              "      <th>1884</th>\n",
              "      <td>2019-10-01 02:20:28 UTC</td>\n",
              "      <td>purchase</td>\n",
              "      <td>NaN</td>\n",
              "      <td>NaN</td>\n",
              "      <td>91.12</td>\n",
              "      <td>554101070</td>\n",
              "      <td>5a29c401-c05b-4dcf-b9e6-78324875dfd4</td>\n",
              "    </tr>\n",
              "    <tr>\n",
              "      <th>2321</th>\n",
              "      <td>2019-10-01 02:21:45 UTC</td>\n",
              "      <td>purchase</td>\n",
              "      <td>NaN</td>\n",
              "      <td>NaN</td>\n",
              "      <td>60.49</td>\n",
              "      <td>517953667</td>\n",
              "      <td>7954f58c-158d-402d-9820-c502a5eea86d</td>\n",
              "    </tr>\n",
              "    <tr>\n",
              "      <th>2778</th>\n",
              "      <td>2019-10-01 02:23:03 UTC</td>\n",
              "      <td>purchase</td>\n",
              "      <td>construction.tools.saw</td>\n",
              "      <td>NaN</td>\n",
              "      <td>120.47</td>\n",
              "      <td>513484630</td>\n",
              "      <td>92bc0a54-4dab-4748-9a39-edbb4c760254</td>\n",
              "    </tr>\n",
              "    <tr>\n",
              "      <th>3978</th>\n",
              "      <td>2019-10-01 02:26:02 UTC</td>\n",
              "      <td>purchase</td>\n",
              "      <td>NaN</td>\n",
              "      <td>NaN</td>\n",
              "      <td>33.46</td>\n",
              "      <td>512594464</td>\n",
              "      <td>f18609cf-7cab-47cf-aaf8-8622202722bd</td>\n",
              "    </tr>\n",
              "    <tr>\n",
              "      <th>...</th>\n",
              "      <td>...</td>\n",
              "      <td>...</td>\n",
              "      <td>...</td>\n",
              "      <td>...</td>\n",
              "      <td>...</td>\n",
              "      <td>...</td>\n",
              "      <td>...</td>\n",
              "    </tr>\n",
              "    <tr>\n",
              "      <th>42446989</th>\n",
              "      <td>2019-10-31 23:45:46 UTC</td>\n",
              "      <td>purchase</td>\n",
              "      <td>NaN</td>\n",
              "      <td>NaN</td>\n",
              "      <td>115.58</td>\n",
              "      <td>513911691</td>\n",
              "      <td>e6e67023-2258-4341-bd66-a9500d7da596</td>\n",
              "    </tr>\n",
              "    <tr>\n",
              "      <th>42447626</th>\n",
              "      <td>2019-10-31 23:51:02 UTC</td>\n",
              "      <td>purchase</td>\n",
              "      <td>NaN</td>\n",
              "      <td>NaN</td>\n",
              "      <td>419.55</td>\n",
              "      <td>542728394</td>\n",
              "      <td>e62b779b-d70e-4468-8f35-4bcf6879e471</td>\n",
              "    </tr>\n",
              "    <tr>\n",
              "      <th>42447890</th>\n",
              "      <td>2019-10-31 23:53:18 UTC</td>\n",
              "      <td>purchase</td>\n",
              "      <td>NaN</td>\n",
              "      <td>NaN</td>\n",
              "      <td>419.55</td>\n",
              "      <td>542728394</td>\n",
              "      <td>e62b779b-d70e-4468-8f35-4bcf6879e471</td>\n",
              "    </tr>\n",
              "    <tr>\n",
              "      <th>42448049</th>\n",
              "      <td>2019-10-31 23:54:33 UTC</td>\n",
              "      <td>purchase</td>\n",
              "      <td>NaN</td>\n",
              "      <td>NaN</td>\n",
              "      <td>143.89</td>\n",
              "      <td>513040838</td>\n",
              "      <td>639dc99e-72cd-433d-ad90-24c78d71418f</td>\n",
              "    </tr>\n",
              "    <tr>\n",
              "      <th>42448148</th>\n",
              "      <td>2019-10-31 23:55:13 UTC</td>\n",
              "      <td>purchase</td>\n",
              "      <td>NaN</td>\n",
              "      <td>NaN</td>\n",
              "      <td>102.45</td>\n",
              "      <td>516604399</td>\n",
              "      <td>a98bd433-57ac-42d0-ba81-e18b135a7a16</td>\n",
              "    </tr>\n",
              "  </tbody>\n",
              "</table>\n",
              "<p>58305 rows × 7 columns</p>\n",
              "</div>"
            ],
            "text/plain": [
              "                       event_time  ...                          user_session\n",
              "1760      2019-10-01 02:19:59 UTC  ...  7954f58c-158d-402d-9820-c502a5eea86d\n",
              "1884      2019-10-01 02:20:28 UTC  ...  5a29c401-c05b-4dcf-b9e6-78324875dfd4\n",
              "2321      2019-10-01 02:21:45 UTC  ...  7954f58c-158d-402d-9820-c502a5eea86d\n",
              "2778      2019-10-01 02:23:03 UTC  ...  92bc0a54-4dab-4748-9a39-edbb4c760254\n",
              "3978      2019-10-01 02:26:02 UTC  ...  f18609cf-7cab-47cf-aaf8-8622202722bd\n",
              "...                           ...  ...                                   ...\n",
              "42446989  2019-10-31 23:45:46 UTC  ...  e6e67023-2258-4341-bd66-a9500d7da596\n",
              "42447626  2019-10-31 23:51:02 UTC  ...  e62b779b-d70e-4468-8f35-4bcf6879e471\n",
              "42447890  2019-10-31 23:53:18 UTC  ...  e62b779b-d70e-4468-8f35-4bcf6879e471\n",
              "42448049  2019-10-31 23:54:33 UTC  ...  639dc99e-72cd-433d-ad90-24c78d71418f\n",
              "42448148  2019-10-31 23:55:13 UTC  ...  a98bd433-57ac-42d0-ba81-e18b135a7a16\n",
              "\n",
              "[58305 rows x 7 columns]"
            ]
          },
          "metadata": {},
          "execution_count": 81
        }
      ]
    },
    {
      "cell_type": "code",
      "metadata": {
        "colab": {
          "base_uri": "https://localhost:8080/",
          "height": 35
        },
        "id": "YGMKQRidZsST",
        "outputId": "7debc35c-0523-42d1-a041-76f1e105465b"
      },
      "source": [
        "# check the most frequent value object - brand column\n",
        "df2019oct['brand'].value_counts().idxmax()"
      ],
      "execution_count": null,
      "outputs": [
        {
          "output_type": "execute_result",
          "data": {
            "application/vnd.google.colaboratory.intrinsic+json": {
              "type": "string"
            },
            "text/plain": [
              "'samsung'"
            ]
          },
          "metadata": {},
          "execution_count": 82
        }
      ]
    },
    {
      "cell_type": "code",
      "metadata": {
        "id": "JoAFapMWWW0H"
      },
      "source": [
        "# handle missing data - replace values with the most frequent value object - category_code column\n",
        "df2019oct['category_code'].replace(np.nan, 'electronics.smartphone', inplace=True)"
      ],
      "execution_count": null,
      "outputs": []
    },
    {
      "cell_type": "code",
      "metadata": {
        "id": "zapiAI9QKNpx"
      },
      "source": [
        "# handle missing data - replace values with the most frequent value object- brand column\n",
        "df2019oct['brand'].replace(np.nan, 'samsung', inplace=True)"
      ],
      "execution_count": null,
      "outputs": []
    },
    {
      "cell_type": "code",
      "metadata": {
        "colab": {
          "base_uri": "https://localhost:8080/"
        },
        "id": "-GzWr5_qLAXR",
        "outputId": "549bd787-eb23-43a1-897c-8d874f98ddeb"
      },
      "source": [
        "# check again standard missing value - multiple column\n",
        "missing_data = df2019oct.isnull()\n",
        "for column in missing_data.columns.values.tolist():\n",
        "    print(column)\n",
        "    print (missing_data[column].value_counts())\n",
        "    print(\"\")"
      ],
      "execution_count": null,
      "outputs": [
        {
          "output_type": "stream",
          "name": "stdout",
          "text": [
            "event_time\n",
            "False    742849\n",
            "Name: event_time, dtype: int64\n",
            "\n",
            "event_type\n",
            "False    742849\n",
            "Name: event_type, dtype: int64\n",
            "\n",
            "category_code\n",
            "False    742849\n",
            "Name: category_code, dtype: int64\n",
            "\n",
            "brand\n",
            "False    742849\n",
            "Name: brand, dtype: int64\n",
            "\n",
            "price\n",
            "False    742849\n",
            "Name: price, dtype: int64\n",
            "\n",
            "user_id\n",
            "False    742849\n",
            "Name: user_id, dtype: int64\n",
            "\n",
            "user_session\n",
            "False    742849\n",
            "Name: user_session, dtype: int64\n",
            "\n"
          ]
        }
      ]
    },
    {
      "cell_type": "markdown",
      "metadata": {
        "id": "--pzrOILM-a-"
      },
      "source": [
        "## **Handle Outlier**"
      ]
    },
    {
      "cell_type": "code",
      "metadata": {
        "colab": {
          "base_uri": "https://localhost:8080/"
        },
        "id": "gByWNPlhLGW_",
        "outputId": "e988e47a-5d33-46a9-81a9-caec79a02fc8"
      },
      "source": [
        "# simple data checking - get dataframe description\n",
        "df2019oct.describe()"
      ],
      "execution_count": null,
      "outputs": [
        {
          "output_type": "execute_result",
          "data": {
            "text/html": [
              "<div>\n",
              "<style scoped>\n",
              "    .dataframe tbody tr th:only-of-type {\n",
              "        vertical-align: middle;\n",
              "    }\n",
              "\n",
              "    .dataframe tbody tr th {\n",
              "        vertical-align: top;\n",
              "    }\n",
              "\n",
              "    .dataframe thead th {\n",
              "        text-align: right;\n",
              "    }\n",
              "</style>\n",
              "<table border=\"1\" class=\"dataframe\">\n",
              "  <thead>\n",
              "    <tr style=\"text-align: right;\">\n",
              "      <th></th>\n",
              "      <th>price</th>\n",
              "      <th>user_id</th>\n",
              "    </tr>\n",
              "  </thead>\n",
              "  <tbody>\n",
              "    <tr>\n",
              "      <th>count</th>\n",
              "      <td>742849.000000</td>\n",
              "      <td>7.428490e+05</td>\n",
              "    </tr>\n",
              "    <tr>\n",
              "      <th>mean</th>\n",
              "      <td>309.561569</td>\n",
              "      <td>5.356101e+08</td>\n",
              "    </tr>\n",
              "    <tr>\n",
              "      <th>std</th>\n",
              "      <td>348.873241</td>\n",
              "      <td>1.826311e+07</td>\n",
              "    </tr>\n",
              "    <tr>\n",
              "      <th>min</th>\n",
              "      <td>0.770000</td>\n",
              "      <td>2.646498e+08</td>\n",
              "    </tr>\n",
              "    <tr>\n",
              "      <th>25%</th>\n",
              "      <td>87.490000</td>\n",
              "      <td>5.167003e+08</td>\n",
              "    </tr>\n",
              "    <tr>\n",
              "      <th>50%</th>\n",
              "      <td>179.840000</td>\n",
              "      <td>5.351349e+08</td>\n",
              "    </tr>\n",
              "    <tr>\n",
              "      <th>75%</th>\n",
              "      <td>375.210000</td>\n",
              "      <td>5.536670e+08</td>\n",
              "    </tr>\n",
              "    <tr>\n",
              "      <th>max</th>\n",
              "      <td>2574.070000</td>\n",
              "      <td>5.662783e+08</td>\n",
              "    </tr>\n",
              "  </tbody>\n",
              "</table>\n",
              "</div>"
            ],
            "text/plain": [
              "               price       user_id\n",
              "count  742849.000000  7.428490e+05\n",
              "mean      309.561569  5.356101e+08\n",
              "std       348.873241  1.826311e+07\n",
              "min         0.770000  2.646498e+08\n",
              "25%        87.490000  5.167003e+08\n",
              "50%       179.840000  5.351349e+08\n",
              "75%       375.210000  5.536670e+08\n",
              "max      2574.070000  5.662783e+08"
            ]
          },
          "metadata": {},
          "execution_count": 107
        }
      ]
    },
    {
      "cell_type": "code",
      "metadata": {
        "colab": {
          "base_uri": "https://localhost:8080/"
        },
        "id": "Wn1rX4zNMHdJ",
        "outputId": "eaeaa2da-5545-4c20-c190-f79416f472de"
      },
      "source": [
        "df2019oct.head(10)"
      ],
      "execution_count": null,
      "outputs": [
        {
          "output_type": "execute_result",
          "data": {
            "text/html": [
              "<div>\n",
              "<style scoped>\n",
              "    .dataframe tbody tr th:only-of-type {\n",
              "        vertical-align: middle;\n",
              "    }\n",
              "\n",
              "    .dataframe tbody tr th {\n",
              "        vertical-align: top;\n",
              "    }\n",
              "\n",
              "    .dataframe thead th {\n",
              "        text-align: right;\n",
              "    }\n",
              "</style>\n",
              "<table border=\"1\" class=\"dataframe\">\n",
              "  <thead>\n",
              "    <tr style=\"text-align: right;\">\n",
              "      <th></th>\n",
              "      <th>event_time</th>\n",
              "      <th>event_type</th>\n",
              "      <th>category_code</th>\n",
              "      <th>brand</th>\n",
              "      <th>price</th>\n",
              "      <th>user_id</th>\n",
              "      <th>user_session</th>\n",
              "    </tr>\n",
              "  </thead>\n",
              "  <tbody>\n",
              "    <tr>\n",
              "      <th>162</th>\n",
              "      <td>2019-10-01 00:02:14 UTC</td>\n",
              "      <td>purchase</td>\n",
              "      <td>electronics.smartphone</td>\n",
              "      <td>samsung</td>\n",
              "      <td>130.76</td>\n",
              "      <td>543272936</td>\n",
              "      <td>8187d148-3c41-46d4-b0c0-9c08cd9dc564</td>\n",
              "    </tr>\n",
              "    <tr>\n",
              "      <th>308</th>\n",
              "      <td>2019-10-01 00:04:37 UTC</td>\n",
              "      <td>purchase</td>\n",
              "      <td>electronics.smartphone</td>\n",
              "      <td>apple</td>\n",
              "      <td>642.69</td>\n",
              "      <td>551377651</td>\n",
              "      <td>3c80f0d6-e9ec-4181-8c5c-837a30be2d68</td>\n",
              "    </tr>\n",
              "    <tr>\n",
              "      <th>379</th>\n",
              "      <td>2019-10-01 00:06:02 UTC</td>\n",
              "      <td>purchase</td>\n",
              "      <td>electronics.smartphone</td>\n",
              "      <td>xiaomi</td>\n",
              "      <td>29.51</td>\n",
              "      <td>514591159</td>\n",
              "      <td>0e5dfc4b-2a55-43e6-8c05-97e1f07fbb56</td>\n",
              "    </tr>\n",
              "    <tr>\n",
              "      <th>442</th>\n",
              "      <td>2019-10-01 00:07:07 UTC</td>\n",
              "      <td>purchase</td>\n",
              "      <td>furniture.bathroom.toilet</td>\n",
              "      <td>santeri</td>\n",
              "      <td>54.42</td>\n",
              "      <td>555332717</td>\n",
              "      <td>1dea3ee2-2ded-42e8-8e7a-4e2ad6ae942f</td>\n",
              "    </tr>\n",
              "    <tr>\n",
              "      <th>574</th>\n",
              "      <td>2019-10-01 00:09:26 UTC</td>\n",
              "      <td>purchase</td>\n",
              "      <td>electronics.audio.headphone</td>\n",
              "      <td>apple</td>\n",
              "      <td>189.91</td>\n",
              "      <td>524601178</td>\n",
              "      <td>2af9b570-0942-4dcd-8f25-4d84fba82553</td>\n",
              "    </tr>\n",
              "    <tr>\n",
              "      <th>603</th>\n",
              "      <td>2019-10-01 00:09:54 UTC</td>\n",
              "      <td>purchase</td>\n",
              "      <td>electronics.audio.headphone</td>\n",
              "      <td>apple</td>\n",
              "      <td>161.98</td>\n",
              "      <td>551377651</td>\n",
              "      <td>3c80f0d6-e9ec-4181-8c5c-837a30be2d68</td>\n",
              "    </tr>\n",
              "    <tr>\n",
              "      <th>618</th>\n",
              "      <td>2019-10-01 00:10:08 UTC</td>\n",
              "      <td>purchase</td>\n",
              "      <td>electronics.smartphone</td>\n",
              "      <td>apple</td>\n",
              "      <td>515.67</td>\n",
              "      <td>524325294</td>\n",
              "      <td>0b74a829-f9d7-4654-b5b0-35bc9822c238</td>\n",
              "    </tr>\n",
              "    <tr>\n",
              "      <th>672</th>\n",
              "      <td>2019-10-01 00:10:56 UTC</td>\n",
              "      <td>purchase</td>\n",
              "      <td>appliances.environment.air_heater</td>\n",
              "      <td>oasis</td>\n",
              "      <td>28.03</td>\n",
              "      <td>548691404</td>\n",
              "      <td>b67cdbcb-b073-4271-b365-803c6fce53b0</td>\n",
              "    </tr>\n",
              "    <tr>\n",
              "      <th>749</th>\n",
              "      <td>2019-10-01 00:12:14 UTC</td>\n",
              "      <td>purchase</td>\n",
              "      <td>electronics.audio.headphone</td>\n",
              "      <td>apple</td>\n",
              "      <td>171.56</td>\n",
              "      <td>533624186</td>\n",
              "      <td>e5ac3caa-e6d5-4d6b-ae06-2c18cd9ca683</td>\n",
              "    </tr>\n",
              "    <tr>\n",
              "      <th>860</th>\n",
              "      <td>2019-10-01 00:14:14 UTC</td>\n",
              "      <td>purchase</td>\n",
              "      <td>electronics.smartphone</td>\n",
              "      <td>vivo</td>\n",
              "      <td>463.31</td>\n",
              "      <td>555083442</td>\n",
              "      <td>83d12d1a-5452-4fa0-abbb-d9f492f8b562</td>\n",
              "    </tr>\n",
              "  </tbody>\n",
              "</table>\n",
              "</div>"
            ],
            "text/plain": [
              "                  event_time  ...                          user_session\n",
              "162  2019-10-01 00:02:14 UTC  ...  8187d148-3c41-46d4-b0c0-9c08cd9dc564\n",
              "308  2019-10-01 00:04:37 UTC  ...  3c80f0d6-e9ec-4181-8c5c-837a30be2d68\n",
              "379  2019-10-01 00:06:02 UTC  ...  0e5dfc4b-2a55-43e6-8c05-97e1f07fbb56\n",
              "442  2019-10-01 00:07:07 UTC  ...  1dea3ee2-2ded-42e8-8e7a-4e2ad6ae942f\n",
              "574  2019-10-01 00:09:26 UTC  ...  2af9b570-0942-4dcd-8f25-4d84fba82553\n",
              "603  2019-10-01 00:09:54 UTC  ...  3c80f0d6-e9ec-4181-8c5c-837a30be2d68\n",
              "618  2019-10-01 00:10:08 UTC  ...  0b74a829-f9d7-4654-b5b0-35bc9822c238\n",
              "672  2019-10-01 00:10:56 UTC  ...  b67cdbcb-b073-4271-b365-803c6fce53b0\n",
              "749  2019-10-01 00:12:14 UTC  ...  e5ac3caa-e6d5-4d6b-ae06-2c18cd9ca683\n",
              "860  2019-10-01 00:14:14 UTC  ...  83d12d1a-5452-4fa0-abbb-d9f492f8b562\n",
              "\n",
              "[10 rows x 7 columns]"
            ]
          },
          "metadata": {},
          "execution_count": 108
        }
      ]
    },
    {
      "cell_type": "code",
      "metadata": {
        "id": "y5i9YY2sMelJ"
      },
      "source": [
        "# assign variable for column in numeric type\n",
        "numeric_column = ['price']"
      ],
      "execution_count": null,
      "outputs": []
    },
    {
      "cell_type": "code",
      "metadata": {
        "colab": {
          "base_uri": "https://localhost:8080/"
        },
        "id": "QfzTO9lfNYQl",
        "outputId": "88fedef3-b51c-4e58-ea20-8d8343e34d7b"
      },
      "source": [
        "# check outlier using boxplot - 1\n",
        "df2019oct.boxplot(\n",
        "    column=['price'],\n",
        "    fontsize=10,\n",
        "    rot=0,\n",
        "    grid=False,\n",
        "    figsize=(5,5),\n",
        "    vert=False\n",
        "    )"
      ],
      "execution_count": null,
      "outputs": [
        {
          "output_type": "execute_result",
          "data": {
            "text/plain": [
              "<matplotlib.axes._subplots.AxesSubplot at 0x7fcc778046d0>"
            ]
          },
          "metadata": {},
          "execution_count": 110
        },
        {
          "output_type": "display_data",
          "data": {
            "image/png": "[encoded data removed]",
            "text/plain": [
              "<Figure size 360x360 with 1 Axes>"
            ]
          },
          "metadata": {
            "needs_background": "light"
          }
        }
      ]
    },
    {
      "cell_type": "code",
      "metadata": {
        "colab": {
          "base_uri": "https://localhost:8080/"
        },
        "id": "sZoBNMqbNnBx",
        "outputId": "222c262d-81a8-42d2-d9a0-4faba2a6e627"
      },
      "source": [
        "# get IQR for each numeric column\n",
        "Q1 = df2019oct[numeric_column].quantile(0.25)\n",
        "Q3 = df2019oct[numeric_column].quantile(0.75)\n",
        "IQR = Q3 - Q1\n",
        "boxplot_min = Q1 - 1.5 * IQR\n",
        "boxplot_max = Q3 + 1.5 * IQR\n",
        "print('Q1:\\n',Q1)\n",
        "print('\\nQ3:\\n',Q3)\n",
        "print('\\nIQR:\\n',IQR)\n",
        "print('\\nMin:\\n',boxplot_min)\n",
        "print('\\nMax:\\n',boxplot_max)"
      ],
      "execution_count": null,
      "outputs": [
        {
          "output_type": "stream",
          "name": "stdout",
          "text": [
            "Q1:\n",
            " price    87.49\n",
            "Name: 0.25, dtype: float64\n",
            "\n",
            "Q3:\n",
            " price    375.21\n",
            "Name: 0.75, dtype: float64\n",
            "\n",
            "IQR:\n",
            " price    287.72\n",
            "dtype: float64\n",
            "\n",
            "Min:\n",
            " price   -344.09\n",
            "dtype: float64\n",
            "\n",
            "Max:\n",
            " price    806.79\n",
            "dtype: float64\n"
          ]
        }
      ]
    },
    {
      "cell_type": "code",
      "metadata": {
        "id": "a5Iy8166O1Cu"
      },
      "source": [
        "# filter price\n",
        "filter_price_min = df2019oct['price']<boxplot_min['price']\n",
        "filter_price_max = df2019oct['price']>boxplot_max['price']\n",
        "\n",
        "df2019oct_non_outlier = df2019oct[(\n",
        "    filter_price_min|filter_price_max\n",
        "    )]"
      ],
      "execution_count": null,
      "outputs": []
    },
    {
      "cell_type": "code",
      "metadata": {
        "colab": {
          "base_uri": "https://localhost:8080/"
        },
        "id": "0V8YWn2qN642",
        "outputId": "13e96ffd-1c26-47c2-908f-1e0d9365bb29"
      },
      "source": [
        "df2019oct_non_outlier.shape"
      ],
      "execution_count": null,
      "outputs": [
        {
          "output_type": "execute_result",
          "data": {
            "text/plain": [
              "(71345, 7)"
            ]
          },
          "metadata": {},
          "execution_count": 113
        }
      ]
    },
    {
      "cell_type": "code",
      "metadata": {
        "colab": {
          "base_uri": "https://localhost:8080/"
        },
        "id": "7MJlryYqOl6l",
        "outputId": "ddbf6bb5-7ba3-4670-ef73-6412907b5fd3"
      },
      "source": [
        "df2019oct_non_outlier"
      ],
      "execution_count": null,
      "outputs": [
        {
          "output_type": "execute_result",
          "data": {
            "text/html": [
              "<div>\n",
              "<style scoped>\n",
              "    .dataframe tbody tr th:only-of-type {\n",
              "        vertical-align: middle;\n",
              "    }\n",
              "\n",
              "    .dataframe tbody tr th {\n",
              "        vertical-align: top;\n",
              "    }\n",
              "\n",
              "    .dataframe thead th {\n",
              "        text-align: right;\n",
              "    }\n",
              "</style>\n",
              "<table border=\"1\" class=\"dataframe\">\n",
              "  <thead>\n",
              "    <tr style=\"text-align: right;\">\n",
              "      <th></th>\n",
              "      <th>event_time</th>\n",
              "      <th>event_type</th>\n",
              "      <th>category_code</th>\n",
              "      <th>brand</th>\n",
              "      <th>price</th>\n",
              "      <th>user_id</th>\n",
              "      <th>user_session</th>\n",
              "    </tr>\n",
              "  </thead>\n",
              "  <tbody>\n",
              "    <tr>\n",
              "      <th>1649</th>\n",
              "      <td>2019-10-01 02:19:34 UTC</td>\n",
              "      <td>purchase</td>\n",
              "      <td>electronics.smartphone</td>\n",
              "      <td>apple</td>\n",
              "      <td>975.57</td>\n",
              "      <td>555160488</td>\n",
              "      <td>a1395546-c124-456c-9752-0f5cf883c63d</td>\n",
              "    </tr>\n",
              "    <tr>\n",
              "      <th>1905</th>\n",
              "      <td>2019-10-01 02:20:33 UTC</td>\n",
              "      <td>purchase</td>\n",
              "      <td>electronics.smartphone</td>\n",
              "      <td>apple</td>\n",
              "      <td>946.97</td>\n",
              "      <td>516198933</td>\n",
              "      <td>e1050ba4-5425-4b8e-9cc8-194878031718</td>\n",
              "    </tr>\n",
              "    <tr>\n",
              "      <th>2927</th>\n",
              "      <td>2019-10-01 02:23:25 UTC</td>\n",
              "      <td>purchase</td>\n",
              "      <td>electronics.smartphone</td>\n",
              "      <td>apple</td>\n",
              "      <td>1747.79</td>\n",
              "      <td>515384420</td>\n",
              "      <td>7f82b450-6c45-4346-96fb-ecf4ab25779c</td>\n",
              "    </tr>\n",
              "    <tr>\n",
              "      <th>5210</th>\n",
              "      <td>2019-10-01 02:28:40 UTC</td>\n",
              "      <td>purchase</td>\n",
              "      <td>electronics.smartphone</td>\n",
              "      <td>apple</td>\n",
              "      <td>975.57</td>\n",
              "      <td>552408931</td>\n",
              "      <td>e8b95f1a-5f87-40ab-b75a-40942d5a1726</td>\n",
              "    </tr>\n",
              "    <tr>\n",
              "      <th>6496</th>\n",
              "      <td>2019-10-01 02:31:01 UTC</td>\n",
              "      <td>purchase</td>\n",
              "      <td>electronics.smartphone</td>\n",
              "      <td>apple</td>\n",
              "      <td>1206.40</td>\n",
              "      <td>555462711</td>\n",
              "      <td>38c6d3f7-6c32-4fed-bca6-ef98e1746386</td>\n",
              "    </tr>\n",
              "    <tr>\n",
              "      <th>...</th>\n",
              "      <td>...</td>\n",
              "      <td>...</td>\n",
              "      <td>...</td>\n",
              "      <td>...</td>\n",
              "      <td>...</td>\n",
              "      <td>...</td>\n",
              "      <td>...</td>\n",
              "    </tr>\n",
              "    <tr>\n",
              "      <th>42446632</th>\n",
              "      <td>2019-10-31 23:42:46 UTC</td>\n",
              "      <td>purchase</td>\n",
              "      <td>electronics.smartphone</td>\n",
              "      <td>apple</td>\n",
              "      <td>1661.09</td>\n",
              "      <td>566278294</td>\n",
              "      <td>88aa1f8b-8a36-4767-a0e2-2b984c2190c1</td>\n",
              "    </tr>\n",
              "    <tr>\n",
              "      <th>42446893</th>\n",
              "      <td>2019-10-31 23:44:56 UTC</td>\n",
              "      <td>purchase</td>\n",
              "      <td>electronics.smartphone</td>\n",
              "      <td>samsung</td>\n",
              "      <td>1142.62</td>\n",
              "      <td>560068016</td>\n",
              "      <td>ce520a95-f8eb-4c7a-9999-20eb12d26305</td>\n",
              "    </tr>\n",
              "    <tr>\n",
              "      <th>42447140</th>\n",
              "      <td>2019-10-31 23:46:47 UTC</td>\n",
              "      <td>purchase</td>\n",
              "      <td>computers.desktop</td>\n",
              "      <td>netechnics</td>\n",
              "      <td>1055.34</td>\n",
              "      <td>512786498</td>\n",
              "      <td>80ba8f6f-6385-4ff3-b0c6-74ca812bcdcb</td>\n",
              "    </tr>\n",
              "    <tr>\n",
              "      <th>42447440</th>\n",
              "      <td>2019-10-31 23:49:30 UTC</td>\n",
              "      <td>purchase</td>\n",
              "      <td>electronics.smartphone</td>\n",
              "      <td>apple</td>\n",
              "      <td>928.38</td>\n",
              "      <td>544501248</td>\n",
              "      <td>8ae7872b-55c5-4e61-ab65-803091bacd7c</td>\n",
              "    </tr>\n",
              "    <tr>\n",
              "      <th>42448362</th>\n",
              "      <td>2019-10-31 23:56:53 UTC</td>\n",
              "      <td>purchase</td>\n",
              "      <td>electronics.smartphone</td>\n",
              "      <td>apple</td>\n",
              "      <td>1054.60</td>\n",
              "      <td>533892594</td>\n",
              "      <td>3a5a3b01-2ab1-4a1d-a202-30d336e0057b</td>\n",
              "    </tr>\n",
              "  </tbody>\n",
              "</table>\n",
              "<p>71345 rows × 7 columns</p>\n",
              "</div>"
            ],
            "text/plain": [
              "                       event_time  ...                          user_session\n",
              "1649      2019-10-01 02:19:34 UTC  ...  a1395546-c124-456c-9752-0f5cf883c63d\n",
              "1905      2019-10-01 02:20:33 UTC  ...  e1050ba4-5425-4b8e-9cc8-194878031718\n",
              "2927      2019-10-01 02:23:25 UTC  ...  7f82b450-6c45-4346-96fb-ecf4ab25779c\n",
              "5210      2019-10-01 02:28:40 UTC  ...  e8b95f1a-5f87-40ab-b75a-40942d5a1726\n",
              "6496      2019-10-01 02:31:01 UTC  ...  38c6d3f7-6c32-4fed-bca6-ef98e1746386\n",
              "...                           ...  ...                                   ...\n",
              "42446632  2019-10-31 23:42:46 UTC  ...  88aa1f8b-8a36-4767-a0e2-2b984c2190c1\n",
              "42446893  2019-10-31 23:44:56 UTC  ...  ce520a95-f8eb-4c7a-9999-20eb12d26305\n",
              "42447140  2019-10-31 23:46:47 UTC  ...  80ba8f6f-6385-4ff3-b0c6-74ca812bcdcb\n",
              "42447440  2019-10-31 23:49:30 UTC  ...  8ae7872b-55c5-4e61-ab65-803091bacd7c\n",
              "42448362  2019-10-31 23:56:53 UTC  ...  3a5a3b01-2ab1-4a1d-a202-30d336e0057b\n",
              "\n",
              "[71345 rows x 7 columns]"
            ]
          },
          "metadata": {},
          "execution_count": 114
        }
      ]
    },
    {
      "cell_type": "markdown",
      "metadata": {
        "id": "57FBj7aQmkhG"
      },
      "source": [
        "## **Handle Date Column**"
      ]
    },
    {
      "cell_type": "code",
      "metadata": {
        "id": "VkEAYxayho1P",
        "colab": {
          "base_uri": "https://localhost:8080/"
        },
        "outputId": "ff15bc58-eecf-4f9f-968a-ec57e2fc4b67"
      },
      "source": [
        "# simple data checking - get row and column of dataframe\n",
        "print(df2019oct_non_outlier.shape)"
      ],
      "execution_count": null,
      "outputs": [
        {
          "output_type": "stream",
          "name": "stdout",
          "text": [
            "(71345, 7)\n"
          ]
        }
      ]
    },
    {
      "cell_type": "code",
      "metadata": {
        "id": "4wg1sIeTho1Q",
        "colab": {
          "base_uri": "https://localhost:8080/"
        },
        "outputId": "702272ae-b515-4141-9cb8-2ab534b5d593"
      },
      "source": [
        "# simple data checking - get columns name\n",
        "print(df2019oct_non_outlier.columns)"
      ],
      "execution_count": null,
      "outputs": [
        {
          "output_type": "stream",
          "name": "stdout",
          "text": [
            "Index(['event_time', 'event_type', 'category_code', 'brand', 'price',\n",
            "       'user_id', 'user_session'],\n",
            "      dtype='object')\n"
          ]
        }
      ]
    },
    {
      "cell_type": "code",
      "metadata": {
        "id": "7rZkN5ghho1R",
        "colab": {
          "base_uri": "https://localhost:8080/"
        },
        "outputId": "3fdcd4df-4254-4146-9f80-6480cca7560f"
      },
      "source": [
        "# simple data checking - get dataframe general information\n",
        "df2019oct_non_outlier.info()"
      ],
      "execution_count": null,
      "outputs": [
        {
          "output_type": "stream",
          "name": "stdout",
          "text": [
            "<class 'pandas.core.frame.DataFrame'>\n",
            "Int64Index: 71345 entries, 1649 to 42448362\n",
            "Data columns (total 7 columns):\n",
            " #   Column         Non-Null Count  Dtype  \n",
            "---  ------         --------------  -----  \n",
            " 0   event_time     71345 non-null  object \n",
            " 1   event_type     71345 non-null  object \n",
            " 2   category_code  71345 non-null  object \n",
            " 3   brand          71345 non-null  object \n",
            " 4   price          71345 non-null  float64\n",
            " 5   user_id        71345 non-null  int64  \n",
            " 6   user_session   71345 non-null  object \n",
            "dtypes: float64(1), int64(1), object(5)\n",
            "memory usage: 4.4+ MB\n"
          ]
        }
      ]
    },
    {
      "cell_type": "code",
      "metadata": {
        "id": "9HPaWWE_hiAM",
        "colab": {
          "base_uri": "https://localhost:8080/"
        },
        "outputId": "99d570b2-7f5a-4cd6-8c0c-90666dc95245"
      },
      "source": [
        "# simple data checking - check 1 of the date column\n",
        "df2019oct_non_outlier['event_time'].head(15)"
      ],
      "execution_count": null,
      "outputs": [
        {
          "output_type": "execute_result",
          "data": {
            "text/plain": [
              "1649     2019-10-01 02:19:34 UTC\n",
              "1905     2019-10-01 02:20:33 UTC\n",
              "2927     2019-10-01 02:23:25 UTC\n",
              "5210     2019-10-01 02:28:40 UTC\n",
              "6496     2019-10-01 02:31:01 UTC\n",
              "6904     2019-10-01 02:31:46 UTC\n",
              "7402     2019-10-01 02:32:38 UTC\n",
              "7619     2019-10-01 02:32:59 UTC\n",
              "7855     2019-10-01 02:33:23 UTC\n",
              "8097     2019-10-01 02:33:51 UTC\n",
              "8245     2019-10-01 02:34:08 UTC\n",
              "8385     2019-10-01 02:34:23 UTC\n",
              "8650     2019-10-01 02:34:58 UTC\n",
              "10212    2019-10-01 02:37:40 UTC\n",
              "11177    2019-10-01 02:39:22 UTC\n",
              "Name: event_time, dtype: object"
            ]
          },
          "metadata": {},
          "execution_count": 118
        }
      ]
    },
    {
      "cell_type": "code",
      "metadata": {
        "id": "4iXeEH2O_-ZI",
        "colab": {
          "base_uri": "https://localhost:8080/"
        },
        "outputId": "7ee693ce-d496-419d-b283-84c94c88591f"
      },
      "source": [
        "df2019oct_non_outlier['event_time'].value_counts()"
      ],
      "execution_count": null,
      "outputs": [
        {
          "output_type": "execute_result",
          "data": {
            "text/plain": [
              "2019-10-15 17:01:47 UTC    4\n",
              "2019-10-08 11:56:13 UTC    3\n",
              "2019-10-09 06:17:49 UTC    3\n",
              "2019-10-19 08:49:13 UTC    3\n",
              "2019-10-23 10:52:26 UTC    3\n",
              "                          ..\n",
              "2019-10-11 11:15:50 UTC    1\n",
              "2019-10-04 13:20:01 UTC    1\n",
              "2019-10-11 03:41:31 UTC    1\n",
              "2019-10-11 09:53:54 UTC    1\n",
              "2019-10-20 06:53:59 UTC    1\n",
              "Name: event_time, Length: 70023, dtype: int64"
            ]
          },
          "metadata": {},
          "execution_count": 119
        }
      ]
    },
    {
      "cell_type": "code",
      "metadata": {
        "id": "7NtFE0d3iGzr",
        "colab": {
          "base_uri": "https://localhost:8080/"
        },
        "outputId": "2e87034e-24ec-493a-b97e-17736ca05edc"
      },
      "source": [
        "# change to date type & change date format\n",
        "series_date_in_date = pd.to_datetime(df2019oct_non_outlier['event_time'],errors='raise',dayfirst=False,yearfirst=True,utc=True)\n",
        "series_date_in_date"
      ],
      "execution_count": null,
      "outputs": [
        {
          "output_type": "execute_result",
          "data": {
            "text/plain": [
              "1649       2019-10-01 02:19:34+00:00\n",
              "1905       2019-10-01 02:20:33+00:00\n",
              "2927       2019-10-01 02:23:25+00:00\n",
              "5210       2019-10-01 02:28:40+00:00\n",
              "6496       2019-10-01 02:31:01+00:00\n",
              "                      ...           \n",
              "42446632   2019-10-31 23:42:46+00:00\n",
              "42446893   2019-10-31 23:44:56+00:00\n",
              "42447140   2019-10-31 23:46:47+00:00\n",
              "42447440   2019-10-31 23:49:30+00:00\n",
              "42448362   2019-10-31 23:56:53+00:00\n",
              "Name: event_time, Length: 71345, dtype: datetime64[ns, UTC]"
            ]
          },
          "metadata": {},
          "execution_count": 120
        }
      ]
    },
    {
      "cell_type": "code",
      "metadata": {
        "id": "vwIHzytelUee"
      },
      "source": [
        "# parsing date column\n",
        "series_date_in_date = pd.to_datetime(df2019oct_non_outlier['event_time'],errors='raise',dayfirst=False,yearfirst=True,utc=True)"
      ],
      "execution_count": null,
      "outputs": []
    },
    {
      "cell_type": "code",
      "metadata": {
        "id": "MunYvJPnoOKD",
        "colab": {
          "base_uri": "https://localhost:8080/"
        },
        "outputId": "0ba18c4f-20ed-4ae8-d480-df1b5bfd926b"
      },
      "source": [
        "series_date_in_date.dt.day"
      ],
      "execution_count": null,
      "outputs": [
        {
          "output_type": "execute_result",
          "data": {
            "text/plain": [
              "1649         1\n",
              "1905         1\n",
              "2927         1\n",
              "5210         1\n",
              "6496         1\n",
              "            ..\n",
              "42446632    31\n",
              "42446893    31\n",
              "42447140    31\n",
              "42447440    31\n",
              "42448362    31\n",
              "Name: event_time, Length: 71345, dtype: int64"
            ]
          },
          "metadata": {},
          "execution_count": 122
        }
      ]
    },
    {
      "cell_type": "code",
      "metadata": {
        "id": "toQQm1bAoBsD",
        "colab": {
          "base_uri": "https://localhost:8080/"
        },
        "outputId": "0bfd8aa1-6ce7-4cf6-d6ac-6245a9e6ce17"
      },
      "source": [
        "series_date_in_date.dt.month"
      ],
      "execution_count": null,
      "outputs": [
        {
          "output_type": "execute_result",
          "data": {
            "text/plain": [
              "1649        10\n",
              "1905        10\n",
              "2927        10\n",
              "5210        10\n",
              "6496        10\n",
              "            ..\n",
              "42446632    10\n",
              "42446893    10\n",
              "42447140    10\n",
              "42447440    10\n",
              "42448362    10\n",
              "Name: event_time, Length: 71345, dtype: int64"
            ]
          },
          "metadata": {},
          "execution_count": 123
        }
      ]
    },
    {
      "cell_type": "code",
      "metadata": {
        "id": "H6QEXTzOoDbc",
        "colab": {
          "base_uri": "https://localhost:8080/"
        },
        "outputId": "7e2243c4-e667-4545-a0c7-703f575ef8b8"
      },
      "source": [
        "series_date_in_date.dt.year"
      ],
      "execution_count": null,
      "outputs": [
        {
          "output_type": "execute_result",
          "data": {
            "text/plain": [
              "1649        2019\n",
              "1905        2019\n",
              "2927        2019\n",
              "5210        2019\n",
              "6496        2019\n",
              "            ... \n",
              "42446632    2019\n",
              "42446893    2019\n",
              "42447140    2019\n",
              "42447440    2019\n",
              "42448362    2019\n",
              "Name: event_time, Length: 71345, dtype: int64"
            ]
          },
          "metadata": {},
          "execution_count": 124
        }
      ]
    },
    {
      "cell_type": "code",
      "metadata": {
        "id": "gptPgremDEQF",
        "colab": {
          "base_uri": "https://localhost:8080/"
        },
        "outputId": "389a9812-3413-4652-ff14-ef4c3411c09c"
      },
      "source": [
        "df2019oct_non_outlier['event_days_of_week'] = series_date_in_date.dt.day_name()\n",
        "df2019oct_non_outlier['event_days_of_week']"
      ],
      "execution_count": null,
      "outputs": [
        {
          "output_type": "stream",
          "name": "stderr",
          "text": [
            "/usr/local/lib/python3.7/dist-packages/ipykernel_launcher.py:1: SettingWithCopyWarning: \n",
            "A value is trying to be set on a copy of a slice from a DataFrame.\n",
            "Try using .loc[row_indexer,col_indexer] = value instead\n",
            "\n",
            "See the caveats in the documentation: https://pandas.pydata.org/pandas-docs/stable/user_guide/indexing.html#returning-a-view-versus-a-copy\n",
            "  \"\"\"Entry point for launching an IPython kernel.\n"
          ]
        },
        {
          "output_type": "execute_result",
          "data": {
            "text/plain": [
              "1649         Tuesday\n",
              "1905         Tuesday\n",
              "2927         Tuesday\n",
              "5210         Tuesday\n",
              "6496         Tuesday\n",
              "              ...   \n",
              "42446632    Thursday\n",
              "42446893    Thursday\n",
              "42447140    Thursday\n",
              "42447440    Thursday\n",
              "42448362    Thursday\n",
              "Name: event_days_of_week, Length: 71345, dtype: object"
            ]
          },
          "metadata": {},
          "execution_count": 125
        }
      ]
    },
    {
      "cell_type": "code",
      "metadata": {
        "colab": {
          "base_uri": "https://localhost:8080/"
        },
        "id": "1eMR-lgWSlls",
        "outputId": "596bf250-93b8-4124-967f-08fc2d0db1ca"
      },
      "source": [
        "df2019oct_non_outlier['event_date'] = series_date_in_date.dt.day\n",
        "df2019oct_non_outlier['event_date']"
      ],
      "execution_count": null,
      "outputs": [
        {
          "output_type": "stream",
          "name": "stderr",
          "text": [
            "/usr/local/lib/python3.7/dist-packages/ipykernel_launcher.py:1: SettingWithCopyWarning: \n",
            "A value is trying to be set on a copy of a slice from a DataFrame.\n",
            "Try using .loc[row_indexer,col_indexer] = value instead\n",
            "\n",
            "See the caveats in the documentation: https://pandas.pydata.org/pandas-docs/stable/user_guide/indexing.html#returning-a-view-versus-a-copy\n",
            "  \"\"\"Entry point for launching an IPython kernel.\n"
          ]
        },
        {
          "output_type": "execute_result",
          "data": {
            "text/plain": [
              "1649         1\n",
              "1905         1\n",
              "2927         1\n",
              "5210         1\n",
              "6496         1\n",
              "            ..\n",
              "42446632    31\n",
              "42446893    31\n",
              "42447140    31\n",
              "42447440    31\n",
              "42448362    31\n",
              "Name: event_date, Length: 71345, dtype: int64"
            ]
          },
          "metadata": {},
          "execution_count": 126
        }
      ]
    },
    {
      "cell_type": "code",
      "metadata": {
        "colab": {
          "base_uri": "https://localhost:8080/"
        },
        "id": "wiOpMCK0CdlY",
        "outputId": "3e05cbd0-cba9-4c69-aae4-a4e572d10b0a"
      },
      "source": [
        "df2019oct_non_outlier['event_hour'] = series_date_in_date.dt.hour\n",
        "df2019oct_non_outlier['event_hour']"
      ],
      "execution_count": null,
      "outputs": [
        {
          "output_type": "stream",
          "name": "stderr",
          "text": [
            "/usr/local/lib/python3.7/dist-packages/ipykernel_launcher.py:1: SettingWithCopyWarning: \n",
            "A value is trying to be set on a copy of a slice from a DataFrame.\n",
            "Try using .loc[row_indexer,col_indexer] = value instead\n",
            "\n",
            "See the caveats in the documentation: https://pandas.pydata.org/pandas-docs/stable/user_guide/indexing.html#returning-a-view-versus-a-copy\n",
            "  \"\"\"Entry point for launching an IPython kernel.\n"
          ]
        },
        {
          "output_type": "execute_result",
          "data": {
            "text/plain": [
              "1649         2\n",
              "1905         2\n",
              "2927         2\n",
              "5210         2\n",
              "6496         2\n",
              "            ..\n",
              "42446632    23\n",
              "42446893    23\n",
              "42447140    23\n",
              "42447440    23\n",
              "42448362    23\n",
              "Name: event_hour, Length: 71345, dtype: int64"
            ]
          },
          "metadata": {},
          "execution_count": 127
        }
      ]
    },
    {
      "cell_type": "markdown",
      "metadata": {
        "id": "sZ4aRs3QwAKJ"
      },
      "source": [
        "## **Best Products to Sell**"
      ]
    },
    {
      "cell_type": "code",
      "metadata": {
        "id": "nXS1cZgHOhOM"
      },
      "source": [
        "%matplotlib inline \n",
        "\n",
        "import matplotlib as mpl\n",
        "import matplotlib.pyplot as plt"
      ],
      "execution_count": null,
      "outputs": []
    },
    {
      "cell_type": "code",
      "metadata": {
        "colab": {
          "base_uri": "https://localhost:8080/"
        },
        "id": "itt3cJsDwG3b",
        "outputId": "2780323e-b1c1-4c6c-c251-5771b9357017"
      },
      "source": [
        "# Popular product in new user\n",
        "new_user = df2019oct_non_outlier.drop_duplicates()\n",
        "new_user['brand'].value_counts()"
      ],
      "execution_count": null,
      "outputs": [
        {
          "output_type": "execute_result",
          "data": {
            "text/plain": [
              "apple      59417\n",
              "samsung     6374\n",
              "acer         757\n",
              "huawei       362\n",
              "lenovo       340\n",
              "           ...  \n",
              "xxr            1\n",
              "trek           1\n",
              "hubert         1\n",
              "cybex          1\n",
              "stihl          1\n",
              "Name: brand, Length: 184, dtype: int64"
            ]
          },
          "metadata": {},
          "execution_count": 165
        }
      ]
    },
    {
      "cell_type": "code",
      "metadata": {
        "colab": {
          "base_uri": "https://localhost:8080/",
          "height": 365
        },
        "id": "6a4Og0Lymhzq",
        "outputId": "9ac47814-8287-409c-bd69-94ad71679cbf"
      },
      "source": [
        "# Top 10 popular brands in new user\n",
        "new_user['brand'].value_counts().nlargest(10).plot(\n",
        "    kind='bar', \n",
        "    xlabel='Brands', \n",
        "    ylabel='Quantity', \n",
        "    label='Top 10 Popular Brands in New User', \n",
        "    subplots=True\n",
        "    )"
      ],
      "execution_count": null,
      "outputs": [
        {
          "output_type": "execute_result",
          "data": {
            "text/plain": [
              "array([<matplotlib.axes._subplots.AxesSubplot object at 0x7fd73fb36310>],\n",
              "      dtype=object)"
            ]
          },
          "metadata": {},
          "execution_count": 45
        },
        {
          "output_type": "display_data",
          "data": {
            "image/png": "[encoded data removed]",
            "text/plain": [
              "<Figure size 432x288 with 1 Axes>"
            ]
          },
          "metadata": {
            "needs_background": "light"
          }
        }
      ]
    },
    {
      "cell_type": "code",
      "metadata": {
        "colab": {
          "base_uri": "https://localhost:8080/"
        },
        "id": "2ufj9H0Z6OkA",
        "outputId": "159484ae-bf3f-40a5-e1fc-047f8b28865e"
      },
      "source": [
        "# Popular product in repeat user\n",
        "repeat_user = df2019oct_non_outlier[df2019oct_non_outlier.duplicated()]\n",
        "repeat_user['brand'].value_counts()"
      ],
      "execution_count": null,
      "outputs": [
        {
          "output_type": "execute_result",
          "data": {
            "text/plain": [
              "apple      5\n",
              "samsung    1\n",
              "Name: brand, dtype: int64"
            ]
          },
          "metadata": {},
          "execution_count": 166
        }
      ]
    },
    {
      "cell_type": "code",
      "metadata": {
        "colab": {
          "base_uri": "https://localhost:8080/",
          "height": 365
        },
        "id": "I5B_YjywBIXe",
        "outputId": "8e699da8-198b-4a4b-b77e-ab63ccd7f807"
      },
      "source": [
        "# Top 10 popular brands in repeat user\n",
        "repeat_user['brand'].value_counts().nlargest(10).plot(\n",
        "    kind='bar', \n",
        "    xlabel='Brands', \n",
        "    ylabel='Quantity', \n",
        "    label='Top 10 Popular Brands in Repeat User', \n",
        "    subplots=True\n",
        "    )"
      ],
      "execution_count": null,
      "outputs": [
        {
          "output_type": "execute_result",
          "data": {
            "text/plain": [
              "array([<matplotlib.axes._subplots.AxesSubplot object at 0x7fd73f3e5090>],\n",
              "      dtype=object)"
            ]
          },
          "metadata": {},
          "execution_count": 47
        },
        {
          "output_type": "display_data",
          "data": {
            "image/png": "[encoded data removed]",
            "text/plain": [
              "<Figure size 432x288 with 1 Axes>"
            ]
          },
          "metadata": {
            "needs_background": "light"
          }
        }
      ]
    },
    {
      "cell_type": "code",
      "metadata": {
        "colab": {
          "base_uri": "https://localhost:8080/"
        },
        "id": "KunLARN5MVjD",
        "outputId": "d3a994a1-d9c5-4e4e-a5df-83f3089490fc"
      },
      "source": [
        "# Popular categories in new user\n",
        "new_user['category_code'].value_counts()"
      ],
      "execution_count": null,
      "outputs": [
        {
          "output_type": "execute_result",
          "data": {
            "text/plain": [
              "electronics.smartphone                    65171\n",
              "computers.notebook                         2823\n",
              "electronics.video.tv                       1002\n",
              "electronics.tablet                          528\n",
              "appliances.kitchen.refrigerators            417\n",
              "computers.desktop                           370\n",
              "electronics.clocks                          165\n",
              "appliances.environment.air_conditioner      110\n",
              "appliances.sewing_machine                   105\n",
              "furniture.living_room.sofa                  104\n",
              "appliances.kitchen.washer                    83\n",
              "appliances.environment.vacuum                58\n",
              "appliances.kitchen.coffee_machine            57\n",
              "electronics.camera.photo                     39\n",
              "electronics.audio.acoustic                   31\n",
              "sport.bicycle                                29\n",
              "construction.tools.saw                       27\n",
              "computers.components.videocards              25\n",
              "electronics.camera.video                     21\n",
              "kids.skates                                  21\n",
              "sport.trainer                                18\n",
              "construction.tools.generator                 17\n",
              "auto.accessories.player                      15\n",
              "electronics.video.projector                  14\n",
              "construction.tools.welding                   12\n",
              "appliances.kitchen.oven                      10\n",
              "kids.carriage                                 9\n",
              "computers.peripherals.printer                 8\n",
              "appliances.kitchen.hob                        6\n",
              "appliances.kitchen.dishwasher                 6\n",
              "appliances.kitchen.mixer                      6\n",
              "electronics.audio.music_tools.piano           5\n",
              "furniture.bedroom.bed                         5\n",
              "appliances.iron                               3\n",
              "auto.accessories.alarm                        3\n",
              "construction.tools.pump                       3\n",
              "furniture.living_room.cabinet                 3\n",
              "computers.peripherals.monitor                 2\n",
              "electronics.audio.microphone                  2\n",
              "furniture.kitchen.table                       1\n",
              "appliances.kitchen.steam_cooker               1\n",
              "auto.accessories.compressor                   1\n",
              "appliances.kitchen.microwave                  1\n",
              "appliances.environment.water_heater           1\n",
              "appliances.kitchen.grill                      1\n",
              "Name: category_code, dtype: int64"
            ]
          },
          "metadata": {},
          "execution_count": 48
        }
      ]
    },
    {
      "cell_type": "code",
      "metadata": {
        "colab": {
          "base_uri": "https://localhost:8080/",
          "height": 518
        },
        "id": "4Z0bk0C0BmBW",
        "outputId": "6ea3e0a6-44e3-4608-d455-7726570301aa"
      },
      "source": [
        "# Top 10 popular categories in new user\n",
        "new_user['category_code'].value_counts().nlargest(10).plot(\n",
        "    kind='bar', \n",
        "    xlabel='Categories', \n",
        "    ylabel='Quantity', \n",
        "    label='Top 10 Popular Categories in New User', \n",
        "    subplots=True\n",
        "    )"
      ],
      "execution_count": null,
      "outputs": [
        {
          "output_type": "execute_result",
          "data": {
            "text/plain": [
              "array([<matplotlib.axes._subplots.AxesSubplot object at 0x7fd73f352d90>],\n",
              "      dtype=object)"
            ]
          },
          "metadata": {},
          "execution_count": 49
        },
        {
          "output_type": "display_data",
          "data": {
            "image/png": "[encoded data removed]",
            "text/plain": [
              "<Figure size 432x288 with 1 Axes>"
            ]
          },
          "metadata": {
            "needs_background": "light"
          }
        }
      ]
    },
    {
      "cell_type": "code",
      "metadata": {
        "colab": {
          "base_uri": "https://localhost:8080/"
        },
        "id": "4Evod6xPMc6X",
        "outputId": "5debea75-9aa8-4143-e8a1-b37a0794fa28"
      },
      "source": [
        "# Popular categories in repeat user\n",
        "repeat_user['category_code'].value_counts()"
      ],
      "execution_count": null,
      "outputs": [
        {
          "output_type": "execute_result",
          "data": {
            "text/plain": [
              "electronics.smartphone    6\n",
              "Name: category_code, dtype: int64"
            ]
          },
          "metadata": {},
          "execution_count": 50
        }
      ]
    },
    {
      "cell_type": "code",
      "metadata": {
        "colab": {
          "base_uri": "https://localhost:8080/",
          "height": 437
        },
        "id": "wH87nPG-CEGZ",
        "outputId": "a4fd6f34-8329-4b29-b0e1-2910660f04cb"
      },
      "source": [
        "# Top 10 popular categories in repeat user\n",
        "repeat_user['category_code'].value_counts().nlargest(10).plot(\n",
        "    kind='bar', \n",
        "    xlabel='Categories', \n",
        "    ylabel='Quantity', \n",
        "    label='Top 10 Popular Categories in Repeat User', \n",
        "    subplots=True\n",
        "    )"
      ],
      "execution_count": null,
      "outputs": [
        {
          "output_type": "execute_result",
          "data": {
            "text/plain": [
              "array([<matplotlib.axes._subplots.AxesSubplot object at 0x7fd73f2bd550>],\n",
              "      dtype=object)"
            ]
          },
          "metadata": {},
          "execution_count": 51
        },
        {
          "output_type": "display_data",
          "data": {
            "image/png": "[encoded data removed]",
            "text/plain": [
              "<Figure size 432x288 with 1 Axes>"
            ]
          },
          "metadata": {
            "needs_background": "light"
          }
        }
      ]
    },
    {
      "cell_type": "markdown",
      "metadata": {
        "id": "jpS3G9caHhgA"
      },
      "source": [
        "## **Best Event to predict that User most likely to buy a product**"
      ]
    },
    {
      "cell_type": "code",
      "metadata": {
        "colab": {
          "base_uri": "https://localhost:8080/"
        },
        "id": "lglmfWr3HyD1",
        "outputId": "a001ab18-d130-49b0-ecfc-f3c0d703817e"
      },
      "source": [
        "# Best Event time\n",
        "new_user['event_time'].value_counts().nlargest(10)"
      ],
      "execution_count": null,
      "outputs": [
        {
          "output_type": "execute_result",
          "data": {
            "text/plain": [
              "2019-10-15 17:01:47 UTC    4\n",
              "2019-10-18 07:40:18 UTC    3\n",
              "2019-10-11 08:48:11 UTC    3\n",
              "2019-10-30 09:11:37 UTC    3\n",
              "2019-10-16 14:35:48 UTC    3\n",
              "2019-10-16 04:50:07 UTC    3\n",
              "2019-10-08 11:56:13 UTC    3\n",
              "2019-10-19 08:49:13 UTC    3\n",
              "2019-10-09 06:17:49 UTC    3\n",
              "2019-10-18 08:09:04 UTC    3\n",
              "Name: event_time, dtype: int64"
            ]
          },
          "metadata": {},
          "execution_count": 52
        }
      ]
    },
    {
      "cell_type": "code",
      "metadata": {
        "colab": {
          "base_uri": "https://localhost:8080/"
        },
        "id": "CE6gvur3JdbU",
        "outputId": "3ce1e49a-209c-44d0-c376-29a734f3bbd6"
      },
      "source": [
        "# Best Event time\n",
        "repeat_user['event_time'].value_counts().nlargest(10)"
      ],
      "execution_count": null,
      "outputs": [
        {
          "output_type": "execute_result",
          "data": {
            "text/plain": [
              "2019-10-18 04:14:38 UTC    1\n",
              "2019-10-22 17:38:05 UTC    1\n",
              "2019-10-31 05:32:56 UTC    1\n",
              "2019-10-23 10:52:26 UTC    1\n",
              "2019-10-29 03:56:30 UTC    1\n",
              "2019-10-25 12:09:57 UTC    1\n",
              "Name: event_time, dtype: int64"
            ]
          },
          "metadata": {},
          "execution_count": 53
        }
      ]
    },
    {
      "cell_type": "code",
      "metadata": {
        "colab": {
          "base_uri": "https://localhost:8080/"
        },
        "id": "-8Oe3_0UJ_bo",
        "outputId": "5c3bc2d7-5095-4c97-ffa0-2362924e6e70"
      },
      "source": [
        "# Best event type in new user\n",
        "new_user['event_type'].value_counts()"
      ],
      "execution_count": null,
      "outputs": [
        {
          "output_type": "execute_result",
          "data": {
            "text/plain": [
              "purchase    71339\n",
              "Name: event_type, dtype: int64"
            ]
          },
          "metadata": {},
          "execution_count": 54
        }
      ]
    },
    {
      "cell_type": "code",
      "metadata": {
        "id": "W1N1uSZFKG8R"
      },
      "source": [
        "# Best event type in repeat user\n",
        "repeat_user['event_type'].value_counts()"
      ],
      "execution_count": null,
      "outputs": []
    },
    {
      "cell_type": "markdown",
      "metadata": {
        "id": "Va9mX3QGvghj"
      },
      "source": [
        ""
      ]
    },
    {
      "cell_type": "markdown",
      "metadata": {
        "id": "21-qWumjK8K4"
      },
      "source": [
        "## **Time Series** "
      ]
    },
    {
      "cell_type": "markdown",
      "metadata": {
        "id": "FAEUcxyYKyxx"
      },
      "source": [
        "### **New User**"
      ]
    },
    {
      "cell_type": "code",
      "metadata": {
        "colab": {
          "base_uri": "https://localhost:8080/",
          "height": 203
        },
        "id": "5hTa_qx0HbA3",
        "outputId": "6431e05f-1bb6-45ee-fb46-5f1be3c2940c"
      },
      "source": [
        "new_user.head()"
      ],
      "execution_count": null,
      "outputs": [
        {
          "output_type": "execute_result",
          "data": {
            "text/html": [
              "<div>\n",
              "<style scoped>\n",
              "    .dataframe tbody tr th:only-of-type {\n",
              "        vertical-align: middle;\n",
              "    }\n",
              "\n",
              "    .dataframe tbody tr th {\n",
              "        vertical-align: top;\n",
              "    }\n",
              "\n",
              "    .dataframe thead th {\n",
              "        text-align: right;\n",
              "    }\n",
              "</style>\n",
              "<table border=\"1\" class=\"dataframe\">\n",
              "  <thead>\n",
              "    <tr style=\"text-align: right;\">\n",
              "      <th></th>\n",
              "      <th>event_time</th>\n",
              "      <th>event_type</th>\n",
              "      <th>category_code</th>\n",
              "      <th>brand</th>\n",
              "      <th>price</th>\n",
              "      <th>user_id</th>\n",
              "      <th>user_session</th>\n",
              "      <th>event_days_of_week</th>\n",
              "      <th>event_date</th>\n",
              "      <th>event_hour</th>\n",
              "    </tr>\n",
              "  </thead>\n",
              "  <tbody>\n",
              "    <tr>\n",
              "      <th>1649</th>\n",
              "      <td>2019-10-01 02:19:34 UTC</td>\n",
              "      <td>purchase</td>\n",
              "      <td>electronics.smartphone</td>\n",
              "      <td>apple</td>\n",
              "      <td>975.57</td>\n",
              "      <td>555160488</td>\n",
              "      <td>a1395546-c124-456c-9752-0f5cf883c63d</td>\n",
              "      <td>Tuesday</td>\n",
              "      <td>1</td>\n",
              "      <td>2</td>\n",
              "    </tr>\n",
              "    <tr>\n",
              "      <th>1905</th>\n",
              "      <td>2019-10-01 02:20:33 UTC</td>\n",
              "      <td>purchase</td>\n",
              "      <td>electronics.smartphone</td>\n",
              "      <td>apple</td>\n",
              "      <td>946.97</td>\n",
              "      <td>516198933</td>\n",
              "      <td>e1050ba4-5425-4b8e-9cc8-194878031718</td>\n",
              "      <td>Tuesday</td>\n",
              "      <td>1</td>\n",
              "      <td>2</td>\n",
              "    </tr>\n",
              "    <tr>\n",
              "      <th>2927</th>\n",
              "      <td>2019-10-01 02:23:25 UTC</td>\n",
              "      <td>purchase</td>\n",
              "      <td>electronics.smartphone</td>\n",
              "      <td>apple</td>\n",
              "      <td>1747.79</td>\n",
              "      <td>515384420</td>\n",
              "      <td>7f82b450-6c45-4346-96fb-ecf4ab25779c</td>\n",
              "      <td>Tuesday</td>\n",
              "      <td>1</td>\n",
              "      <td>2</td>\n",
              "    </tr>\n",
              "    <tr>\n",
              "      <th>5210</th>\n",
              "      <td>2019-10-01 02:28:40 UTC</td>\n",
              "      <td>purchase</td>\n",
              "      <td>electronics.smartphone</td>\n",
              "      <td>apple</td>\n",
              "      <td>975.57</td>\n",
              "      <td>552408931</td>\n",
              "      <td>e8b95f1a-5f87-40ab-b75a-40942d5a1726</td>\n",
              "      <td>Tuesday</td>\n",
              "      <td>1</td>\n",
              "      <td>2</td>\n",
              "    </tr>\n",
              "    <tr>\n",
              "      <th>6496</th>\n",
              "      <td>2019-10-01 02:31:01 UTC</td>\n",
              "      <td>purchase</td>\n",
              "      <td>electronics.smartphone</td>\n",
              "      <td>apple</td>\n",
              "      <td>1206.40</td>\n",
              "      <td>555462711</td>\n",
              "      <td>38c6d3f7-6c32-4fed-bca6-ef98e1746386</td>\n",
              "      <td>Tuesday</td>\n",
              "      <td>1</td>\n",
              "      <td>2</td>\n",
              "    </tr>\n",
              "  </tbody>\n",
              "</table>\n",
              "</div>"
            ],
            "text/plain": [
              "                   event_time event_type  ... event_date event_hour\n",
              "1649  2019-10-01 02:19:34 UTC   purchase  ...          1          2\n",
              "1905  2019-10-01 02:20:33 UTC   purchase  ...          1          2\n",
              "2927  2019-10-01 02:23:25 UTC   purchase  ...          1          2\n",
              "5210  2019-10-01 02:28:40 UTC   purchase  ...          1          2\n",
              "6496  2019-10-01 02:31:01 UTC   purchase  ...          1          2\n",
              "\n",
              "[5 rows x 10 columns]"
            ]
          },
          "metadata": {},
          "execution_count": 167
        }
      ]
    },
    {
      "cell_type": "code",
      "metadata": {
        "colab": {
          "base_uri": "https://localhost:8080/",
          "height": 669
        },
        "id": "cMqyTsPRLNbK",
        "outputId": "69e165b4-bf82-4e96-c710-649c97fa9399"
      },
      "source": [
        "ax = new_user.groupby(new_user['event_days_of_week'],sort=False)['user_id'].nunique().reset_index().set_index('event_days_of_week').plot.bar(figsize=(20,10))\n",
        "ax.set_ylabel('# of all the transactions')\n",
        "ax.set_xlabel('days of a week')\n",
        "ax.set_title('Week days vs User')\n",
        "\n",
        "for p in ax.patches:\n",
        "    height = p.get_height()\n",
        "    ax.text(p.get_x()+p.get_width()/2.,\n",
        "            height + 3,\n",
        "            '{:1.2f}%'.format(height/len(new_user)*100),\n",
        "            ha=\"center\", fontsize=15)\n",
        "\n",
        "plt.show()"
      ],
      "execution_count": null,
      "outputs": [
        {
          "output_type": "display_data",
          "data": {
            "image/png": "[encoded data removed]",
            "text/plain": [
              "<Figure size 1440x720 with 1 Axes>"
            ]
          },
          "metadata": {
            "needs_background": "light"
          }
        }
      ]
    },
    {
      "cell_type": "code",
      "metadata": {
        "colab": {
          "base_uri": "https://localhost:8080/",
          "height": 1000
        },
        "id": "CJ1dV1gW208H",
        "outputId": "3b15de15-9dc2-4037-9f35-aa0e559c3103"
      },
      "source": [
        "#Timeplot01\n",
        "\n",
        "new_user_timeline01 = new_user.groupby(new_user['event_date'])['user_id'].nunique().reset_index()\n",
        "new_user_timeline01.columns = ['Event Date','User']\n",
        "new_user_timeline01"
      ],
      "execution_count": null,
      "outputs": [
        {
          "output_type": "execute_result",
          "data": {
            "text/html": [
              "<div>\n",
              "<style scoped>\n",
              "    .dataframe tbody tr th:only-of-type {\n",
              "        vertical-align: middle;\n",
              "    }\n",
              "\n",
              "    .dataframe tbody tr th {\n",
              "        vertical-align: top;\n",
              "    }\n",
              "\n",
              "    .dataframe thead th {\n",
              "        text-align: right;\n",
              "    }\n",
              "</style>\n",
              "<table border=\"1\" class=\"dataframe\">\n",
              "  <thead>\n",
              "    <tr style=\"text-align: right;\">\n",
              "      <th></th>\n",
              "      <th>Event Date</th>\n",
              "      <th>User</th>\n",
              "    </tr>\n",
              "  </thead>\n",
              "  <tbody>\n",
              "    <tr>\n",
              "      <th>0</th>\n",
              "      <td>1</td>\n",
              "      <td>1575</td>\n",
              "    </tr>\n",
              "    <tr>\n",
              "      <th>1</th>\n",
              "      <td>2</td>\n",
              "      <td>1459</td>\n",
              "    </tr>\n",
              "    <tr>\n",
              "      <th>2</th>\n",
              "      <td>3</td>\n",
              "      <td>1538</td>\n",
              "    </tr>\n",
              "    <tr>\n",
              "      <th>3</th>\n",
              "      <td>4</td>\n",
              "      <td>2137</td>\n",
              "    </tr>\n",
              "    <tr>\n",
              "      <th>4</th>\n",
              "      <td>5</td>\n",
              "      <td>1676</td>\n",
              "    </tr>\n",
              "    <tr>\n",
              "      <th>5</th>\n",
              "      <td>6</td>\n",
              "      <td>1539</td>\n",
              "    </tr>\n",
              "    <tr>\n",
              "      <th>6</th>\n",
              "      <td>7</td>\n",
              "      <td>1452</td>\n",
              "    </tr>\n",
              "    <tr>\n",
              "      <th>7</th>\n",
              "      <td>8</td>\n",
              "      <td>1605</td>\n",
              "    </tr>\n",
              "    <tr>\n",
              "      <th>8</th>\n",
              "      <td>9</td>\n",
              "      <td>1621</td>\n",
              "    </tr>\n",
              "    <tr>\n",
              "      <th>9</th>\n",
              "      <td>10</td>\n",
              "      <td>1604</td>\n",
              "    </tr>\n",
              "    <tr>\n",
              "      <th>10</th>\n",
              "      <td>11</td>\n",
              "      <td>1800</td>\n",
              "    </tr>\n",
              "    <tr>\n",
              "      <th>11</th>\n",
              "      <td>12</td>\n",
              "      <td>1688</td>\n",
              "    </tr>\n",
              "    <tr>\n",
              "      <th>12</th>\n",
              "      <td>13</td>\n",
              "      <td>1870</td>\n",
              "    </tr>\n",
              "    <tr>\n",
              "      <th>13</th>\n",
              "      <td>14</td>\n",
              "      <td>2067</td>\n",
              "    </tr>\n",
              "    <tr>\n",
              "      <th>14</th>\n",
              "      <td>15</td>\n",
              "      <td>2033</td>\n",
              "    </tr>\n",
              "    <tr>\n",
              "      <th>15</th>\n",
              "      <td>16</td>\n",
              "      <td>2137</td>\n",
              "    </tr>\n",
              "    <tr>\n",
              "      <th>16</th>\n",
              "      <td>17</td>\n",
              "      <td>2029</td>\n",
              "    </tr>\n",
              "    <tr>\n",
              "      <th>17</th>\n",
              "      <td>18</td>\n",
              "      <td>1843</td>\n",
              "    </tr>\n",
              "    <tr>\n",
              "      <th>18</th>\n",
              "      <td>19</td>\n",
              "      <td>1680</td>\n",
              "    </tr>\n",
              "    <tr>\n",
              "      <th>19</th>\n",
              "      <td>20</td>\n",
              "      <td>1660</td>\n",
              "    </tr>\n",
              "    <tr>\n",
              "      <th>20</th>\n",
              "      <td>21</td>\n",
              "      <td>1843</td>\n",
              "    </tr>\n",
              "    <tr>\n",
              "      <th>21</th>\n",
              "      <td>22</td>\n",
              "      <td>1839</td>\n",
              "    </tr>\n",
              "    <tr>\n",
              "      <th>22</th>\n",
              "      <td>23</td>\n",
              "      <td>1719</td>\n",
              "    </tr>\n",
              "    <tr>\n",
              "      <th>23</th>\n",
              "      <td>24</td>\n",
              "      <td>1717</td>\n",
              "    </tr>\n",
              "    <tr>\n",
              "      <th>24</th>\n",
              "      <td>25</td>\n",
              "      <td>1563</td>\n",
              "    </tr>\n",
              "    <tr>\n",
              "      <th>25</th>\n",
              "      <td>26</td>\n",
              "      <td>1476</td>\n",
              "    </tr>\n",
              "    <tr>\n",
              "      <th>26</th>\n",
              "      <td>27</td>\n",
              "      <td>1580</td>\n",
              "    </tr>\n",
              "    <tr>\n",
              "      <th>27</th>\n",
              "      <td>28</td>\n",
              "      <td>1559</td>\n",
              "    </tr>\n",
              "    <tr>\n",
              "      <th>28</th>\n",
              "      <td>29</td>\n",
              "      <td>1548</td>\n",
              "    </tr>\n",
              "    <tr>\n",
              "      <th>29</th>\n",
              "      <td>30</td>\n",
              "      <td>1609</td>\n",
              "    </tr>\n",
              "    <tr>\n",
              "      <th>30</th>\n",
              "      <td>31</td>\n",
              "      <td>1643</td>\n",
              "    </tr>\n",
              "  </tbody>\n",
              "</table>\n",
              "</div>"
            ],
            "text/plain": [
              "    Event Date  User\n",
              "0            1  1575\n",
              "1            2  1459\n",
              "2            3  1538\n",
              "3            4  2137\n",
              "4            5  1676\n",
              "5            6  1539\n",
              "6            7  1452\n",
              "7            8  1605\n",
              "8            9  1621\n",
              "9           10  1604\n",
              "10          11  1800\n",
              "11          12  1688\n",
              "12          13  1870\n",
              "13          14  2067\n",
              "14          15  2033\n",
              "15          16  2137\n",
              "16          17  2029\n",
              "17          18  1843\n",
              "18          19  1680\n",
              "19          20  1660\n",
              "20          21  1843\n",
              "21          22  1839\n",
              "22          23  1719\n",
              "23          24  1717\n",
              "24          25  1563\n",
              "25          26  1476\n",
              "26          27  1580\n",
              "27          28  1559\n",
              "28          29  1548\n",
              "29          30  1609\n",
              "30          31  1643"
            ]
          },
          "metadata": {},
          "execution_count": 169
        }
      ]
    },
    {
      "cell_type": "code",
      "metadata": {
        "id": "teFK5-P2Rbvz",
        "colab": {
          "base_uri": "https://localhost:8080/",
          "height": 289
        },
        "outputId": "7aaa8a70-6de3-441e-ae8b-e04fc904e396"
      },
      "source": [
        "x = np.arange(0,len(new_user_timeline01),1)\n",
        "\n",
        "fig, ax = plt.subplots(1,1,figsize=(30,5))\n",
        "ax.plot(x,new_user_timeline01['User'])\n",
        "ax.set_xticks(x)\n",
        "ax.set_xticklabels(new_user_timeline01['Event Date'])\n",
        "ax.set_title('User in October 2019')\n",
        "ax.set_xlabel('Date')\n",
        "ax.set_ylabel('User')\n",
        "  \n",
        "plt.show()"
      ],
      "execution_count": null,
      "outputs": [
        {
          "output_type": "display_data",
          "data": {
            "image/png": "[encoded data removed]",
            "text/plain": [
              "<Figure size 2160x360 with 1 Axes>"
            ]
          },
          "metadata": {
            "needs_background": "light"
          }
        }
      ]
    },
    {
      "cell_type": "code",
      "metadata": {
        "colab": {
          "base_uri": "https://localhost:8080/",
          "height": 788
        },
        "id": "vKis2a-8GIcE",
        "outputId": "550d0e9a-7882-4a00-9ad7-aa5999426b93"
      },
      "source": [
        "#Timeplot02\n",
        "\n",
        "new_user_timeline02 = new_user.groupby(new_user['event_hour'])['user_id'].nunique().reset_index()\n",
        "new_user_timeline02.columns = ['Event Hour','User']\n",
        "new_user_timeline02"
      ],
      "execution_count": null,
      "outputs": [
        {
          "output_type": "execute_result",
          "data": {
            "text/html": [
              "<div>\n",
              "<style scoped>\n",
              "    .dataframe tbody tr th:only-of-type {\n",
              "        vertical-align: middle;\n",
              "    }\n",
              "\n",
              "    .dataframe tbody tr th {\n",
              "        vertical-align: top;\n",
              "    }\n",
              "\n",
              "    .dataframe thead th {\n",
              "        text-align: right;\n",
              "    }\n",
              "</style>\n",
              "<table border=\"1\" class=\"dataframe\">\n",
              "  <thead>\n",
              "    <tr style=\"text-align: right;\">\n",
              "      <th></th>\n",
              "      <th>Event Hour</th>\n",
              "      <th>User</th>\n",
              "    </tr>\n",
              "  </thead>\n",
              "  <tbody>\n",
              "    <tr>\n",
              "      <th>0</th>\n",
              "      <td>0</td>\n",
              "      <td>270</td>\n",
              "    </tr>\n",
              "    <tr>\n",
              "      <th>1</th>\n",
              "      <td>1</td>\n",
              "      <td>368</td>\n",
              "    </tr>\n",
              "    <tr>\n",
              "      <th>2</th>\n",
              "      <td>2</td>\n",
              "      <td>861</td>\n",
              "    </tr>\n",
              "    <tr>\n",
              "      <th>3</th>\n",
              "      <td>3</td>\n",
              "      <td>1878</td>\n",
              "    </tr>\n",
              "    <tr>\n",
              "      <th>4</th>\n",
              "      <td>4</td>\n",
              "      <td>2727</td>\n",
              "    </tr>\n",
              "    <tr>\n",
              "      <th>5</th>\n",
              "      <td>5</td>\n",
              "      <td>3285</td>\n",
              "    </tr>\n",
              "    <tr>\n",
              "      <th>6</th>\n",
              "      <td>6</td>\n",
              "      <td>3632</td>\n",
              "    </tr>\n",
              "    <tr>\n",
              "      <th>7</th>\n",
              "      <td>7</td>\n",
              "      <td>3763</td>\n",
              "    </tr>\n",
              "    <tr>\n",
              "      <th>8</th>\n",
              "      <td>8</td>\n",
              "      <td>3974</td>\n",
              "    </tr>\n",
              "    <tr>\n",
              "      <th>9</th>\n",
              "      <td>9</td>\n",
              "      <td>4052</td>\n",
              "    </tr>\n",
              "    <tr>\n",
              "      <th>10</th>\n",
              "      <td>10</td>\n",
              "      <td>3886</td>\n",
              "    </tr>\n",
              "    <tr>\n",
              "      <th>11</th>\n",
              "      <td>11</td>\n",
              "      <td>3693</td>\n",
              "    </tr>\n",
              "    <tr>\n",
              "      <th>12</th>\n",
              "      <td>12</td>\n",
              "      <td>3142</td>\n",
              "    </tr>\n",
              "    <tr>\n",
              "      <th>13</th>\n",
              "      <td>13</td>\n",
              "      <td>3016</td>\n",
              "    </tr>\n",
              "    <tr>\n",
              "      <th>14</th>\n",
              "      <td>14</td>\n",
              "      <td>2743</td>\n",
              "    </tr>\n",
              "    <tr>\n",
              "      <th>15</th>\n",
              "      <td>15</td>\n",
              "      <td>2595</td>\n",
              "    </tr>\n",
              "    <tr>\n",
              "      <th>16</th>\n",
              "      <td>16</td>\n",
              "      <td>2502</td>\n",
              "    </tr>\n",
              "    <tr>\n",
              "      <th>17</th>\n",
              "      <td>17</td>\n",
              "      <td>2240</td>\n",
              "    </tr>\n",
              "    <tr>\n",
              "      <th>18</th>\n",
              "      <td>18</td>\n",
              "      <td>1949</td>\n",
              "    </tr>\n",
              "    <tr>\n",
              "      <th>19</th>\n",
              "      <td>19</td>\n",
              "      <td>1501</td>\n",
              "    </tr>\n",
              "    <tr>\n",
              "      <th>20</th>\n",
              "      <td>20</td>\n",
              "      <td>963</td>\n",
              "    </tr>\n",
              "    <tr>\n",
              "      <th>21</th>\n",
              "      <td>21</td>\n",
              "      <td>660</td>\n",
              "    </tr>\n",
              "    <tr>\n",
              "      <th>22</th>\n",
              "      <td>22</td>\n",
              "      <td>415</td>\n",
              "    </tr>\n",
              "    <tr>\n",
              "      <th>23</th>\n",
              "      <td>23</td>\n",
              "      <td>267</td>\n",
              "    </tr>\n",
              "  </tbody>\n",
              "</table>\n",
              "</div>"
            ],
            "text/plain": [
              "    Event Hour  User\n",
              "0            0   270\n",
              "1            1   368\n",
              "2            2   861\n",
              "3            3  1878\n",
              "4            4  2727\n",
              "5            5  3285\n",
              "6            6  3632\n",
              "7            7  3763\n",
              "8            8  3974\n",
              "9            9  4052\n",
              "10          10  3886\n",
              "11          11  3693\n",
              "12          12  3142\n",
              "13          13  3016\n",
              "14          14  2743\n",
              "15          15  2595\n",
              "16          16  2502\n",
              "17          17  2240\n",
              "18          18  1949\n",
              "19          19  1501\n",
              "20          20   963\n",
              "21          21   660\n",
              "22          22   415\n",
              "23          23   267"
            ]
          },
          "metadata": {},
          "execution_count": 172
        }
      ]
    },
    {
      "cell_type": "code",
      "metadata": {
        "colab": {
          "base_uri": "https://localhost:8080/",
          "height": 289
        },
        "id": "5GD677mNRbso",
        "outputId": "ab120af7-a60c-4e46-c4e9-fa4b0a9cda6d"
      },
      "source": [
        "x = np.arange(0,len(new_user_timeline02),1)\n",
        "\n",
        "fig, ax = plt.subplots(1,1,figsize=(30,5))\n",
        "ax.plot(x,new_user_timeline02['User'])\n",
        "ax.set_xticks(x)\n",
        "ax.set_xticklabels(new_user_timeline02['Event Hour'])\n",
        "ax.set_title('User in 24 Hours')\n",
        "ax.set_xlabel('Hour')\n",
        "ax.set_ylabel('User')\n",
        "    \n",
        "plt.show()"
      ],
      "execution_count": null,
      "outputs": [
        {
          "output_type": "display_data",
          "data": {
            "image/png": "[encoded data removed]",
            "text/plain": [
              "<Figure size 2160x360 with 1 Axes>"
            ]
          },
          "metadata": {
            "needs_background": "light"
          }
        }
      ]
    },
    {
      "cell_type": "markdown",
      "metadata": {
        "id": "nBPZXPEjK6JV"
      },
      "source": [
        "### **Repeat User**"
      ]
    },
    {
      "cell_type": "code",
      "metadata": {
        "colab": {
          "base_uri": "https://localhost:8080/",
          "height": 203
        },
        "id": "7P3WgtSUK6JV",
        "outputId": "a252bb56-8b29-4972-872b-3879739c00e9"
      },
      "source": [
        "repeat_user.head()"
      ],
      "execution_count": null,
      "outputs": [
        {
          "output_type": "execute_result",
          "data": {
            "text/html": [
              "<div>\n",
              "<style scoped>\n",
              "    .dataframe tbody tr th:only-of-type {\n",
              "        vertical-align: middle;\n",
              "    }\n",
              "\n",
              "    .dataframe tbody tr th {\n",
              "        vertical-align: top;\n",
              "    }\n",
              "\n",
              "    .dataframe thead th {\n",
              "        text-align: right;\n",
              "    }\n",
              "</style>\n",
              "<table border=\"1\" class=\"dataframe\">\n",
              "  <thead>\n",
              "    <tr style=\"text-align: right;\">\n",
              "      <th></th>\n",
              "      <th>event_time</th>\n",
              "      <th>event_type</th>\n",
              "      <th>category_code</th>\n",
              "      <th>brand</th>\n",
              "      <th>price</th>\n",
              "      <th>user_id</th>\n",
              "      <th>user_session</th>\n",
              "      <th>event_days_of_week</th>\n",
              "      <th>event_date</th>\n",
              "      <th>event_hour</th>\n",
              "    </tr>\n",
              "  </thead>\n",
              "  <tbody>\n",
              "    <tr>\n",
              "      <th>23495070</th>\n",
              "      <td>2019-10-18 04:14:38 UTC</td>\n",
              "      <td>purchase</td>\n",
              "      <td>electronics.smartphone</td>\n",
              "      <td>apple</td>\n",
              "      <td>1003.60</td>\n",
              "      <td>544307339</td>\n",
              "      <td>fbd8ba89-2a83-4ca6-9a8e-ad9b5c0086ef</td>\n",
              "      <td>Friday</td>\n",
              "      <td>18</td>\n",
              "      <td>4</td>\n",
              "    </tr>\n",
              "    <tr>\n",
              "      <th>30432760</th>\n",
              "      <td>2019-10-22 17:38:05 UTC</td>\n",
              "      <td>purchase</td>\n",
              "      <td>electronics.smartphone</td>\n",
              "      <td>apple</td>\n",
              "      <td>931.43</td>\n",
              "      <td>523841663</td>\n",
              "      <td>0f434af5-f294-4dcd-be8e-335dfe62f8c2</td>\n",
              "      <td>Tuesday</td>\n",
              "      <td>22</td>\n",
              "      <td>17</td>\n",
              "    </tr>\n",
              "    <tr>\n",
              "      <th>31247570</th>\n",
              "      <td>2019-10-23 10:52:26 UTC</td>\n",
              "      <td>purchase</td>\n",
              "      <td>electronics.smartphone</td>\n",
              "      <td>samsung</td>\n",
              "      <td>1286.75</td>\n",
              "      <td>558133595</td>\n",
              "      <td>9d8f2844-37d1-433d-a53d-b0da52eb06ba</td>\n",
              "      <td>Wednesday</td>\n",
              "      <td>23</td>\n",
              "      <td>10</td>\n",
              "    </tr>\n",
              "    <tr>\n",
              "      <th>34056667</th>\n",
              "      <td>2019-10-25 12:09:57 UTC</td>\n",
              "      <td>purchase</td>\n",
              "      <td>electronics.smartphone</td>\n",
              "      <td>apple</td>\n",
              "      <td>998.73</td>\n",
              "      <td>551064724</td>\n",
              "      <td>122ac4f0-ba8c-483a-ab0a-93c9ba1faf47</td>\n",
              "      <td>Friday</td>\n",
              "      <td>25</td>\n",
              "      <td>12</td>\n",
              "    </tr>\n",
              "    <tr>\n",
              "      <th>38864750</th>\n",
              "      <td>2019-10-29 03:56:30 UTC</td>\n",
              "      <td>purchase</td>\n",
              "      <td>electronics.smartphone</td>\n",
              "      <td>apple</td>\n",
              "      <td>967.80</td>\n",
              "      <td>535789523</td>\n",
              "      <td>9e037fb6-7286-4136-b1e6-a0eb93e0c1ce</td>\n",
              "      <td>Tuesday</td>\n",
              "      <td>29</td>\n",
              "      <td>3</td>\n",
              "    </tr>\n",
              "  </tbody>\n",
              "</table>\n",
              "</div>"
            ],
            "text/plain": [
              "                       event_time event_type  ... event_date event_hour\n",
              "23495070  2019-10-18 04:14:38 UTC   purchase  ...         18          4\n",
              "30432760  2019-10-22 17:38:05 UTC   purchase  ...         22         17\n",
              "31247570  2019-10-23 10:52:26 UTC   purchase  ...         23         10\n",
              "34056667  2019-10-25 12:09:57 UTC   purchase  ...         25         12\n",
              "38864750  2019-10-29 03:56:30 UTC   purchase  ...         29          3\n",
              "\n",
              "[5 rows x 10 columns]"
            ]
          },
          "metadata": {},
          "execution_count": 174
        }
      ]
    },
    {
      "cell_type": "code",
      "metadata": {
        "colab": {
          "base_uri": "https://localhost:8080/",
          "height": 669
        },
        "id": "UTXVM5OEK6JV",
        "outputId": "b45c2e8c-9538-4ba2-a8ac-bf233a05ee44"
      },
      "source": [
        "ax = repeat_user.groupby(repeat_user['event_days_of_week'],sort=False)['user_id'].nunique().reset_index().set_index('event_days_of_week').plot.bar(figsize=(20,10))\n",
        "ax.set_ylabel('# of all the transactions')\n",
        "ax.set_xlabel('days of a week')\n",
        "ax.set_title('Week days vs User')\n",
        "\n",
        "plt.show()"
      ],
      "execution_count": null,
      "outputs": [
        {
          "output_type": "display_data",
          "data": {
            "image/png": "[encoded data removed]",
            "text/plain": [
              "<Figure size 1440x720 with 1 Axes>"
            ]
          },
          "metadata": {
            "needs_background": "light"
          }
        }
      ]
    },
    {
      "cell_type": "code",
      "metadata": {
        "colab": {
          "base_uri": "https://localhost:8080/",
          "height": 234
        },
        "id": "Z39rjQmVK6JV",
        "outputId": "5c82e816-22f9-4a8a-91e8-e5ac29fee483"
      },
      "source": [
        "#Timeplot01\n",
        "\n",
        "repeat_user_timeline01 = repeat_user.groupby(repeat_user['event_date'])['user_id'].nunique().reset_index()\n",
        "repeat_user_timeline01.columns = ['Event Date','User']\n",
        "repeat_user_timeline01"
      ],
      "execution_count": null,
      "outputs": [
        {
          "output_type": "execute_result",
          "data": {
            "text/html": [
              "<div>\n",
              "<style scoped>\n",
              "    .dataframe tbody tr th:only-of-type {\n",
              "        vertical-align: middle;\n",
              "    }\n",
              "\n",
              "    .dataframe tbody tr th {\n",
              "        vertical-align: top;\n",
              "    }\n",
              "\n",
              "    .dataframe thead th {\n",
              "        text-align: right;\n",
              "    }\n",
              "</style>\n",
              "<table border=\"1\" class=\"dataframe\">\n",
              "  <thead>\n",
              "    <tr style=\"text-align: right;\">\n",
              "      <th></th>\n",
              "      <th>Event Date</th>\n",
              "      <th>User</th>\n",
              "    </tr>\n",
              "  </thead>\n",
              "  <tbody>\n",
              "    <tr>\n",
              "      <th>0</th>\n",
              "      <td>18</td>\n",
              "      <td>1</td>\n",
              "    </tr>\n",
              "    <tr>\n",
              "      <th>1</th>\n",
              "      <td>22</td>\n",
              "      <td>1</td>\n",
              "    </tr>\n",
              "    <tr>\n",
              "      <th>2</th>\n",
              "      <td>23</td>\n",
              "      <td>1</td>\n",
              "    </tr>\n",
              "    <tr>\n",
              "      <th>3</th>\n",
              "      <td>25</td>\n",
              "      <td>1</td>\n",
              "    </tr>\n",
              "    <tr>\n",
              "      <th>4</th>\n",
              "      <td>29</td>\n",
              "      <td>1</td>\n",
              "    </tr>\n",
              "    <tr>\n",
              "      <th>5</th>\n",
              "      <td>31</td>\n",
              "      <td>1</td>\n",
              "    </tr>\n",
              "  </tbody>\n",
              "</table>\n",
              "</div>"
            ],
            "text/plain": [
              "   Event Date  User\n",
              "0          18     1\n",
              "1          22     1\n",
              "2          23     1\n",
              "3          25     1\n",
              "4          29     1\n",
              "5          31     1"
            ]
          },
          "metadata": {},
          "execution_count": 176
        }
      ]
    },
    {
      "cell_type": "code",
      "metadata": {
        "colab": {
          "base_uri": "https://localhost:8080/",
          "height": 289
        },
        "id": "jj06X-hmK6JW",
        "outputId": "1a69f052-fce7-4c70-ed83-53255d7268fe"
      },
      "source": [
        "x = np.arange(0,len(repeat_user_timeline01),1)\n",
        "\n",
        "fig, ax = plt.subplots(1,1,figsize=(30,5))\n",
        "ax.plot(x,repeat_user_timeline01['User'])\n",
        "ax.set_xticks(x)\n",
        "ax.set_xticklabels(repeat_user_timeline01['Event Date'])\n",
        "ax.set_title('User in October 2019')\n",
        "ax.set_xlabel('Date')\n",
        "ax.set_ylabel('User')\n",
        "  \n",
        "plt.show()"
      ],
      "execution_count": null,
      "outputs": [
        {
          "output_type": "display_data",
          "data": {
            "image/png": "[encoded data removed]",
            "text/plain": [
              "<Figure size 2160x360 with 1 Axes>"
            ]
          },
          "metadata": {
            "needs_background": "light"
          }
        }
      ]
    },
    {
      "cell_type": "code",
      "metadata": {
        "colab": {
          "base_uri": "https://localhost:8080/",
          "height": 234
        },
        "id": "mxtfHDxpK6JW",
        "outputId": "3b814bef-8f4d-4ee2-faf9-7341ea403364"
      },
      "source": [
        "#Timeplot02\n",
        "\n",
        "repeat_user_timeline02 = repeat_user.groupby(repeat_user['event_hour'])['user_id'].nunique().reset_index()\n",
        "repeat_user_timeline02.columns = ['Event Hour','User']\n",
        "repeat_user_timeline02"
      ],
      "execution_count": null,
      "outputs": [
        {
          "output_type": "execute_result",
          "data": {
            "text/html": [
              "<div>\n",
              "<style scoped>\n",
              "    .dataframe tbody tr th:only-of-type {\n",
              "        vertical-align: middle;\n",
              "    }\n",
              "\n",
              "    .dataframe tbody tr th {\n",
              "        vertical-align: top;\n",
              "    }\n",
              "\n",
              "    .dataframe thead th {\n",
              "        text-align: right;\n",
              "    }\n",
              "</style>\n",
              "<table border=\"1\" class=\"dataframe\">\n",
              "  <thead>\n",
              "    <tr style=\"text-align: right;\">\n",
              "      <th></th>\n",
              "      <th>Event Hour</th>\n",
              "      <th>User</th>\n",
              "    </tr>\n",
              "  </thead>\n",
              "  <tbody>\n",
              "    <tr>\n",
              "      <th>0</th>\n",
              "      <td>3</td>\n",
              "      <td>1</td>\n",
              "    </tr>\n",
              "    <tr>\n",
              "      <th>1</th>\n",
              "      <td>4</td>\n",
              "      <td>1</td>\n",
              "    </tr>\n",
              "    <tr>\n",
              "      <th>2</th>\n",
              "      <td>5</td>\n",
              "      <td>1</td>\n",
              "    </tr>\n",
              "    <tr>\n",
              "      <th>3</th>\n",
              "      <td>10</td>\n",
              "      <td>1</td>\n",
              "    </tr>\n",
              "    <tr>\n",
              "      <th>4</th>\n",
              "      <td>12</td>\n",
              "      <td>1</td>\n",
              "    </tr>\n",
              "    <tr>\n",
              "      <th>5</th>\n",
              "      <td>17</td>\n",
              "      <td>1</td>\n",
              "    </tr>\n",
              "  </tbody>\n",
              "</table>\n",
              "</div>"
            ],
            "text/plain": [
              "   Event Hour  User\n",
              "0           3     1\n",
              "1           4     1\n",
              "2           5     1\n",
              "3          10     1\n",
              "4          12     1\n",
              "5          17     1"
            ]
          },
          "metadata": {},
          "execution_count": 178
        }
      ]
    },
    {
      "cell_type": "code",
      "metadata": {
        "colab": {
          "base_uri": "https://localhost:8080/",
          "height": 289
        },
        "id": "6ZZGahUiK6JW",
        "outputId": "d57fd075-af1c-412b-a227-6ce08652fb71"
      },
      "source": [
        "x = np.arange(0,len(repeat_user_timeline02),1)\n",
        "\n",
        "fig, ax = plt.subplots(1,1,figsize=(30,5))\n",
        "ax.plot(x,repeat_user_timeline02['User'])\n",
        "ax.set_xticks(x)\n",
        "ax.set_xticklabels(repeat_user_timeline02['Event Hour'])\n",
        "ax.set_title('User in 24 Hours')\n",
        "ax.set_xlabel('Hour')\n",
        "ax.set_ylabel('User')\n",
        "    \n",
        "plt.show()"
      ],
      "execution_count": null,
      "outputs": [
        {
          "output_type": "display_data",
          "data": {
            "image/png": "[encoded data removed]",
            "text/plain": [
              "<Figure size 2160x360 with 1 Axes>"
            ]
          },
          "metadata": {
            "needs_background": "light"
          }
        }
      ]
    },
    {
      "cell_type": "markdown",
      "metadata": {
        "id": "lbIuy-OAGY7B"
      },
      "source": [
        "# **NOVEMBER 2019**"
      ]
    },
    {
      "cell_type": "markdown",
      "metadata": {
        "id": "MgdvJ8nGGnvB"
      },
      "source": [
        "## **Handle The Missing Data**"
      ]
    },
    {
      "cell_type": "code",
      "metadata": {
        "colab": {
          "base_uri": "https://localhost:8080/",
          "height": 357
        },
        "id": "w-L-u0_TGnvC",
        "outputId": "84512372-cdc5-4310-ccec-8ebe48cbef2b"
      },
      "source": [
        "# read the data\n",
        "cols = ['event_time', 'event_type', 'category_code', 'brand', 'price','user_id','user_session']\n",
        "df2019nov = pd.read_csv('2019-Nov.csv', usecols = cols)\n",
        "df2019nov.head(10)"
      ],
      "execution_count": null,
      "outputs": [
        {
          "output_type": "execute_result",
          "data": {
            "text/html": [
              "<div>\n",
              "<style scoped>\n",
              "    .dataframe tbody tr th:only-of-type {\n",
              "        vertical-align: middle;\n",
              "    }\n",
              "\n",
              "    .dataframe tbody tr th {\n",
              "        vertical-align: top;\n",
              "    }\n",
              "\n",
              "    .dataframe thead th {\n",
              "        text-align: right;\n",
              "    }\n",
              "</style>\n",
              "<table border=\"1\" class=\"dataframe\">\n",
              "  <thead>\n",
              "    <tr style=\"text-align: right;\">\n",
              "      <th></th>\n",
              "      <th>event_time</th>\n",
              "      <th>event_type</th>\n",
              "      <th>category_code</th>\n",
              "      <th>brand</th>\n",
              "      <th>price</th>\n",
              "      <th>user_id</th>\n",
              "      <th>user_session</th>\n",
              "    </tr>\n",
              "  </thead>\n",
              "  <tbody>\n",
              "    <tr>\n",
              "      <th>0</th>\n",
              "      <td>2019-11-01 00:00:00 UTC</td>\n",
              "      <td>view</td>\n",
              "      <td>electronics.smartphone</td>\n",
              "      <td>xiaomi</td>\n",
              "      <td>489.07</td>\n",
              "      <td>520088904</td>\n",
              "      <td>4d3b30da-a5e4-49df-b1a8-ba5943f1dd33</td>\n",
              "    </tr>\n",
              "    <tr>\n",
              "      <th>1</th>\n",
              "      <td>2019-11-01 00:00:00 UTC</td>\n",
              "      <td>view</td>\n",
              "      <td>appliances.sewing_machine</td>\n",
              "      <td>janome</td>\n",
              "      <td>293.65</td>\n",
              "      <td>530496790</td>\n",
              "      <td>8e5f4f83-366c-4f70-860e-ca7417414283</td>\n",
              "    </tr>\n",
              "    <tr>\n",
              "      <th>2</th>\n",
              "      <td>2019-11-01 00:00:01 UTC</td>\n",
              "      <td>view</td>\n",
              "      <td>NaN</td>\n",
              "      <td>creed</td>\n",
              "      <td>28.31</td>\n",
              "      <td>561587266</td>\n",
              "      <td>755422e7-9040-477b-9bd2-6a6e8fd97387</td>\n",
              "    </tr>\n",
              "    <tr>\n",
              "      <th>3</th>\n",
              "      <td>2019-11-01 00:00:01 UTC</td>\n",
              "      <td>view</td>\n",
              "      <td>appliances.kitchen.washer</td>\n",
              "      <td>lg</td>\n",
              "      <td>712.87</td>\n",
              "      <td>518085591</td>\n",
              "      <td>3bfb58cd-7892-48cc-8020-2f17e6de6e7f</td>\n",
              "    </tr>\n",
              "    <tr>\n",
              "      <th>4</th>\n",
              "      <td>2019-11-01 00:00:01 UTC</td>\n",
              "      <td>view</td>\n",
              "      <td>electronics.smartphone</td>\n",
              "      <td>xiaomi</td>\n",
              "      <td>183.27</td>\n",
              "      <td>558856683</td>\n",
              "      <td>313628f1-68b8-460d-84f6-cec7a8796ef2</td>\n",
              "    </tr>\n",
              "    <tr>\n",
              "      <th>5</th>\n",
              "      <td>2019-11-01 00:00:01 UTC</td>\n",
              "      <td>view</td>\n",
              "      <td>computers.notebook</td>\n",
              "      <td>hp</td>\n",
              "      <td>360.09</td>\n",
              "      <td>520772685</td>\n",
              "      <td>816a59f3-f5ae-4ccd-9b23-82aa8c23d33c</td>\n",
              "    </tr>\n",
              "    <tr>\n",
              "      <th>6</th>\n",
              "      <td>2019-11-01 00:00:01 UTC</td>\n",
              "      <td>view</td>\n",
              "      <td>computers.notebook</td>\n",
              "      <td>hp</td>\n",
              "      <td>514.56</td>\n",
              "      <td>514028527</td>\n",
              "      <td>df8184cc-3694-4549-8c8c-6b5171877376</td>\n",
              "    </tr>\n",
              "    <tr>\n",
              "      <th>7</th>\n",
              "      <td>2019-11-01 00:00:02 UTC</td>\n",
              "      <td>view</td>\n",
              "      <td>NaN</td>\n",
              "      <td>rondell</td>\n",
              "      <td>30.86</td>\n",
              "      <td>518574284</td>\n",
              "      <td>5e6ef132-4d7c-4730-8c7f-85aa4082588f</td>\n",
              "    </tr>\n",
              "    <tr>\n",
              "      <th>8</th>\n",
              "      <td>2019-11-01 00:00:02 UTC</td>\n",
              "      <td>view</td>\n",
              "      <td>NaN</td>\n",
              "      <td>michelin</td>\n",
              "      <td>72.72</td>\n",
              "      <td>532364121</td>\n",
              "      <td>0a899268-31eb-46de-898d-09b2da950b24</td>\n",
              "    </tr>\n",
              "    <tr>\n",
              "      <th>9</th>\n",
              "      <td>2019-11-01 00:00:02 UTC</td>\n",
              "      <td>view</td>\n",
              "      <td>electronics.smartphone</td>\n",
              "      <td>apple</td>\n",
              "      <td>732.07</td>\n",
              "      <td>532647354</td>\n",
              "      <td>d2d3d2c6-631d-489e-9fb5-06f340b85be0</td>\n",
              "    </tr>\n",
              "  </tbody>\n",
              "</table>\n",
              "</div>"
            ],
            "text/plain": [
              "                event_time  ...                          user_session\n",
              "0  2019-11-01 00:00:00 UTC  ...  4d3b30da-a5e4-49df-b1a8-ba5943f1dd33\n",
              "1  2019-11-01 00:00:00 UTC  ...  8e5f4f83-366c-4f70-860e-ca7417414283\n",
              "2  2019-11-01 00:00:01 UTC  ...  755422e7-9040-477b-9bd2-6a6e8fd97387\n",
              "3  2019-11-01 00:00:01 UTC  ...  3bfb58cd-7892-48cc-8020-2f17e6de6e7f\n",
              "4  2019-11-01 00:00:01 UTC  ...  313628f1-68b8-460d-84f6-cec7a8796ef2\n",
              "5  2019-11-01 00:00:01 UTC  ...  816a59f3-f5ae-4ccd-9b23-82aa8c23d33c\n",
              "6  2019-11-01 00:00:01 UTC  ...  df8184cc-3694-4549-8c8c-6b5171877376\n",
              "7  2019-11-01 00:00:02 UTC  ...  5e6ef132-4d7c-4730-8c7f-85aa4082588f\n",
              "8  2019-11-01 00:00:02 UTC  ...  0a899268-31eb-46de-898d-09b2da950b24\n",
              "9  2019-11-01 00:00:02 UTC  ...  d2d3d2c6-631d-489e-9fb5-06f340b85be0\n",
              "\n",
              "[10 rows x 7 columns]"
            ]
          },
          "metadata": {},
          "execution_count": 10
        }
      ]
    },
    {
      "cell_type": "code",
      "metadata": {
        "id": "hWr1EXYvBfHX"
      },
      "source": [
        "df2019nov=df2019nov.loc[df2019nov.event_type == 'purchase']"
      ],
      "execution_count": null,
      "outputs": []
    },
    {
      "cell_type": "code",
      "metadata": {
        "colab": {
          "base_uri": "https://localhost:8080/"
        },
        "id": "PaXJ_Iq0GnvD",
        "outputId": "d729f9d8-3e2b-4128-d3d0-156779d25d23"
      },
      "source": [
        "# simple data checking - get row and column of dataframe\n",
        "print(df2019nov.shape)"
      ],
      "execution_count": null,
      "outputs": [
        {
          "output_type": "stream",
          "name": "stdout",
          "text": [
            "(916939, 7)\n"
          ]
        }
      ]
    },
    {
      "cell_type": "code",
      "metadata": {
        "colab": {
          "base_uri": "https://localhost:8080/"
        },
        "id": "uGK0iGrtGnvD",
        "outputId": "b08ec2f2-4f7b-429a-c8de-4b66f159bcdb"
      },
      "source": [
        "# simple data checking - get columns name\n",
        "print(df2019nov.columns)"
      ],
      "execution_count": null,
      "outputs": [
        {
          "output_type": "stream",
          "name": "stdout",
          "text": [
            "Index(['event_time', 'event_type', 'category_code', 'brand', 'price',\n",
            "       'user_id', 'user_session'],\n",
            "      dtype='object')\n"
          ]
        }
      ]
    },
    {
      "cell_type": "code",
      "metadata": {
        "colab": {
          "base_uri": "https://localhost:8080/"
        },
        "id": "vv4mCzj-GnvE",
        "outputId": "a0b7c10e-9460-4026-fe2d-3abfe3db6517"
      },
      "source": [
        "# simple data checking - get dataframe general information\n",
        "df2019nov.info()"
      ],
      "execution_count": null,
      "outputs": [
        {
          "output_type": "stream",
          "name": "stdout",
          "text": [
            "<class 'pandas.core.frame.DataFrame'>\n",
            "Int64Index: 916939 entries, 107 to 67501944\n",
            "Data columns (total 7 columns):\n",
            " #   Column         Non-Null Count   Dtype  \n",
            "---  ------         --------------   -----  \n",
            " 0   event_time     916939 non-null  object \n",
            " 1   event_type     916939 non-null  object \n",
            " 2   category_code  682721 non-null  object \n",
            " 3   brand          843577 non-null  object \n",
            " 4   price          916939 non-null  float64\n",
            " 5   user_id        916939 non-null  int64  \n",
            " 6   user_session   916939 non-null  object \n",
            "dtypes: float64(1), int64(1), object(5)\n",
            "memory usage: 56.0+ MB\n"
          ]
        }
      ]
    },
    {
      "cell_type": "code",
      "metadata": {
        "colab": {
          "base_uri": "https://localhost:8080/"
        },
        "id": "i5_2jsEIGnvG",
        "outputId": "144f5c2e-7636-47c3-a039-1cccd1198f0f"
      },
      "source": [
        "# check standard missing value - multiple column\n",
        "missing_data = df2019nov.isnull()\n",
        "for column in missing_data.columns.values.tolist():\n",
        "    print(column)\n",
        "    print (missing_data[column].value_counts())\n",
        "    print(\"\")  "
      ],
      "execution_count": null,
      "outputs": [
        {
          "output_type": "stream",
          "name": "stdout",
          "text": [
            "event_time\n",
            "False    916939\n",
            "Name: event_time, dtype: int64\n",
            "\n",
            "event_type\n",
            "False    916939\n",
            "Name: event_type, dtype: int64\n",
            "\n",
            "category_code\n",
            "False    682721\n",
            "True     234218\n",
            "Name: category_code, dtype: int64\n",
            "\n",
            "brand\n",
            "False    843577\n",
            "True      73362\n",
            "Name: brand, dtype: int64\n",
            "\n",
            "price\n",
            "False    916939\n",
            "Name: price, dtype: int64\n",
            "\n",
            "user_id\n",
            "False    916939\n",
            "Name: user_id, dtype: int64\n",
            "\n",
            "user_session\n",
            "False    916939\n",
            "Name: user_session, dtype: int64\n",
            "\n"
          ]
        }
      ]
    },
    {
      "cell_type": "code",
      "metadata": {
        "colab": {
          "base_uri": "https://localhost:8080/",
          "height": 417
        },
        "id": "2KJt-DKNLAci",
        "outputId": "39592514-a918-4b8e-fee8-c35a7ad7a10a"
      },
      "source": [
        "# check standard missing value - category_code column\n",
        "df2019nov[df2019nov['category_code'].isnull()]"
      ],
      "execution_count": null,
      "outputs": [
        {
          "output_type": "execute_result",
          "data": {
            "text/html": [
              "<div>\n",
              "<style scoped>\n",
              "    .dataframe tbody tr th:only-of-type {\n",
              "        vertical-align: middle;\n",
              "    }\n",
              "\n",
              "    .dataframe tbody tr th {\n",
              "        vertical-align: top;\n",
              "    }\n",
              "\n",
              "    .dataframe thead th {\n",
              "        text-align: right;\n",
              "    }\n",
              "</style>\n",
              "<table border=\"1\" class=\"dataframe\">\n",
              "  <thead>\n",
              "    <tr style=\"text-align: right;\">\n",
              "      <th></th>\n",
              "      <th>event_time</th>\n",
              "      <th>event_type</th>\n",
              "      <th>category_code</th>\n",
              "      <th>brand</th>\n",
              "      <th>price</th>\n",
              "      <th>user_id</th>\n",
              "      <th>user_session</th>\n",
              "    </tr>\n",
              "  </thead>\n",
              "  <tbody>\n",
              "    <tr>\n",
              "      <th>811</th>\n",
              "      <td>2019-11-01 00:05:34 UTC</td>\n",
              "      <td>purchase</td>\n",
              "      <td>NaN</td>\n",
              "      <td>lucente</td>\n",
              "      <td>109.66</td>\n",
              "      <td>541854711</td>\n",
              "      <td>c41c44d5-ef9b-41b9-9cd6-8d96dda6e927</td>\n",
              "    </tr>\n",
              "    <tr>\n",
              "      <th>1387</th>\n",
              "      <td>2019-11-01 00:09:30 UTC</td>\n",
              "      <td>purchase</td>\n",
              "      <td>NaN</td>\n",
              "      <td>xiaomi</td>\n",
              "      <td>29.58</td>\n",
              "      <td>537372295</td>\n",
              "      <td>c5a5ccdb-ed0b-4706-b25d-829f00441279</td>\n",
              "    </tr>\n",
              "    <tr>\n",
              "      <th>1626</th>\n",
              "      <td>2019-11-01 00:11:03 UTC</td>\n",
              "      <td>purchase</td>\n",
              "      <td>NaN</td>\n",
              "      <td>maxxis</td>\n",
              "      <td>102.58</td>\n",
              "      <td>536635963</td>\n",
              "      <td>bfc42277-448a-4c26-9c4a-9b590fd5e9c8</td>\n",
              "    </tr>\n",
              "    <tr>\n",
              "      <th>1747</th>\n",
              "      <td>2019-11-01 00:11:48 UTC</td>\n",
              "      <td>purchase</td>\n",
              "      <td>NaN</td>\n",
              "      <td>sony</td>\n",
              "      <td>462.79</td>\n",
              "      <td>516426931</td>\n",
              "      <td>ef4867dd-b922-4d92-abec-9a75acb2b769</td>\n",
              "    </tr>\n",
              "    <tr>\n",
              "      <th>1934</th>\n",
              "      <td>2019-11-01 00:13:04 UTC</td>\n",
              "      <td>purchase</td>\n",
              "      <td>NaN</td>\n",
              "      <td>carfashion</td>\n",
              "      <td>43.24</td>\n",
              "      <td>564014296</td>\n",
              "      <td>93724f4c-219f-4c5a-9cdf-d24b7140086e</td>\n",
              "    </tr>\n",
              "    <tr>\n",
              "      <th>...</th>\n",
              "      <td>...</td>\n",
              "      <td>...</td>\n",
              "      <td>...</td>\n",
              "      <td>...</td>\n",
              "      <td>...</td>\n",
              "      <td>...</td>\n",
              "      <td>...</td>\n",
              "    </tr>\n",
              "    <tr>\n",
              "      <th>67499957</th>\n",
              "      <td>2019-11-30 23:46:43 UTC</td>\n",
              "      <td>purchase</td>\n",
              "      <td>NaN</td>\n",
              "      <td>mart</td>\n",
              "      <td>12.84</td>\n",
              "      <td>579644203</td>\n",
              "      <td>c72d79ac-a09e-4459-b794-298b94ec697c</td>\n",
              "    </tr>\n",
              "    <tr>\n",
              "      <th>67500223</th>\n",
              "      <td>2019-11-30 23:48:06 UTC</td>\n",
              "      <td>purchase</td>\n",
              "      <td>NaN</td>\n",
              "      <td>xiaomi</td>\n",
              "      <td>32.15</td>\n",
              "      <td>543234577</td>\n",
              "      <td>4e5830ae-dce9-41ac-b087-3eb38ecbc660</td>\n",
              "    </tr>\n",
              "    <tr>\n",
              "      <th>67500485</th>\n",
              "      <td>2019-11-30 23:49:39 UTC</td>\n",
              "      <td>purchase</td>\n",
              "      <td>NaN</td>\n",
              "      <td>NaN</td>\n",
              "      <td>33.15</td>\n",
              "      <td>512855930</td>\n",
              "      <td>a87e9761-7503-4b36-9375-3498dbb86a46</td>\n",
              "    </tr>\n",
              "    <tr>\n",
              "      <th>67500609</th>\n",
              "      <td>2019-11-30 23:50:31 UTC</td>\n",
              "      <td>purchase</td>\n",
              "      <td>NaN</td>\n",
              "      <td>NaN</td>\n",
              "      <td>277.74</td>\n",
              "      <td>515162380</td>\n",
              "      <td>2842d0e9-4601-49c9-9473-9647f4fca897</td>\n",
              "    </tr>\n",
              "    <tr>\n",
              "      <th>67501944</th>\n",
              "      <td>2019-11-30 23:59:44 UTC</td>\n",
              "      <td>purchase</td>\n",
              "      <td>NaN</td>\n",
              "      <td>NaN</td>\n",
              "      <td>179.16</td>\n",
              "      <td>553345124</td>\n",
              "      <td>58c692ff-c7a9-4e35-9ec4-58598f1940e0</td>\n",
              "    </tr>\n",
              "  </tbody>\n",
              "</table>\n",
              "<p>234218 rows × 7 columns</p>\n",
              "</div>"
            ],
            "text/plain": [
              "                       event_time  ...                          user_session\n",
              "811       2019-11-01 00:05:34 UTC  ...  c41c44d5-ef9b-41b9-9cd6-8d96dda6e927\n",
              "1387      2019-11-01 00:09:30 UTC  ...  c5a5ccdb-ed0b-4706-b25d-829f00441279\n",
              "1626      2019-11-01 00:11:03 UTC  ...  bfc42277-448a-4c26-9c4a-9b590fd5e9c8\n",
              "1747      2019-11-01 00:11:48 UTC  ...  ef4867dd-b922-4d92-abec-9a75acb2b769\n",
              "1934      2019-11-01 00:13:04 UTC  ...  93724f4c-219f-4c5a-9cdf-d24b7140086e\n",
              "...                           ...  ...                                   ...\n",
              "67499957  2019-11-30 23:46:43 UTC  ...  c72d79ac-a09e-4459-b794-298b94ec697c\n",
              "67500223  2019-11-30 23:48:06 UTC  ...  4e5830ae-dce9-41ac-b087-3eb38ecbc660\n",
              "67500485  2019-11-30 23:49:39 UTC  ...  a87e9761-7503-4b36-9375-3498dbb86a46\n",
              "67500609  2019-11-30 23:50:31 UTC  ...  2842d0e9-4601-49c9-9473-9647f4fca897\n",
              "67501944  2019-11-30 23:59:44 UTC  ...  58c692ff-c7a9-4e35-9ec4-58598f1940e0\n",
              "\n",
              "[234218 rows x 7 columns]"
            ]
          },
          "metadata": {},
          "execution_count": 16
        }
      ]
    },
    {
      "cell_type": "code",
      "metadata": {
        "colab": {
          "base_uri": "https://localhost:8080/",
          "height": 35
        },
        "id": "tUY0tLbWGnvI",
        "outputId": "a479d9ca-7304-4040-f9f4-f763808c0953"
      },
      "source": [
        "#check the most frequent value object \n",
        "df2019nov['category_code'].value_counts().idxmax()"
      ],
      "execution_count": null,
      "outputs": [
        {
          "output_type": "execute_result",
          "data": {
            "application/vnd.google.colaboratory.intrinsic+json": {
              "type": "string"
            },
            "text/plain": [
              "'electronics.smartphone'"
            ]
          },
          "metadata": {},
          "execution_count": 17
        }
      ]
    },
    {
      "cell_type": "code",
      "metadata": {
        "colab": {
          "base_uri": "https://localhost:8080/",
          "height": 417
        },
        "id": "OSAK6n7oGnvJ",
        "outputId": "c5218e73-0ea9-4992-f5ef-774898b11f8f"
      },
      "source": [
        "# check standard missing value - brand column\n",
        "df2019nov[df2019nov['brand'].isnull()]"
      ],
      "execution_count": null,
      "outputs": [
        {
          "output_type": "execute_result",
          "data": {
            "text/html": [
              "<div>\n",
              "<style scoped>\n",
              "    .dataframe tbody tr th:only-of-type {\n",
              "        vertical-align: middle;\n",
              "    }\n",
              "\n",
              "    .dataframe tbody tr th {\n",
              "        vertical-align: top;\n",
              "    }\n",
              "\n",
              "    .dataframe thead th {\n",
              "        text-align: right;\n",
              "    }\n",
              "</style>\n",
              "<table border=\"1\" class=\"dataframe\">\n",
              "  <thead>\n",
              "    <tr style=\"text-align: right;\">\n",
              "      <th></th>\n",
              "      <th>event_time</th>\n",
              "      <th>event_type</th>\n",
              "      <th>category_code</th>\n",
              "      <th>brand</th>\n",
              "      <th>price</th>\n",
              "      <th>user_id</th>\n",
              "      <th>user_session</th>\n",
              "    </tr>\n",
              "  </thead>\n",
              "  <tbody>\n",
              "    <tr>\n",
              "      <th>107</th>\n",
              "      <td>2019-11-01 00:00:41 UTC</td>\n",
              "      <td>purchase</td>\n",
              "      <td>furniture.bedroom.bed</td>\n",
              "      <td>NaN</td>\n",
              "      <td>566.30</td>\n",
              "      <td>559368633</td>\n",
              "      <td>d6034fa2-41fb-4ac0-9051-55ea9fc9147a</td>\n",
              "    </tr>\n",
              "    <tr>\n",
              "      <th>2662</th>\n",
              "      <td>2019-11-01 00:17:42 UTC</td>\n",
              "      <td>purchase</td>\n",
              "      <td>NaN</td>\n",
              "      <td>NaN</td>\n",
              "      <td>209.79</td>\n",
              "      <td>566281421</td>\n",
              "      <td>f3e93711-e867-45ce-872c-40e20a698494</td>\n",
              "    </tr>\n",
              "    <tr>\n",
              "      <th>3965</th>\n",
              "      <td>2019-11-01 00:26:05 UTC</td>\n",
              "      <td>purchase</td>\n",
              "      <td>NaN</td>\n",
              "      <td>NaN</td>\n",
              "      <td>31.91</td>\n",
              "      <td>547211786</td>\n",
              "      <td>61ef6104-d3fa-4cbd-ac5d-77a888ec5bac</td>\n",
              "    </tr>\n",
              "    <tr>\n",
              "      <th>5013</th>\n",
              "      <td>2019-11-01 00:31:54 UTC</td>\n",
              "      <td>purchase</td>\n",
              "      <td>NaN</td>\n",
              "      <td>NaN</td>\n",
              "      <td>110.68</td>\n",
              "      <td>552059880</td>\n",
              "      <td>0ca8079b-fa77-447b-8420-370609ee8cad</td>\n",
              "    </tr>\n",
              "    <tr>\n",
              "      <th>5320</th>\n",
              "      <td>2019-11-01 00:33:27 UTC</td>\n",
              "      <td>purchase</td>\n",
              "      <td>NaN</td>\n",
              "      <td>NaN</td>\n",
              "      <td>55.86</td>\n",
              "      <td>547961159</td>\n",
              "      <td>471fb850-e031-4b0c-84bd-719e22d1b0cc</td>\n",
              "    </tr>\n",
              "    <tr>\n",
              "      <th>...</th>\n",
              "      <td>...</td>\n",
              "      <td>...</td>\n",
              "      <td>...</td>\n",
              "      <td>...</td>\n",
              "      <td>...</td>\n",
              "      <td>...</td>\n",
              "      <td>...</td>\n",
              "    </tr>\n",
              "    <tr>\n",
              "      <th>67499603</th>\n",
              "      <td>2019-11-30 23:44:50 UTC</td>\n",
              "      <td>purchase</td>\n",
              "      <td>NaN</td>\n",
              "      <td>NaN</td>\n",
              "      <td>340.03</td>\n",
              "      <td>558165637</td>\n",
              "      <td>f1bce7dd-0d69-492c-8a65-189a70956ee4</td>\n",
              "    </tr>\n",
              "    <tr>\n",
              "      <th>67499832</th>\n",
              "      <td>2019-11-30 23:46:03 UTC</td>\n",
              "      <td>purchase</td>\n",
              "      <td>appliances.environment.air_heater</td>\n",
              "      <td>NaN</td>\n",
              "      <td>217.10</td>\n",
              "      <td>569991813</td>\n",
              "      <td>c99ba9f9-a099-4863-add6-94bbc74a3e6c</td>\n",
              "    </tr>\n",
              "    <tr>\n",
              "      <th>67500485</th>\n",
              "      <td>2019-11-30 23:49:39 UTC</td>\n",
              "      <td>purchase</td>\n",
              "      <td>NaN</td>\n",
              "      <td>NaN</td>\n",
              "      <td>33.15</td>\n",
              "      <td>512855930</td>\n",
              "      <td>a87e9761-7503-4b36-9375-3498dbb86a46</td>\n",
              "    </tr>\n",
              "    <tr>\n",
              "      <th>67500609</th>\n",
              "      <td>2019-11-30 23:50:31 UTC</td>\n",
              "      <td>purchase</td>\n",
              "      <td>NaN</td>\n",
              "      <td>NaN</td>\n",
              "      <td>277.74</td>\n",
              "      <td>515162380</td>\n",
              "      <td>2842d0e9-4601-49c9-9473-9647f4fca897</td>\n",
              "    </tr>\n",
              "    <tr>\n",
              "      <th>67501944</th>\n",
              "      <td>2019-11-30 23:59:44 UTC</td>\n",
              "      <td>purchase</td>\n",
              "      <td>NaN</td>\n",
              "      <td>NaN</td>\n",
              "      <td>179.16</td>\n",
              "      <td>553345124</td>\n",
              "      <td>58c692ff-c7a9-4e35-9ec4-58598f1940e0</td>\n",
              "    </tr>\n",
              "  </tbody>\n",
              "</table>\n",
              "<p>73362 rows × 7 columns</p>\n",
              "</div>"
            ],
            "text/plain": [
              "                       event_time  ...                          user_session\n",
              "107       2019-11-01 00:00:41 UTC  ...  d6034fa2-41fb-4ac0-9051-55ea9fc9147a\n",
              "2662      2019-11-01 00:17:42 UTC  ...  f3e93711-e867-45ce-872c-40e20a698494\n",
              "3965      2019-11-01 00:26:05 UTC  ...  61ef6104-d3fa-4cbd-ac5d-77a888ec5bac\n",
              "5013      2019-11-01 00:31:54 UTC  ...  0ca8079b-fa77-447b-8420-370609ee8cad\n",
              "5320      2019-11-01 00:33:27 UTC  ...  471fb850-e031-4b0c-84bd-719e22d1b0cc\n",
              "...                           ...  ...                                   ...\n",
              "67499603  2019-11-30 23:44:50 UTC  ...  f1bce7dd-0d69-492c-8a65-189a70956ee4\n",
              "67499832  2019-11-30 23:46:03 UTC  ...  c99ba9f9-a099-4863-add6-94bbc74a3e6c\n",
              "67500485  2019-11-30 23:49:39 UTC  ...  a87e9761-7503-4b36-9375-3498dbb86a46\n",
              "67500609  2019-11-30 23:50:31 UTC  ...  2842d0e9-4601-49c9-9473-9647f4fca897\n",
              "67501944  2019-11-30 23:59:44 UTC  ...  58c692ff-c7a9-4e35-9ec4-58598f1940e0\n",
              "\n",
              "[73362 rows x 7 columns]"
            ]
          },
          "metadata": {},
          "execution_count": 18
        }
      ]
    },
    {
      "cell_type": "code",
      "metadata": {
        "id": "MnYao00pGnvJ",
        "colab": {
          "base_uri": "https://localhost:8080/",
          "height": 35
        },
        "outputId": "d28b0091-70bf-4a07-fd51-2fa7cd862b2a"
      },
      "source": [
        "# check the most frequent value object - brand column\n",
        "df2019nov['brand'].value_counts().idxmax()"
      ],
      "execution_count": null,
      "outputs": [
        {
          "output_type": "execute_result",
          "data": {
            "application/vnd.google.colaboratory.intrinsic+json": {
              "type": "string"
            },
            "text/plain": [
              "'samsung'"
            ]
          },
          "metadata": {},
          "execution_count": 19
        }
      ]
    },
    {
      "cell_type": "code",
      "metadata": {
        "id": "tfEjQ5GeGnvK"
      },
      "source": [
        "# handle missing data - replace values with the most frequent value object - category_code column\n",
        "df2019nov['category_code'].replace(np.nan, 'electronics.smartphone', inplace=True)"
      ],
      "execution_count": null,
      "outputs": []
    },
    {
      "cell_type": "code",
      "metadata": {
        "id": "dPbGa3qyGnvL"
      },
      "source": [
        "# handle missing data - replace values with the most frequent value object- brand column\n",
        "df2019nov['brand'].replace(np.nan, 'samsung', inplace=True)"
      ],
      "execution_count": null,
      "outputs": []
    },
    {
      "cell_type": "code",
      "metadata": {
        "id": "z9LPXWYLGnvL",
        "colab": {
          "base_uri": "https://localhost:8080/"
        },
        "outputId": "ed11eca4-ed05-49fe-fc0d-5a57dc056505"
      },
      "source": [
        "# check again standard missing value - multiple column\n",
        "missing_data = df2019nov.isnull()\n",
        "for column in missing_data.columns.values.tolist():\n",
        "    print(column)\n",
        "    print (missing_data[column].value_counts())\n",
        "    print(\"\")"
      ],
      "execution_count": null,
      "outputs": [
        {
          "output_type": "stream",
          "name": "stdout",
          "text": [
            "event_time\n",
            "False    916939\n",
            "Name: event_time, dtype: int64\n",
            "\n",
            "event_type\n",
            "False    916939\n",
            "Name: event_type, dtype: int64\n",
            "\n",
            "category_code\n",
            "False    916939\n",
            "Name: category_code, dtype: int64\n",
            "\n",
            "brand\n",
            "False    916939\n",
            "Name: brand, dtype: int64\n",
            "\n",
            "price\n",
            "False    916939\n",
            "Name: price, dtype: int64\n",
            "\n",
            "user_id\n",
            "False    916939\n",
            "Name: user_id, dtype: int64\n",
            "\n",
            "user_session\n",
            "False    916939\n",
            "Name: user_session, dtype: int64\n",
            "\n"
          ]
        }
      ]
    },
    {
      "cell_type": "markdown",
      "metadata": {
        "id": "yJT7cuf5HBV-"
      },
      "source": [
        "## **Handle Outlier**"
      ]
    },
    {
      "cell_type": "code",
      "metadata": {
        "id": "Q6P1nH2sHBWM",
        "colab": {
          "base_uri": "https://localhost:8080/",
          "height": 295
        },
        "outputId": "e2fab8ab-6b72-49d1-f2a6-16f422917088"
      },
      "source": [
        "# simple data checking - get dataframe description\n",
        "df2019nov.describe()"
      ],
      "execution_count": null,
      "outputs": [
        {
          "output_type": "execute_result",
          "data": {
            "text/html": [
              "<div>\n",
              "<style scoped>\n",
              "    .dataframe tbody tr th:only-of-type {\n",
              "        vertical-align: middle;\n",
              "    }\n",
              "\n",
              "    .dataframe tbody tr th {\n",
              "        vertical-align: top;\n",
              "    }\n",
              "\n",
              "    .dataframe thead th {\n",
              "        text-align: right;\n",
              "    }\n",
              "</style>\n",
              "<table border=\"1\" class=\"dataframe\">\n",
              "  <thead>\n",
              "    <tr style=\"text-align: right;\">\n",
              "      <th></th>\n",
              "      <th>price</th>\n",
              "      <th>user_id</th>\n",
              "    </tr>\n",
              "  </thead>\n",
              "  <tbody>\n",
              "    <tr>\n",
              "      <th>count</th>\n",
              "      <td>916939.000000</td>\n",
              "      <td>9.169390e+05</td>\n",
              "    </tr>\n",
              "    <tr>\n",
              "      <th>mean</th>\n",
              "      <td>300.123444</td>\n",
              "      <td>5.423052e+08</td>\n",
              "    </tr>\n",
              "    <tr>\n",
              "      <th>std</th>\n",
              "      <td>341.380994</td>\n",
              "      <td>2.242181e+07</td>\n",
              "    </tr>\n",
              "    <tr>\n",
              "      <th>min</th>\n",
              "      <td>0.770000</td>\n",
              "      <td>1.383403e+08</td>\n",
              "    </tr>\n",
              "    <tr>\n",
              "      <th>25%</th>\n",
              "      <td>82.630000</td>\n",
              "      <td>5.187021e+08</td>\n",
              "    </tr>\n",
              "    <tr>\n",
              "      <th>50%</th>\n",
              "      <td>169.960000</td>\n",
              "      <td>5.430280e+08</td>\n",
              "    </tr>\n",
              "    <tr>\n",
              "      <th>75%</th>\n",
              "      <td>364.750000</td>\n",
              "      <td>5.646835e+08</td>\n",
              "    </tr>\n",
              "    <tr>\n",
              "      <th>max</th>\n",
              "      <td>2574.070000</td>\n",
              "      <td>5.799671e+08</td>\n",
              "    </tr>\n",
              "  </tbody>\n",
              "</table>\n",
              "</div>"
            ],
            "text/plain": [
              "               price       user_id\n",
              "count  916939.000000  9.169390e+05\n",
              "mean      300.123444  5.423052e+08\n",
              "std       341.380994  2.242181e+07\n",
              "min         0.770000  1.383403e+08\n",
              "25%        82.630000  5.187021e+08\n",
              "50%       169.960000  5.430280e+08\n",
              "75%       364.750000  5.646835e+08\n",
              "max      2574.070000  5.799671e+08"
            ]
          },
          "metadata": {},
          "execution_count": 23
        }
      ]
    },
    {
      "cell_type": "code",
      "metadata": {
        "id": "YLmMYxSeHBWO",
        "colab": {
          "base_uri": "https://localhost:8080/",
          "height": 357
        },
        "outputId": "66795389-5089-4558-b370-859dc980b527"
      },
      "source": [
        "df2019nov.head(10)"
      ],
      "execution_count": null,
      "outputs": [
        {
          "output_type": "execute_result",
          "data": {
            "text/html": [
              "<div>\n",
              "<style scoped>\n",
              "    .dataframe tbody tr th:only-of-type {\n",
              "        vertical-align: middle;\n",
              "    }\n",
              "\n",
              "    .dataframe tbody tr th {\n",
              "        vertical-align: top;\n",
              "    }\n",
              "\n",
              "    .dataframe thead th {\n",
              "        text-align: right;\n",
              "    }\n",
              "</style>\n",
              "<table border=\"1\" class=\"dataframe\">\n",
              "  <thead>\n",
              "    <tr style=\"text-align: right;\">\n",
              "      <th></th>\n",
              "      <th>event_time</th>\n",
              "      <th>event_type</th>\n",
              "      <th>category_code</th>\n",
              "      <th>brand</th>\n",
              "      <th>price</th>\n",
              "      <th>user_id</th>\n",
              "      <th>user_session</th>\n",
              "    </tr>\n",
              "  </thead>\n",
              "  <tbody>\n",
              "    <tr>\n",
              "      <th>107</th>\n",
              "      <td>2019-11-01 00:00:41 UTC</td>\n",
              "      <td>purchase</td>\n",
              "      <td>furniture.bedroom.bed</td>\n",
              "      <td>samsung</td>\n",
              "      <td>566.30</td>\n",
              "      <td>559368633</td>\n",
              "      <td>d6034fa2-41fb-4ac0-9051-55ea9fc9147a</td>\n",
              "    </tr>\n",
              "    <tr>\n",
              "      <th>168</th>\n",
              "      <td>2019-11-01 00:01:04 UTC</td>\n",
              "      <td>purchase</td>\n",
              "      <td>electronics.smartphone</td>\n",
              "      <td>xiaomi</td>\n",
              "      <td>211.92</td>\n",
              "      <td>513351129</td>\n",
              "      <td>e6b7ce9b-1938-4e20-976c-8b4163aea11d</td>\n",
              "    </tr>\n",
              "    <tr>\n",
              "      <th>707</th>\n",
              "      <td>2019-11-01 00:04:51 UTC</td>\n",
              "      <td>purchase</td>\n",
              "      <td>electronics.smartphone</td>\n",
              "      <td>samsung</td>\n",
              "      <td>128.42</td>\n",
              "      <td>562958505</td>\n",
              "      <td>0f039697-fedc-40fa-8830-39c1a024351d</td>\n",
              "    </tr>\n",
              "    <tr>\n",
              "      <th>811</th>\n",
              "      <td>2019-11-01 00:05:34 UTC</td>\n",
              "      <td>purchase</td>\n",
              "      <td>electronics.smartphone</td>\n",
              "      <td>lucente</td>\n",
              "      <td>109.66</td>\n",
              "      <td>541854711</td>\n",
              "      <td>c41c44d5-ef9b-41b9-9cd6-8d96dda6e927</td>\n",
              "    </tr>\n",
              "    <tr>\n",
              "      <th>939</th>\n",
              "      <td>2019-11-01 00:06:33 UTC</td>\n",
              "      <td>purchase</td>\n",
              "      <td>electronics.video.tv</td>\n",
              "      <td>samsung</td>\n",
              "      <td>488.80</td>\n",
              "      <td>557746614</td>\n",
              "      <td>4d76d6d3-fff5-4880-8327-e9e57b618e0e</td>\n",
              "    </tr>\n",
              "    <tr>\n",
              "      <th>942</th>\n",
              "      <td>2019-11-01 00:06:34 UTC</td>\n",
              "      <td>purchase</td>\n",
              "      <td>electronics.audio.subwoofer</td>\n",
              "      <td>nakamichi</td>\n",
              "      <td>123.56</td>\n",
              "      <td>514166940</td>\n",
              "      <td>8ef5214a-86ad-4d0b-8df3-4280dd411b47</td>\n",
              "    </tr>\n",
              "    <tr>\n",
              "      <th>1107</th>\n",
              "      <td>2019-11-01 00:07:38 UTC</td>\n",
              "      <td>purchase</td>\n",
              "      <td>construction.tools.welding</td>\n",
              "      <td>magnetta</td>\n",
              "      <td>254.78</td>\n",
              "      <td>515240495</td>\n",
              "      <td>0253151d-5c84-4809-ba02-38ac405494e1</td>\n",
              "    </tr>\n",
              "    <tr>\n",
              "      <th>1387</th>\n",
              "      <td>2019-11-01 00:09:30 UTC</td>\n",
              "      <td>purchase</td>\n",
              "      <td>electronics.smartphone</td>\n",
              "      <td>xiaomi</td>\n",
              "      <td>29.58</td>\n",
              "      <td>537372295</td>\n",
              "      <td>c5a5ccdb-ed0b-4706-b25d-829f00441279</td>\n",
              "    </tr>\n",
              "    <tr>\n",
              "      <th>1490</th>\n",
              "      <td>2019-11-01 00:10:12 UTC</td>\n",
              "      <td>purchase</td>\n",
              "      <td>electronics.video.tv</td>\n",
              "      <td>samsung</td>\n",
              "      <td>488.80</td>\n",
              "      <td>557746614</td>\n",
              "      <td>4d76d6d3-fff5-4880-8327-e9e57b618e0e</td>\n",
              "    </tr>\n",
              "    <tr>\n",
              "      <th>1563</th>\n",
              "      <td>2019-11-01 00:10:38 UTC</td>\n",
              "      <td>purchase</td>\n",
              "      <td>electronics.audio.music_tools.piano</td>\n",
              "      <td>cortland</td>\n",
              "      <td>84.94</td>\n",
              "      <td>538417163</td>\n",
              "      <td>3dae61c1-d018-44fd-b95a-b6b7659f11e3</td>\n",
              "    </tr>\n",
              "  </tbody>\n",
              "</table>\n",
              "</div>"
            ],
            "text/plain": [
              "                   event_time  ...                          user_session\n",
              "107   2019-11-01 00:00:41 UTC  ...  d6034fa2-41fb-4ac0-9051-55ea9fc9147a\n",
              "168   2019-11-01 00:01:04 UTC  ...  e6b7ce9b-1938-4e20-976c-8b4163aea11d\n",
              "707   2019-11-01 00:04:51 UTC  ...  0f039697-fedc-40fa-8830-39c1a024351d\n",
              "811   2019-11-01 00:05:34 UTC  ...  c41c44d5-ef9b-41b9-9cd6-8d96dda6e927\n",
              "939   2019-11-01 00:06:33 UTC  ...  4d76d6d3-fff5-4880-8327-e9e57b618e0e\n",
              "942   2019-11-01 00:06:34 UTC  ...  8ef5214a-86ad-4d0b-8df3-4280dd411b47\n",
              "1107  2019-11-01 00:07:38 UTC  ...  0253151d-5c84-4809-ba02-38ac405494e1\n",
              "1387  2019-11-01 00:09:30 UTC  ...  c5a5ccdb-ed0b-4706-b25d-829f00441279\n",
              "1490  2019-11-01 00:10:12 UTC  ...  4d76d6d3-fff5-4880-8327-e9e57b618e0e\n",
              "1563  2019-11-01 00:10:38 UTC  ...  3dae61c1-d018-44fd-b95a-b6b7659f11e3\n",
              "\n",
              "[10 rows x 7 columns]"
            ]
          },
          "metadata": {},
          "execution_count": 24
        }
      ]
    },
    {
      "cell_type": "code",
      "metadata": {
        "id": "HS_9YJnEHBWP"
      },
      "source": [
        "# assign variable for column in numeric type\n",
        "numeric_column = ['price']"
      ],
      "execution_count": null,
      "outputs": []
    },
    {
      "cell_type": "code",
      "metadata": {
        "id": "JmCDmenWHBWQ",
        "colab": {
          "base_uri": "https://localhost:8080/",
          "height": 337
        },
        "outputId": "6d591860-ce87-4cf2-8bfd-d6f19dd42d3e"
      },
      "source": [
        "# check outlier using boxplot - 1\n",
        "df2019nov.boxplot(\n",
        "    column=['price'],\n",
        "    fontsize=10,\n",
        "    rot=0,\n",
        "    grid=False,\n",
        "    figsize=(5,5),\n",
        "    vert=False\n",
        "    )"
      ],
      "execution_count": null,
      "outputs": [
        {
          "output_type": "execute_result",
          "data": {
            "text/plain": [
              "<matplotlib.axes._subplots.AxesSubplot at 0x7fccd1264150>"
            ]
          },
          "metadata": {},
          "execution_count": 26
        },
        {
          "output_type": "display_data",
          "data": {
            "image/png": "[encoded data removed]",
            "text/plain": [
              "<Figure size 360x360 with 1 Axes>"
            ]
          },
          "metadata": {
            "needs_background": "light"
          }
        }
      ]
    },
    {
      "cell_type": "code",
      "metadata": {
        "id": "oA09UheGHBWS",
        "colab": {
          "base_uri": "https://localhost:8080/"
        },
        "outputId": "523828dc-b5bd-4483-cff8-ade3b0b67773"
      },
      "source": [
        "# get IQR for each numeric column\n",
        "Q1 = df2019nov[numeric_column].quantile(0.25)\n",
        "Q3 = df2019nov[numeric_column].quantile(0.75)\n",
        "IQR = Q3 - Q1\n",
        "boxplot_min = Q1 - 1.5 * IQR\n",
        "boxplot_max = Q3 + 1.5 * IQR\n",
        "print('Q1:\\n',Q1)\n",
        "print('\\nQ3:\\n',Q3)\n",
        "print('\\nIQR:\\n',IQR)\n",
        "print('\\nMin:\\n',boxplot_min)\n",
        "print('\\nMax:\\n',boxplot_max)"
      ],
      "execution_count": null,
      "outputs": [
        {
          "output_type": "stream",
          "name": "stdout",
          "text": [
            "Q1:\n",
            " price    82.63\n",
            "Name: 0.25, dtype: float64\n",
            "\n",
            "Q3:\n",
            " price    364.75\n",
            "Name: 0.75, dtype: float64\n",
            "\n",
            "IQR:\n",
            " price    282.12\n",
            "dtype: float64\n",
            "\n",
            "Min:\n",
            " price   -340.55\n",
            "dtype: float64\n",
            "\n",
            "Max:\n",
            " price    787.93\n",
            "dtype: float64\n"
          ]
        }
      ]
    },
    {
      "cell_type": "code",
      "metadata": {
        "id": "dCJvoGH4HBWT"
      },
      "source": [
        "# filter price\n",
        "filter_price_min = df2019nov['price']<boxplot_min['price']\n",
        "filter_price_max = df2019nov['price']>boxplot_max['price']\n",
        "\n",
        "df2019nov_non_outlier = df2019nov[(\n",
        "    filter_price_min|filter_price_max\n",
        "    )]"
      ],
      "execution_count": null,
      "outputs": []
    },
    {
      "cell_type": "code",
      "metadata": {
        "id": "GVj633cuHBWU",
        "colab": {
          "base_uri": "https://localhost:8080/"
        },
        "outputId": "c231c27f-4f5b-4515-8c93-db4340a3db06"
      },
      "source": [
        "df2019nov_non_outlier.shape"
      ],
      "execution_count": null,
      "outputs": [
        {
          "output_type": "execute_result",
          "data": {
            "text/plain": [
              "(97631, 7)"
            ]
          },
          "metadata": {},
          "execution_count": 29
        }
      ]
    },
    {
      "cell_type": "code",
      "metadata": {
        "id": "l7EGkRMcHBWV",
        "colab": {
          "base_uri": "https://localhost:8080/",
          "height": 357
        },
        "outputId": "2fb6d010-c4fb-4798-d128-f8041a2f9432"
      },
      "source": [
        "df2019nov_non_outlier.head(10)"
      ],
      "execution_count": null,
      "outputs": [
        {
          "output_type": "execute_result",
          "data": {
            "text/html": [
              "<div>\n",
              "<style scoped>\n",
              "    .dataframe tbody tr th:only-of-type {\n",
              "        vertical-align: middle;\n",
              "    }\n",
              "\n",
              "    .dataframe tbody tr th {\n",
              "        vertical-align: top;\n",
              "    }\n",
              "\n",
              "    .dataframe thead th {\n",
              "        text-align: right;\n",
              "    }\n",
              "</style>\n",
              "<table border=\"1\" class=\"dataframe\">\n",
              "  <thead>\n",
              "    <tr style=\"text-align: right;\">\n",
              "      <th></th>\n",
              "      <th>event_time</th>\n",
              "      <th>event_type</th>\n",
              "      <th>category_code</th>\n",
              "      <th>brand</th>\n",
              "      <th>price</th>\n",
              "      <th>user_id</th>\n",
              "      <th>user_session</th>\n",
              "    </tr>\n",
              "  </thead>\n",
              "  <tbody>\n",
              "    <tr>\n",
              "      <th>1584</th>\n",
              "      <td>2019-11-01 00:10:47 UTC</td>\n",
              "      <td>purchase</td>\n",
              "      <td>electronics.smartphone</td>\n",
              "      <td>apple</td>\n",
              "      <td>1583.48</td>\n",
              "      <td>562210838</td>\n",
              "      <td>a58d94c8-c0d4-4f24-bf3c-04c4e69ea153</td>\n",
              "    </tr>\n",
              "    <tr>\n",
              "      <th>1951</th>\n",
              "      <td>2019-11-01 00:13:10 UTC</td>\n",
              "      <td>purchase</td>\n",
              "      <td>electronics.smartphone</td>\n",
              "      <td>apple</td>\n",
              "      <td>1337.23</td>\n",
              "      <td>518267348</td>\n",
              "      <td>61f913b1-ed5f-4495-8139-7e3e20be92c3</td>\n",
              "    </tr>\n",
              "    <tr>\n",
              "      <th>2309</th>\n",
              "      <td>2019-11-01 00:15:23 UTC</td>\n",
              "      <td>purchase</td>\n",
              "      <td>electronics.smartphone</td>\n",
              "      <td>apple</td>\n",
              "      <td>1348.61</td>\n",
              "      <td>518840496</td>\n",
              "      <td>ef3daa59-4936-43e5-a530-32902f64b2f4</td>\n",
              "    </tr>\n",
              "    <tr>\n",
              "      <th>3723</th>\n",
              "      <td>2019-11-01 00:24:39 UTC</td>\n",
              "      <td>purchase</td>\n",
              "      <td>electronics.smartphone</td>\n",
              "      <td>apple</td>\n",
              "      <td>1665.36</td>\n",
              "      <td>530717866</td>\n",
              "      <td>42968c23-4198-432a-b50b-969bae6c916f</td>\n",
              "    </tr>\n",
              "    <tr>\n",
              "      <th>3730</th>\n",
              "      <td>2019-11-01 00:24:44 UTC</td>\n",
              "      <td>purchase</td>\n",
              "      <td>electronics.smartphone</td>\n",
              "      <td>apple</td>\n",
              "      <td>1013.86</td>\n",
              "      <td>516316320</td>\n",
              "      <td>bb657773-1a1e-465d-b742-c54d32e0d82f</td>\n",
              "    </tr>\n",
              "    <tr>\n",
              "      <th>3982</th>\n",
              "      <td>2019-11-01 00:26:10 UTC</td>\n",
              "      <td>purchase</td>\n",
              "      <td>electronics.smartphone</td>\n",
              "      <td>apple</td>\n",
              "      <td>1665.36</td>\n",
              "      <td>530717866</td>\n",
              "      <td>42968c23-4198-432a-b50b-969bae6c916f</td>\n",
              "    </tr>\n",
              "    <tr>\n",
              "      <th>5284</th>\n",
              "      <td>2019-11-01 00:33:17 UTC</td>\n",
              "      <td>purchase</td>\n",
              "      <td>electronics.smartphone</td>\n",
              "      <td>apple</td>\n",
              "      <td>1665.36</td>\n",
              "      <td>542210844</td>\n",
              "      <td>f7638f88-5128-4c10-967c-7ebc1fb26da8</td>\n",
              "    </tr>\n",
              "    <tr>\n",
              "      <th>7422</th>\n",
              "      <td>2019-11-01 00:43:43 UTC</td>\n",
              "      <td>purchase</td>\n",
              "      <td>electronics.smartphone</td>\n",
              "      <td>apple</td>\n",
              "      <td>1348.61</td>\n",
              "      <td>566285050</td>\n",
              "      <td>27f5d428-f19a-4f58-858c-b3147c9e86df</td>\n",
              "    </tr>\n",
              "    <tr>\n",
              "      <th>7515</th>\n",
              "      <td>2019-11-01 00:44:06 UTC</td>\n",
              "      <td>purchase</td>\n",
              "      <td>electronics.smartphone</td>\n",
              "      <td>apple</td>\n",
              "      <td>1003.63</td>\n",
              "      <td>551678170</td>\n",
              "      <td>3c403ca1-1a0d-413b-aa45-8551aa4e2920</td>\n",
              "    </tr>\n",
              "    <tr>\n",
              "      <th>9399</th>\n",
              "      <td>2019-11-01 00:53:10 UTC</td>\n",
              "      <td>purchase</td>\n",
              "      <td>electronics.smartphone</td>\n",
              "      <td>apple</td>\n",
              "      <td>1348.61</td>\n",
              "      <td>536267449</td>\n",
              "      <td>2ec3f637-ba50-46d1-89ae-c9dfe5012920</td>\n",
              "    </tr>\n",
              "  </tbody>\n",
              "</table>\n",
              "</div>"
            ],
            "text/plain": [
              "                   event_time  ...                          user_session\n",
              "1584  2019-11-01 00:10:47 UTC  ...  a58d94c8-c0d4-4f24-bf3c-04c4e69ea153\n",
              "1951  2019-11-01 00:13:10 UTC  ...  61f913b1-ed5f-4495-8139-7e3e20be92c3\n",
              "2309  2019-11-01 00:15:23 UTC  ...  ef3daa59-4936-43e5-a530-32902f64b2f4\n",
              "3723  2019-11-01 00:24:39 UTC  ...  42968c23-4198-432a-b50b-969bae6c916f\n",
              "3730  2019-11-01 00:24:44 UTC  ...  bb657773-1a1e-465d-b742-c54d32e0d82f\n",
              "3982  2019-11-01 00:26:10 UTC  ...  42968c23-4198-432a-b50b-969bae6c916f\n",
              "5284  2019-11-01 00:33:17 UTC  ...  f7638f88-5128-4c10-967c-7ebc1fb26da8\n",
              "7422  2019-11-01 00:43:43 UTC  ...  27f5d428-f19a-4f58-858c-b3147c9e86df\n",
              "7515  2019-11-01 00:44:06 UTC  ...  3c403ca1-1a0d-413b-aa45-8551aa4e2920\n",
              "9399  2019-11-01 00:53:10 UTC  ...  2ec3f637-ba50-46d1-89ae-c9dfe5012920\n",
              "\n",
              "[10 rows x 7 columns]"
            ]
          },
          "metadata": {},
          "execution_count": 30
        }
      ]
    },
    {
      "cell_type": "markdown",
      "metadata": {
        "id": "gGb8LsDqFow1"
      },
      "source": [
        "## **Handle Date Column**"
      ]
    },
    {
      "cell_type": "code",
      "metadata": {
        "colab": {
          "base_uri": "https://localhost:8080/"
        },
        "id": "VoXNOBDhFow-",
        "outputId": "b8cbd00f-10c7-4d7e-a7c9-3af2efca3456"
      },
      "source": [
        "# simple data checking - get row and column of dataframe\n",
        "print(df2019nov_non_outlier.shape)"
      ],
      "execution_count": null,
      "outputs": [
        {
          "output_type": "stream",
          "name": "stdout",
          "text": [
            "(97631, 7)\n"
          ]
        }
      ]
    },
    {
      "cell_type": "code",
      "metadata": {
        "colab": {
          "base_uri": "https://localhost:8080/"
        },
        "id": "B-_igsO0Fow-",
        "outputId": "621ad973-cef7-4a2d-f28f-b71c21bbea17"
      },
      "source": [
        "# simple data checking - get columns name\n",
        "print(df2019nov_non_outlier.columns)"
      ],
      "execution_count": null,
      "outputs": [
        {
          "output_type": "stream",
          "name": "stdout",
          "text": [
            "Index(['event_time', 'event_type', 'category_code', 'brand', 'price',\n",
            "       'user_id', 'user_session'],\n",
            "      dtype='object')\n"
          ]
        }
      ]
    },
    {
      "cell_type": "code",
      "metadata": {
        "colab": {
          "base_uri": "https://localhost:8080/"
        },
        "id": "0gPbvDwoFow_",
        "outputId": "b0e3be78-ad77-429a-fec6-282e7b3fcb1c"
      },
      "source": [
        "# simple data checking - get dataframe general information\n",
        "df2019nov_non_outlier.info()"
      ],
      "execution_count": null,
      "outputs": [
        {
          "output_type": "stream",
          "name": "stdout",
          "text": [
            "<class 'pandas.core.frame.DataFrame'>\n",
            "Int64Index: 97631 entries, 1584 to 67501745\n",
            "Data columns (total 7 columns):\n",
            " #   Column         Non-Null Count  Dtype  \n",
            "---  ------         --------------  -----  \n",
            " 0   event_time     97631 non-null  object \n",
            " 1   event_type     97631 non-null  object \n",
            " 2   category_code  97631 non-null  object \n",
            " 3   brand          97631 non-null  object \n",
            " 4   price          97631 non-null  float64\n",
            " 5   user_id        97631 non-null  int64  \n",
            " 6   user_session   97631 non-null  object \n",
            "dtypes: float64(1), int64(1), object(5)\n",
            "memory usage: 6.0+ MB\n"
          ]
        }
      ]
    },
    {
      "cell_type": "code",
      "metadata": {
        "colab": {
          "base_uri": "https://localhost:8080/"
        },
        "id": "y_YZhaBjFow_",
        "outputId": "0c5ff676-1f65-45b0-edd6-ae2251694c39"
      },
      "source": [
        "# simple data checking - check 1 of the date column\n",
        "df2019nov_non_outlier['event_time'].head(15)"
      ],
      "execution_count": null,
      "outputs": [
        {
          "output_type": "execute_result",
          "data": {
            "text/plain": [
              "1584     2019-11-01 00:10:47 UTC\n",
              "1951     2019-11-01 00:13:10 UTC\n",
              "2309     2019-11-01 00:15:23 UTC\n",
              "3723     2019-11-01 00:24:39 UTC\n",
              "3730     2019-11-01 00:24:44 UTC\n",
              "3982     2019-11-01 00:26:10 UTC\n",
              "5284     2019-11-01 00:33:17 UTC\n",
              "7422     2019-11-01 00:43:43 UTC\n",
              "7515     2019-11-01 00:44:06 UTC\n",
              "9399     2019-11-01 00:53:10 UTC\n",
              "11882    2019-11-01 01:03:56 UTC\n",
              "11895    2019-11-01 01:04:00 UTC\n",
              "12605    2019-11-01 01:06:41 UTC\n",
              "12655    2019-11-01 01:06:52 UTC\n",
              "13024    2019-11-01 01:08:25 UTC\n",
              "Name: event_time, dtype: object"
            ]
          },
          "metadata": {},
          "execution_count": 47
        }
      ]
    },
    {
      "cell_type": "code",
      "metadata": {
        "colab": {
          "base_uri": "https://localhost:8080/"
        },
        "id": "U9OKBFSpFow_",
        "outputId": "845e7637-9687-4a81-ba69-36496d589654"
      },
      "source": [
        "df2019nov_non_outlier['event_time'].value_counts()"
      ],
      "execution_count": null,
      "outputs": [
        {
          "output_type": "execute_result",
          "data": {
            "text/plain": [
              "2019-11-17 10:44:59 UTC    5\n",
              "2019-11-17 15:10:59 UTC    5\n",
              "2019-11-17 06:24:22 UTC    5\n",
              "2019-11-17 11:55:59 UTC    5\n",
              "2019-11-17 15:10:14 UTC    5\n",
              "                          ..\n",
              "2019-11-17 14:17:15 UTC    1\n",
              "2019-11-17 17:21:40 UTC    1\n",
              "2019-11-18 10:28:25 UTC    1\n",
              "2019-11-18 12:41:09 UTC    1\n",
              "2019-11-16 15:07:31 UTC    1\n",
              "Name: event_time, Length: 90981, dtype: int64"
            ]
          },
          "metadata": {},
          "execution_count": 48
        }
      ]
    },
    {
      "cell_type": "code",
      "metadata": {
        "colab": {
          "base_uri": "https://localhost:8080/"
        },
        "id": "nrkvuqQjFow_",
        "outputId": "ce9a95c5-89a8-4418-de81-99287e0d67bc"
      },
      "source": [
        "# change to date type & change date format\n",
        "series_date_in_date = pd.to_datetime(df2019nov_non_outlier['event_time'],errors='raise',dayfirst=False,yearfirst=True,utc=True)\n",
        "series_date_in_date"
      ],
      "execution_count": null,
      "outputs": [
        {
          "output_type": "execute_result",
          "data": {
            "text/plain": [
              "1584       2019-11-01 00:10:47+00:00\n",
              "1951       2019-11-01 00:13:10+00:00\n",
              "2309       2019-11-01 00:15:23+00:00\n",
              "3723       2019-11-01 00:24:39+00:00\n",
              "3730       2019-11-01 00:24:44+00:00\n",
              "                      ...           \n",
              "67498189   2019-11-30 23:36:38+00:00\n",
              "67498941   2019-11-30 23:41:08+00:00\n",
              "67499105   2019-11-30 23:41:58+00:00\n",
              "67499759   2019-11-30 23:45:40+00:00\n",
              "67501745   2019-11-30 23:58:22+00:00\n",
              "Name: event_time, Length: 97631, dtype: datetime64[ns, UTC]"
            ]
          },
          "metadata": {},
          "execution_count": 49
        }
      ]
    },
    {
      "cell_type": "code",
      "metadata": {
        "id": "THGnfk0HFow_"
      },
      "source": [
        "# parsing date column\n",
        "series_date_in_date = pd.to_datetime(df2019nov_non_outlier['event_time'],errors='raise',dayfirst=False,yearfirst=True,utc=True)"
      ],
      "execution_count": null,
      "outputs": []
    },
    {
      "cell_type": "code",
      "metadata": {
        "colab": {
          "base_uri": "https://localhost:8080/"
        },
        "id": "6axPdcJSFoxA",
        "outputId": "2a7b0921-e0ca-4ce4-8a64-5f99abba3723"
      },
      "source": [
        "series_date_in_date.dt.day"
      ],
      "execution_count": null,
      "outputs": [
        {
          "output_type": "execute_result",
          "data": {
            "text/plain": [
              "1649         1\n",
              "1905         1\n",
              "2927         1\n",
              "5210         1\n",
              "6496         1\n",
              "            ..\n",
              "42446632    31\n",
              "42446893    31\n",
              "42447140    31\n",
              "42447440    31\n",
              "42448362    31\n",
              "Name: event_time, Length: 71345, dtype: int64"
            ]
          },
          "metadata": {},
          "execution_count": 37
        }
      ]
    },
    {
      "cell_type": "code",
      "metadata": {
        "colab": {
          "base_uri": "https://localhost:8080/"
        },
        "id": "g03yQbXEFoxA",
        "outputId": "fb7526cc-04b8-4c30-bd84-0ceef799f025"
      },
      "source": [
        "series_date_in_date.dt.month"
      ],
      "execution_count": null,
      "outputs": [
        {
          "output_type": "execute_result",
          "data": {
            "text/plain": [
              "1649        10\n",
              "1905        10\n",
              "2927        10\n",
              "5210        10\n",
              "6496        10\n",
              "            ..\n",
              "42446632    10\n",
              "42446893    10\n",
              "42447140    10\n",
              "42447440    10\n",
              "42448362    10\n",
              "Name: event_time, Length: 71345, dtype: int64"
            ]
          },
          "metadata": {},
          "execution_count": 38
        }
      ]
    },
    {
      "cell_type": "code",
      "metadata": {
        "colab": {
          "base_uri": "https://localhost:8080/"
        },
        "id": "Sf8PlNlIFoxA",
        "outputId": "39f6c982-48a3-4d72-fff9-5c9bed9c8b8b"
      },
      "source": [
        "series_date_in_date.dt.year"
      ],
      "execution_count": null,
      "outputs": [
        {
          "output_type": "execute_result",
          "data": {
            "text/plain": [
              "1649        2019\n",
              "1905        2019\n",
              "2927        2019\n",
              "5210        2019\n",
              "6496        2019\n",
              "            ... \n",
              "42446632    2019\n",
              "42446893    2019\n",
              "42447140    2019\n",
              "42447440    2019\n",
              "42448362    2019\n",
              "Name: event_time, Length: 71345, dtype: int64"
            ]
          },
          "metadata": {},
          "execution_count": 39
        }
      ]
    },
    {
      "cell_type": "code",
      "metadata": {
        "colab": {
          "base_uri": "https://localhost:8080/"
        },
        "id": "lqeuYhl-FoxA",
        "outputId": "02a101e7-93a5-4809-9a59-c884138f2f9d"
      },
      "source": [
        "df2019nov_non_outlier['event_days_of_week'] = series_date_in_date.dt.day_name()\n",
        "df2019nov_non_outlier['event_days_of_week']"
      ],
      "execution_count": null,
      "outputs": [
        {
          "output_type": "stream",
          "name": "stderr",
          "text": [
            "/usr/local/lib/python3.7/dist-packages/ipykernel_launcher.py:1: SettingWithCopyWarning: \n",
            "A value is trying to be set on a copy of a slice from a DataFrame.\n",
            "Try using .loc[row_indexer,col_indexer] = value instead\n",
            "\n",
            "See the caveats in the documentation: https://pandas.pydata.org/pandas-docs/stable/user_guide/indexing.html#returning-a-view-versus-a-copy\n",
            "  \"\"\"Entry point for launching an IPython kernel.\n"
          ]
        },
        {
          "output_type": "execute_result",
          "data": {
            "text/plain": [
              "1584          Friday\n",
              "1951          Friday\n",
              "2309          Friday\n",
              "3723          Friday\n",
              "3730          Friday\n",
              "              ...   \n",
              "67498189    Saturday\n",
              "67498941    Saturday\n",
              "67499105    Saturday\n",
              "67499759    Saturday\n",
              "67501745    Saturday\n",
              "Name: event_days_of_week, Length: 97631, dtype: object"
            ]
          },
          "metadata": {},
          "execution_count": 51
        }
      ]
    },
    {
      "cell_type": "code",
      "metadata": {
        "colab": {
          "base_uri": "https://localhost:8080/"
        },
        "id": "Eo-TyAmMFoxA",
        "outputId": "b930b259-d408-4ba2-ac2c-d2e1486c89bd"
      },
      "source": [
        "df2019nov_non_outlier['event_date'] = series_date_in_date.dt.day\n",
        "df2019nov_non_outlier['event_date']"
      ],
      "execution_count": null,
      "outputs": [
        {
          "output_type": "stream",
          "name": "stderr",
          "text": [
            "/usr/local/lib/python3.7/dist-packages/ipykernel_launcher.py:1: SettingWithCopyWarning: \n",
            "A value is trying to be set on a copy of a slice from a DataFrame.\n",
            "Try using .loc[row_indexer,col_indexer] = value instead\n",
            "\n",
            "See the caveats in the documentation: https://pandas.pydata.org/pandas-docs/stable/user_guide/indexing.html#returning-a-view-versus-a-copy\n",
            "  \"\"\"Entry point for launching an IPython kernel.\n"
          ]
        },
        {
          "output_type": "execute_result",
          "data": {
            "text/plain": [
              "1584         1\n",
              "1951         1\n",
              "2309         1\n",
              "3723         1\n",
              "3730         1\n",
              "            ..\n",
              "67498189    30\n",
              "67498941    30\n",
              "67499105    30\n",
              "67499759    30\n",
              "67501745    30\n",
              "Name: event_date, Length: 97631, dtype: int64"
            ]
          },
          "metadata": {},
          "execution_count": 52
        }
      ]
    },
    {
      "cell_type": "code",
      "metadata": {
        "colab": {
          "base_uri": "https://localhost:8080/"
        },
        "id": "zZLBrQhYFoxA",
        "outputId": "3288d5b1-392c-4523-9607-661bfc787fba"
      },
      "source": [
        "df2019nov_non_outlier['event_hour'] = series_date_in_date.dt.hour\n",
        "df2019nov_non_outlier['event_hour']"
      ],
      "execution_count": null,
      "outputs": [
        {
          "output_type": "stream",
          "name": "stderr",
          "text": [
            "/usr/local/lib/python3.7/dist-packages/ipykernel_launcher.py:1: SettingWithCopyWarning: \n",
            "A value is trying to be set on a copy of a slice from a DataFrame.\n",
            "Try using .loc[row_indexer,col_indexer] = value instead\n",
            "\n",
            "See the caveats in the documentation: https://pandas.pydata.org/pandas-docs/stable/user_guide/indexing.html#returning-a-view-versus-a-copy\n",
            "  \"\"\"Entry point for launching an IPython kernel.\n"
          ]
        },
        {
          "output_type": "execute_result",
          "data": {
            "text/plain": [
              "1584         0\n",
              "1951         0\n",
              "2309         0\n",
              "3723         0\n",
              "3730         0\n",
              "            ..\n",
              "67498189    23\n",
              "67498941    23\n",
              "67499105    23\n",
              "67499759    23\n",
              "67501745    23\n",
              "Name: event_hour, Length: 97631, dtype: int64"
            ]
          },
          "metadata": {},
          "execution_count": 53
        }
      ]
    },
    {
      "cell_type": "markdown",
      "metadata": {
        "id": "2sJVKT3fIEVr"
      },
      "source": [
        "## **Best Products to Sell**"
      ]
    },
    {
      "cell_type": "code",
      "metadata": {
        "id": "yBPwkD03IEV1"
      },
      "source": [
        "%matplotlib inline \n",
        "\n",
        "import matplotlib as mpl\n",
        "import matplotlib.pyplot as plt"
      ],
      "execution_count": null,
      "outputs": []
    },
    {
      "cell_type": "code",
      "metadata": {
        "id": "hTPoOJNQIEV3",
        "colab": {
          "base_uri": "https://localhost:8080/"
        },
        "outputId": "1c9e828b-6ca6-40f3-a593-71d9d3af5a78"
      },
      "source": [
        "# Popular brands in new user\n",
        "new_user = df2019nov_non_outlier.drop_duplicates()\n",
        "new_user['brand'].value_counts()"
      ],
      "execution_count": null,
      "outputs": [
        {
          "output_type": "execute_result",
          "data": {
            "text/plain": [
              "apple       81524\n",
              "samsung      8590\n",
              "acer          915\n",
              "lenovo        830\n",
              "lg            540\n",
              "            ...  \n",
              "kiturami        1\n",
              "silva           1\n",
              "htc             1\n",
              "kaiser          1\n",
              "neumann         1\n",
              "Name: brand, Length: 224, dtype: int64"
            ]
          },
          "metadata": {},
          "execution_count": 55
        }
      ]
    },
    {
      "cell_type": "code",
      "metadata": {
        "id": "xLT_-zutIEV8",
        "colab": {
          "base_uri": "https://localhost:8080/",
          "height": 365
        },
        "outputId": "9c5c388a-7f0b-409f-966d-460f47706b0f"
      },
      "source": [
        "# Top 10 popular brands in new user\n",
        "new_user['brand'].value_counts().nlargest(10).plot(\n",
        "    kind='bar', \n",
        "    xlabel='Brands', \n",
        "    ylabel='Quantity', \n",
        "    label='Top 10 Popular Brands in New User', \n",
        "    subplots=True\n",
        "    )"
      ],
      "execution_count": null,
      "outputs": [
        {
          "output_type": "execute_result",
          "data": {
            "text/plain": [
              "array([<matplotlib.axes._subplots.AxesSubplot object at 0x7fccc350dd10>],\n",
              "      dtype=object)"
            ]
          },
          "metadata": {},
          "execution_count": 56
        },
        {
          "output_type": "display_data",
          "data": {
            "image/png": "[encoded data removed]",
            "text/plain": [
              "<Figure size 432x288 with 1 Axes>"
            ]
          },
          "metadata": {
            "needs_background": "light"
          }
        }
      ]
    },
    {
      "cell_type": "code",
      "metadata": {
        "id": "osHH7K17IEV-",
        "colab": {
          "base_uri": "https://localhost:8080/"
        },
        "outputId": "485c966a-9724-42f4-9cb2-3482c3a64600"
      },
      "source": [
        "# Popular product in repeat user\n",
        "repeat_user = df2019nov_non_outlier[df2019nov_non_outlier.duplicated()]\n",
        "repeat_user['brand'].value_counts()"
      ],
      "execution_count": null,
      "outputs": [
        {
          "output_type": "execute_result",
          "data": {
            "text/plain": [
              "Series([], Name: brand, dtype: int64)"
            ]
          },
          "metadata": {},
          "execution_count": 57
        }
      ]
    },
    {
      "cell_type": "code",
      "metadata": {
        "id": "uhMcdYbPIEWA",
        "colab": {
          "base_uri": "https://localhost:8080/"
        },
        "outputId": "f56d159d-535a-482c-c582-f7e836c9b51e"
      },
      "source": [
        "# Popular categories in new user\n",
        "new_user['category_code'].value_counts()"
      ],
      "execution_count": null,
      "outputs": [
        {
          "output_type": "execute_result",
          "data": {
            "text/plain": [
              "electronics.smartphone                    88999\n",
              "computers.notebook                         3773\n",
              "electronics.video.tv                       1597\n",
              "appliances.kitchen.refrigerators            660\n",
              "computers.desktop                           612\n",
              "electronics.clocks                          312\n",
              "electronics.tablet                          287\n",
              "furniture.living_room.sofa                  216\n",
              "appliances.environment.air_conditioner      202\n",
              "appliances.kitchen.washer                   151\n",
              "appliances.sewing_machine                   139\n",
              "appliances.kitchen.coffee_machine            93\n",
              "appliances.environment.vacuum                78\n",
              "electronics.camera.photo                     61\n",
              "computers.components.videocards              43\n",
              "electronics.audio.acoustic                   35\n",
              "construction.tools.saw                       31\n",
              "electronics.camera.video                     30\n",
              "furniture.kitchen.table                      29\n",
              "sport.bicycle                                27\n",
              "kids.carriage                                23\n",
              "sport.trainer                                22\n",
              "appliances.kitchen.oven                      22\n",
              "electronics.video.projector                  21\n",
              "construction.tools.generator                 19\n",
              "appliances.iron                              18\n",
              "furniture.living_room.cabinet                16\n",
              "computers.peripherals.printer                13\n",
              "kids.skates                                  11\n",
              "electronics.audio.music_tools.piano          10\n",
              "computers.peripherals.monitor                10\n",
              "appliances.kitchen.hob                        9\n",
              "furniture.bedroom.bed                         9\n",
              "appliances.kitchen.mixer                      8\n",
              "construction.tools.welding                    7\n",
              "appliances.kitchen.dishwasher                 6\n",
              "appliances.kitchen.hood                       5\n",
              "auto.accessories.player                       5\n",
              "auto.accessories.alarm                        5\n",
              "electronics.audio.microphone                  3\n",
              "electronics.audio.subwoofer                   2\n",
              "computers.components.cpu                      2\n",
              "furniture.living_room.chair                   2\n",
              "appliances.kitchen.microwave                  2\n",
              "sport.ski                                     2\n",
              "appliances.kitchen.steam_cooker               1\n",
              "computers.components.motherboard              1\n",
              "appliances.environment.air_heater             1\n",
              "electronics.audio.headphone                   1\n",
              "Name: category_code, dtype: int64"
            ]
          },
          "metadata": {},
          "execution_count": 63
        }
      ]
    },
    {
      "cell_type": "code",
      "metadata": {
        "id": "zsYSKULQIEWB",
        "colab": {
          "base_uri": "https://localhost:8080/",
          "height": 518
        },
        "outputId": "c5cf06c4-a0a0-474d-8051-8a7c86f78b64"
      },
      "source": [
        "# Top 10 popular categories in new user\n",
        "new_user['category_code'].value_counts().nlargest(10).plot(\n",
        "    kind='bar', \n",
        "    xlabel='Categories', \n",
        "    ylabel='Quantity', \n",
        "    label='Top 10 Popular Categories in New User', \n",
        "    subplots=True\n",
        "    )"
      ],
      "execution_count": null,
      "outputs": [
        {
          "output_type": "execute_result",
          "data": {
            "text/plain": [
              "array([<matplotlib.axes._subplots.AxesSubplot object at 0x7fccc3bebbd0>],\n",
              "      dtype=object)"
            ]
          },
          "metadata": {},
          "execution_count": 64
        },
        {
          "output_type": "display_data",
          "data": {
            "image/png": "[encoded data removed]",
            "text/plain": [
              "<Figure size 432x288 with 1 Axes>"
            ]
          },
          "metadata": {
            "needs_background": "light"
          }
        }
      ]
    },
    {
      "cell_type": "code",
      "metadata": {
        "id": "3naCp2g1IEWC",
        "colab": {
          "base_uri": "https://localhost:8080/"
        },
        "outputId": "9a91ab69-2017-407b-86f8-e00b38c8013e"
      },
      "source": [
        "# Popular categories in repeat user\n",
        "repeat_user['category_code'].value_counts().nlargest(10)"
      ],
      "execution_count": null,
      "outputs": [
        {
          "output_type": "execute_result",
          "data": {
            "text/plain": [
              "Series([], Name: category_code, dtype: int64)"
            ]
          },
          "metadata": {},
          "execution_count": 65
        }
      ]
    },
    {
      "cell_type": "markdown",
      "metadata": {
        "id": "VH4XrpPTIrUR"
      },
      "source": [
        "## **Best Event to predict that User most likely to buy a product**"
      ]
    },
    {
      "cell_type": "code",
      "metadata": {
        "id": "xPtoy6yEIrUV",
        "colab": {
          "base_uri": "https://localhost:8080/"
        },
        "outputId": "23348dcd-8dfb-4bb0-aaa0-21d972cbd152"
      },
      "source": [
        "# Best Event time\n",
        "new_user['event_time'].value_counts().nlargest(10)"
      ],
      "execution_count": null,
      "outputs": [
        {
          "output_type": "execute_result",
          "data": {
            "text/plain": [
              "2019-11-17 10:44:59 UTC    5\n",
              "2019-11-17 15:10:59 UTC    5\n",
              "2019-11-17 06:24:22 UTC    5\n",
              "2019-11-17 11:55:59 UTC    5\n",
              "2019-11-17 15:10:14 UTC    5\n",
              "2019-11-16 11:44:29 UTC    5\n",
              "2019-11-17 17:09:27 UTC    4\n",
              "2019-11-16 10:26:47 UTC    4\n",
              "2019-11-17 17:05:26 UTC    4\n",
              "2019-11-17 05:12:11 UTC    4\n",
              "Name: event_time, dtype: int64"
            ]
          },
          "metadata": {},
          "execution_count": 59
        }
      ]
    },
    {
      "cell_type": "code",
      "metadata": {
        "id": "9KerVLqwIrUW",
        "colab": {
          "base_uri": "https://localhost:8080/"
        },
        "outputId": "0be35c44-7876-4b77-a48b-0732dada5d04"
      },
      "source": [
        "# Best Event time\n",
        "repeat_user['event_time'].value_counts().nlargest(10)"
      ],
      "execution_count": null,
      "outputs": [
        {
          "output_type": "execute_result",
          "data": {
            "text/plain": [
              "Series([], Name: event_time, dtype: int64)"
            ]
          },
          "metadata": {},
          "execution_count": 60
        }
      ]
    },
    {
      "cell_type": "code",
      "metadata": {
        "id": "0V1CQX2jIrUW",
        "colab": {
          "base_uri": "https://localhost:8080/"
        },
        "outputId": "918691c9-13a0-4f41-c24c-3b4f76da127d"
      },
      "source": [
        "# Best event type in new user\n",
        "new_user['event_type'].value_counts()"
      ],
      "execution_count": null,
      "outputs": [
        {
          "output_type": "execute_result",
          "data": {
            "text/plain": [
              "purchase    97631\n",
              "Name: event_type, dtype: int64"
            ]
          },
          "metadata": {},
          "execution_count": 61
        }
      ]
    },
    {
      "cell_type": "code",
      "metadata": {
        "id": "Vt7KRNmYIrUZ",
        "colab": {
          "base_uri": "https://localhost:8080/"
        },
        "outputId": "98cfa29b-dcff-4fba-9a50-72bbe69a406b"
      },
      "source": [
        "# Best event type in repeat user\n",
        "repeat_user['event_type'].value_counts()"
      ],
      "execution_count": null,
      "outputs": [
        {
          "output_type": "execute_result",
          "data": {
            "text/plain": [
              "Series([], Name: event_type, dtype: int64)"
            ]
          },
          "metadata": {},
          "execution_count": 62
        }
      ]
    },
    {
      "cell_type": "markdown",
      "metadata": {
        "id": "ES8jxZlg897j"
      },
      "source": [
        "## **Time Series** "
      ]
    },
    {
      "cell_type": "markdown",
      "metadata": {
        "id": "Ujn3LUh6897k"
      },
      "source": [
        "### **New User**"
      ]
    },
    {
      "cell_type": "code",
      "metadata": {
        "colab": {
          "base_uri": "https://localhost:8080/",
          "height": 203
        },
        "id": "9i5wni-Y897k",
        "outputId": "ea43e988-4e57-4b05-9cb3-1d5a5892e1ae"
      },
      "source": [
        "new_user.head()"
      ],
      "execution_count": null,
      "outputs": [
        {
          "output_type": "execute_result",
          "data": {
            "text/html": [
              "<div>\n",
              "<style scoped>\n",
              "    .dataframe tbody tr th:only-of-type {\n",
              "        vertical-align: middle;\n",
              "    }\n",
              "\n",
              "    .dataframe tbody tr th {\n",
              "        vertical-align: top;\n",
              "    }\n",
              "\n",
              "    .dataframe thead th {\n",
              "        text-align: right;\n",
              "    }\n",
              "</style>\n",
              "<table border=\"1\" class=\"dataframe\">\n",
              "  <thead>\n",
              "    <tr style=\"text-align: right;\">\n",
              "      <th></th>\n",
              "      <th>event_time</th>\n",
              "      <th>event_type</th>\n",
              "      <th>category_code</th>\n",
              "      <th>brand</th>\n",
              "      <th>price</th>\n",
              "      <th>user_id</th>\n",
              "      <th>user_session</th>\n",
              "      <th>event_days_of_week</th>\n",
              "      <th>event_date</th>\n",
              "      <th>event_hour</th>\n",
              "    </tr>\n",
              "  </thead>\n",
              "  <tbody>\n",
              "    <tr>\n",
              "      <th>1584</th>\n",
              "      <td>2019-11-01 00:10:47 UTC</td>\n",
              "      <td>purchase</td>\n",
              "      <td>electronics.smartphone</td>\n",
              "      <td>apple</td>\n",
              "      <td>1583.48</td>\n",
              "      <td>562210838</td>\n",
              "      <td>a58d94c8-c0d4-4f24-bf3c-04c4e69ea153</td>\n",
              "      <td>Friday</td>\n",
              "      <td>1</td>\n",
              "      <td>0</td>\n",
              "    </tr>\n",
              "    <tr>\n",
              "      <th>1951</th>\n",
              "      <td>2019-11-01 00:13:10 UTC</td>\n",
              "      <td>purchase</td>\n",
              "      <td>electronics.smartphone</td>\n",
              "      <td>apple</td>\n",
              "      <td>1337.23</td>\n",
              "      <td>518267348</td>\n",
              "      <td>61f913b1-ed5f-4495-8139-7e3e20be92c3</td>\n",
              "      <td>Friday</td>\n",
              "      <td>1</td>\n",
              "      <td>0</td>\n",
              "    </tr>\n",
              "    <tr>\n",
              "      <th>2309</th>\n",
              "      <td>2019-11-01 00:15:23 UTC</td>\n",
              "      <td>purchase</td>\n",
              "      <td>electronics.smartphone</td>\n",
              "      <td>apple</td>\n",
              "      <td>1348.61</td>\n",
              "      <td>518840496</td>\n",
              "      <td>ef3daa59-4936-43e5-a530-32902f64b2f4</td>\n",
              "      <td>Friday</td>\n",
              "      <td>1</td>\n",
              "      <td>0</td>\n",
              "    </tr>\n",
              "    <tr>\n",
              "      <th>3723</th>\n",
              "      <td>2019-11-01 00:24:39 UTC</td>\n",
              "      <td>purchase</td>\n",
              "      <td>electronics.smartphone</td>\n",
              "      <td>apple</td>\n",
              "      <td>1665.36</td>\n",
              "      <td>530717866</td>\n",
              "      <td>42968c23-4198-432a-b50b-969bae6c916f</td>\n",
              "      <td>Friday</td>\n",
              "      <td>1</td>\n",
              "      <td>0</td>\n",
              "    </tr>\n",
              "    <tr>\n",
              "      <th>3730</th>\n",
              "      <td>2019-11-01 00:24:44 UTC</td>\n",
              "      <td>purchase</td>\n",
              "      <td>electronics.smartphone</td>\n",
              "      <td>apple</td>\n",
              "      <td>1013.86</td>\n",
              "      <td>516316320</td>\n",
              "      <td>bb657773-1a1e-465d-b742-c54d32e0d82f</td>\n",
              "      <td>Friday</td>\n",
              "      <td>1</td>\n",
              "      <td>0</td>\n",
              "    </tr>\n",
              "  </tbody>\n",
              "</table>\n",
              "</div>"
            ],
            "text/plain": [
              "                   event_time event_type  ... event_date event_hour\n",
              "1584  2019-11-01 00:10:47 UTC   purchase  ...          1          0\n",
              "1951  2019-11-01 00:13:10 UTC   purchase  ...          1          0\n",
              "2309  2019-11-01 00:15:23 UTC   purchase  ...          1          0\n",
              "3723  2019-11-01 00:24:39 UTC   purchase  ...          1          0\n",
              "3730  2019-11-01 00:24:44 UTC   purchase  ...          1          0\n",
              "\n",
              "[5 rows x 10 columns]"
            ]
          },
          "metadata": {},
          "execution_count": 158
        }
      ]
    },
    {
      "cell_type": "code",
      "metadata": {
        "colab": {
          "base_uri": "https://localhost:8080/",
          "height": 669
        },
        "id": "_kAK7wya897k",
        "outputId": "a7a66a87-e376-42d2-db21-0f562fca1a3a"
      },
      "source": [
        "ax = new_user.groupby(new_user['event_days_of_week'],sort=False)['user_id'].nunique().reset_index().set_index('event_days_of_week').plot.bar(figsize=(20,10))\n",
        "ax.set_ylabel('# of all the transactions')\n",
        "ax.set_xlabel('days of a week')\n",
        "ax.set_title('Week days vs all transaction')\n",
        "\n",
        "for p in ax.patches:\n",
        "    height = p.get_height()\n",
        "    ax.text(p.get_x()+p.get_width()/2.,\n",
        "            height + 3,\n",
        "            '{:1.2f}%'.format(height/len(new_user)*100),\n",
        "            ha=\"center\", fontsize=15)\n",
        "\n",
        "plt.show()"
      ],
      "execution_count": null,
      "outputs": [
        {
          "output_type": "display_data",
          "data": {
            "image/png": "[encoded data removed]",
            "text/plain": [
              "<Figure size 1440x720 with 1 Axes>"
            ]
          },
          "metadata": {
            "needs_background": "light"
          }
        }
      ]
    },
    {
      "cell_type": "code",
      "metadata": {
        "colab": {
          "base_uri": "https://localhost:8080/",
          "height": 942
        },
        "id": "RF2RUMDB897l",
        "outputId": "2664920d-2990-4e06-83bf-c2b74c0ee3a2"
      },
      "source": [
        "#Timeplot01\n",
        "\n",
        "new_user_timeline01 = new_user.groupby(new_user['event_date'])['user_id'].nunique().reset_index()\n",
        "new_user_timeline01.columns = ['Event Date','User']\n",
        "new_user_timeline01"
      ],
      "execution_count": null,
      "outputs": [
        {
          "output_type": "execute_result",
          "data": {
            "text/html": [
              "<div>\n",
              "<style scoped>\n",
              "    .dataframe tbody tr th:only-of-type {\n",
              "        vertical-align: middle;\n",
              "    }\n",
              "\n",
              "    .dataframe tbody tr th {\n",
              "        vertical-align: top;\n",
              "    }\n",
              "\n",
              "    .dataframe thead th {\n",
              "        text-align: right;\n",
              "    }\n",
              "</style>\n",
              "<table border=\"1\" class=\"dataframe\">\n",
              "  <thead>\n",
              "    <tr style=\"text-align: right;\">\n",
              "      <th></th>\n",
              "      <th>Event Date</th>\n",
              "      <th>User</th>\n",
              "    </tr>\n",
              "  </thead>\n",
              "  <tbody>\n",
              "    <tr>\n",
              "      <th>0</th>\n",
              "      <td>1</td>\n",
              "      <td>1739</td>\n",
              "    </tr>\n",
              "    <tr>\n",
              "      <th>1</th>\n",
              "      <td>2</td>\n",
              "      <td>1528</td>\n",
              "    </tr>\n",
              "    <tr>\n",
              "      <th>2</th>\n",
              "      <td>3</td>\n",
              "      <td>1620</td>\n",
              "    </tr>\n",
              "    <tr>\n",
              "      <th>3</th>\n",
              "      <td>4</td>\n",
              "      <td>2136</td>\n",
              "    </tr>\n",
              "    <tr>\n",
              "      <th>4</th>\n",
              "      <td>5</td>\n",
              "      <td>1948</td>\n",
              "    </tr>\n",
              "    <tr>\n",
              "      <th>5</th>\n",
              "      <td>6</td>\n",
              "      <td>1903</td>\n",
              "    </tr>\n",
              "    <tr>\n",
              "      <th>6</th>\n",
              "      <td>7</td>\n",
              "      <td>1824</td>\n",
              "    </tr>\n",
              "    <tr>\n",
              "      <th>7</th>\n",
              "      <td>8</td>\n",
              "      <td>2037</td>\n",
              "    </tr>\n",
              "    <tr>\n",
              "      <th>8</th>\n",
              "      <td>9</td>\n",
              "      <td>1711</td>\n",
              "    </tr>\n",
              "    <tr>\n",
              "      <th>9</th>\n",
              "      <td>10</td>\n",
              "      <td>1732</td>\n",
              "    </tr>\n",
              "    <tr>\n",
              "      <th>10</th>\n",
              "      <td>11</td>\n",
              "      <td>1876</td>\n",
              "    </tr>\n",
              "    <tr>\n",
              "      <th>11</th>\n",
              "      <td>12</td>\n",
              "      <td>1765</td>\n",
              "    </tr>\n",
              "    <tr>\n",
              "      <th>12</th>\n",
              "      <td>13</td>\n",
              "      <td>1804</td>\n",
              "    </tr>\n",
              "    <tr>\n",
              "      <th>13</th>\n",
              "      <td>14</td>\n",
              "      <td>1999</td>\n",
              "    </tr>\n",
              "    <tr>\n",
              "      <th>14</th>\n",
              "      <td>16</td>\n",
              "      <td>6866</td>\n",
              "    </tr>\n",
              "    <tr>\n",
              "      <th>15</th>\n",
              "      <td>17</td>\n",
              "      <td>14519</td>\n",
              "    </tr>\n",
              "    <tr>\n",
              "      <th>16</th>\n",
              "      <td>18</td>\n",
              "      <td>2357</td>\n",
              "    </tr>\n",
              "    <tr>\n",
              "      <th>17</th>\n",
              "      <td>19</td>\n",
              "      <td>2122</td>\n",
              "    </tr>\n",
              "    <tr>\n",
              "      <th>18</th>\n",
              "      <td>20</td>\n",
              "      <td>1892</td>\n",
              "    </tr>\n",
              "    <tr>\n",
              "      <th>19</th>\n",
              "      <td>21</td>\n",
              "      <td>1853</td>\n",
              "    </tr>\n",
              "    <tr>\n",
              "      <th>20</th>\n",
              "      <td>22</td>\n",
              "      <td>1851</td>\n",
              "    </tr>\n",
              "    <tr>\n",
              "      <th>21</th>\n",
              "      <td>23</td>\n",
              "      <td>1662</td>\n",
              "    </tr>\n",
              "    <tr>\n",
              "      <th>22</th>\n",
              "      <td>24</td>\n",
              "      <td>1773</td>\n",
              "    </tr>\n",
              "    <tr>\n",
              "      <th>23</th>\n",
              "      <td>25</td>\n",
              "      <td>2097</td>\n",
              "    </tr>\n",
              "    <tr>\n",
              "      <th>24</th>\n",
              "      <td>26</td>\n",
              "      <td>1955</td>\n",
              "    </tr>\n",
              "    <tr>\n",
              "      <th>25</th>\n",
              "      <td>27</td>\n",
              "      <td>2098</td>\n",
              "    </tr>\n",
              "    <tr>\n",
              "      <th>26</th>\n",
              "      <td>28</td>\n",
              "      <td>2108</td>\n",
              "    </tr>\n",
              "    <tr>\n",
              "      <th>27</th>\n",
              "      <td>29</td>\n",
              "      <td>2782</td>\n",
              "    </tr>\n",
              "    <tr>\n",
              "      <th>28</th>\n",
              "      <td>30</td>\n",
              "      <td>2278</td>\n",
              "    </tr>\n",
              "  </tbody>\n",
              "</table>\n",
              "</div>"
            ],
            "text/plain": [
              "    Event Date   User\n",
              "0            1   1739\n",
              "1            2   1528\n",
              "2            3   1620\n",
              "3            4   2136\n",
              "4            5   1948\n",
              "5            6   1903\n",
              "6            7   1824\n",
              "7            8   2037\n",
              "8            9   1711\n",
              "9           10   1732\n",
              "10          11   1876\n",
              "11          12   1765\n",
              "12          13   1804\n",
              "13          14   1999\n",
              "14          16   6866\n",
              "15          17  14519\n",
              "16          18   2357\n",
              "17          19   2122\n",
              "18          20   1892\n",
              "19          21   1853\n",
              "20          22   1851\n",
              "21          23   1662\n",
              "22          24   1773\n",
              "23          25   2097\n",
              "24          26   1955\n",
              "25          27   2098\n",
              "26          28   2108\n",
              "27          29   2782\n",
              "28          30   2278"
            ]
          },
          "metadata": {},
          "execution_count": 161
        }
      ]
    },
    {
      "cell_type": "code",
      "metadata": {
        "colab": {
          "base_uri": "https://localhost:8080/",
          "height": 288
        },
        "id": "vhfgIF6W897l",
        "outputId": "ef64dfbf-b8ab-48af-f30e-c69673db2425"
      },
      "source": [
        "x = np.arange(0,len(new_user_timeline01),1)\n",
        "\n",
        "fig, ax = plt.subplots(1,1,figsize=(30,5))\n",
        "ax.plot(x,new_user_timeline01['User'])\n",
        "ax.set_xticks(x)\n",
        "ax.set_xticklabels(new_user_timeline01['Event Date'])\n",
        "ax.set_title('User in October 2019')\n",
        "ax.set_xlabel('Date')\n",
        "ax.set_ylabel('User')\n",
        "  \n",
        "plt.show()"
      ],
      "execution_count": null,
      "outputs": [
        {
          "output_type": "display_data",
          "data": {
            "image/png": "[encoded data removed]",
            "text/plain": [
              "<Figure size 2160x360 with 1 Axes>"
            ]
          },
          "metadata": {
            "needs_background": "light"
          }
        }
      ]
    },
    {
      "cell_type": "code",
      "metadata": {
        "colab": {
          "base_uri": "https://localhost:8080/",
          "height": 788
        },
        "id": "cbP_Mp8t897l",
        "outputId": "d5ce5245-a4ac-425d-8cbc-184502ffda3e"
      },
      "source": [
        "#Timeplot02\n",
        "\n",
        "new_user_timeline02 = new_user.groupby(new_user['event_hour'])['user_id'].nunique().reset_index()\n",
        "new_user_timeline02.columns = ['Event Hour','User']\n",
        "new_user_timeline02"
      ],
      "execution_count": null,
      "outputs": [
        {
          "output_type": "execute_result",
          "data": {
            "text/html": [
              "<div>\n",
              "<style scoped>\n",
              "    .dataframe tbody tr th:only-of-type {\n",
              "        vertical-align: middle;\n",
              "    }\n",
              "\n",
              "    .dataframe tbody tr th {\n",
              "        vertical-align: top;\n",
              "    }\n",
              "\n",
              "    .dataframe thead th {\n",
              "        text-align: right;\n",
              "    }\n",
              "</style>\n",
              "<table border=\"1\" class=\"dataframe\">\n",
              "  <thead>\n",
              "    <tr style=\"text-align: right;\">\n",
              "      <th></th>\n",
              "      <th>Event Hour</th>\n",
              "      <th>User</th>\n",
              "    </tr>\n",
              "  </thead>\n",
              "  <tbody>\n",
              "    <tr>\n",
              "      <th>0</th>\n",
              "      <td>0</td>\n",
              "      <td>272</td>\n",
              "    </tr>\n",
              "    <tr>\n",
              "      <th>1</th>\n",
              "      <td>1</td>\n",
              "      <td>327</td>\n",
              "    </tr>\n",
              "    <tr>\n",
              "      <th>2</th>\n",
              "      <td>2</td>\n",
              "      <td>729</td>\n",
              "    </tr>\n",
              "    <tr>\n",
              "      <th>3</th>\n",
              "      <td>3</td>\n",
              "      <td>1901</td>\n",
              "    </tr>\n",
              "    <tr>\n",
              "      <th>4</th>\n",
              "      <td>4</td>\n",
              "      <td>3311</td>\n",
              "    </tr>\n",
              "    <tr>\n",
              "      <th>5</th>\n",
              "      <td>5</td>\n",
              "      <td>4238</td>\n",
              "    </tr>\n",
              "    <tr>\n",
              "      <th>6</th>\n",
              "      <td>6</td>\n",
              "      <td>4656</td>\n",
              "    </tr>\n",
              "    <tr>\n",
              "      <th>7</th>\n",
              "      <td>7</td>\n",
              "      <td>4626</td>\n",
              "    </tr>\n",
              "    <tr>\n",
              "      <th>8</th>\n",
              "      <td>8</td>\n",
              "      <td>5615</td>\n",
              "    </tr>\n",
              "    <tr>\n",
              "      <th>9</th>\n",
              "      <td>9</td>\n",
              "      <td>6179</td>\n",
              "    </tr>\n",
              "    <tr>\n",
              "      <th>10</th>\n",
              "      <td>10</td>\n",
              "      <td>6148</td>\n",
              "    </tr>\n",
              "    <tr>\n",
              "      <th>11</th>\n",
              "      <td>11</td>\n",
              "      <td>5822</td>\n",
              "    </tr>\n",
              "    <tr>\n",
              "      <th>12</th>\n",
              "      <td>12</td>\n",
              "      <td>5508</td>\n",
              "    </tr>\n",
              "    <tr>\n",
              "      <th>13</th>\n",
              "      <td>13</td>\n",
              "      <td>5105</td>\n",
              "    </tr>\n",
              "    <tr>\n",
              "      <th>14</th>\n",
              "      <td>14</td>\n",
              "      <td>5026</td>\n",
              "    </tr>\n",
              "    <tr>\n",
              "      <th>15</th>\n",
              "      <td>15</td>\n",
              "      <td>4292</td>\n",
              "    </tr>\n",
              "    <tr>\n",
              "      <th>16</th>\n",
              "      <td>16</td>\n",
              "      <td>3560</td>\n",
              "    </tr>\n",
              "    <tr>\n",
              "      <th>17</th>\n",
              "      <td>17</td>\n",
              "      <td>3483</td>\n",
              "    </tr>\n",
              "    <tr>\n",
              "      <th>18</th>\n",
              "      <td>18</td>\n",
              "      <td>2298</td>\n",
              "    </tr>\n",
              "    <tr>\n",
              "      <th>19</th>\n",
              "      <td>19</td>\n",
              "      <td>1582</td>\n",
              "    </tr>\n",
              "    <tr>\n",
              "      <th>20</th>\n",
              "      <td>20</td>\n",
              "      <td>1069</td>\n",
              "    </tr>\n",
              "    <tr>\n",
              "      <th>21</th>\n",
              "      <td>21</td>\n",
              "      <td>732</td>\n",
              "    </tr>\n",
              "    <tr>\n",
              "      <th>22</th>\n",
              "      <td>22</td>\n",
              "      <td>488</td>\n",
              "    </tr>\n",
              "    <tr>\n",
              "      <th>23</th>\n",
              "      <td>23</td>\n",
              "      <td>327</td>\n",
              "    </tr>\n",
              "  </tbody>\n",
              "</table>\n",
              "</div>"
            ],
            "text/plain": [
              "    Event Hour  User\n",
              "0            0   272\n",
              "1            1   327\n",
              "2            2   729\n",
              "3            3  1901\n",
              "4            4  3311\n",
              "5            5  4238\n",
              "6            6  4656\n",
              "7            7  4626\n",
              "8            8  5615\n",
              "9            9  6179\n",
              "10          10  6148\n",
              "11          11  5822\n",
              "12          12  5508\n",
              "13          13  5105\n",
              "14          14  5026\n",
              "15          15  4292\n",
              "16          16  3560\n",
              "17          17  3483\n",
              "18          18  2298\n",
              "19          19  1582\n",
              "20          20  1069\n",
              "21          21   732\n",
              "22          22   488\n",
              "23          23   327"
            ]
          },
          "metadata": {},
          "execution_count": 163
        }
      ]
    },
    {
      "cell_type": "code",
      "metadata": {
        "colab": {
          "base_uri": "https://localhost:8080/",
          "height": 289
        },
        "id": "pJC2jMJu897l",
        "outputId": "60f705fe-06e8-40ff-d793-1e08d5b18862"
      },
      "source": [
        "x = np.arange(0,len(new_user_timeline02),1)\n",
        "\n",
        "fig, ax = plt.subplots(1,1,figsize=(30,5))\n",
        "ax.plot(x,new_user_timeline02['User'])\n",
        "ax.set_xticks(x)\n",
        "ax.set_xticklabels(new_user_timeline02['Event Hour'])\n",
        "ax.set_title('User in 24 Hours')\n",
        "ax.set_xlabel('Hour')\n",
        "ax.set_ylabel('User')\n",
        "    \n",
        "plt.show()"
      ],
      "execution_count": null,
      "outputs": [
        {
          "output_type": "display_data",
          "data": {
            "image/png": "[encoded data removed]",
            "text/plain": [
              "<Figure size 2160x360 with 1 Axes>"
            ]
          },
          "metadata": {
            "needs_background": "light"
          }
        }
      ]
    },
    {
      "cell_type": "markdown",
      "metadata": {
        "id": "q5hpQ7Gv897m"
      },
      "source": [
        "### **Repeat User**"
      ]
    },
    {
      "cell_type": "code",
      "metadata": {
        "colab": {
          "base_uri": "https://localhost:8080/",
          "height": 49
        },
        "id": "fWs8EglC897m",
        "outputId": "d9124d3b-0745-4cb3-8ae6-e7cd21b13670"
      },
      "source": [
        "repeat_user.head()"
      ],
      "execution_count": null,
      "outputs": [
        {
          "output_type": "execute_result",
          "data": {
            "text/html": [
              "<div>\n",
              "<style scoped>\n",
              "    .dataframe tbody tr th:only-of-type {\n",
              "        vertical-align: middle;\n",
              "    }\n",
              "\n",
              "    .dataframe tbody tr th {\n",
              "        vertical-align: top;\n",
              "    }\n",
              "\n",
              "    .dataframe thead th {\n",
              "        text-align: right;\n",
              "    }\n",
              "</style>\n",
              "<table border=\"1\" class=\"dataframe\">\n",
              "  <thead>\n",
              "    <tr style=\"text-align: right;\">\n",
              "      <th></th>\n",
              "      <th>event_time</th>\n",
              "      <th>event_type</th>\n",
              "      <th>category_code</th>\n",
              "      <th>brand</th>\n",
              "      <th>price</th>\n",
              "      <th>user_id</th>\n",
              "      <th>user_session</th>\n",
              "      <th>event_days_of_week</th>\n",
              "      <th>event_date</th>\n",
              "      <th>event_hour</th>\n",
              "    </tr>\n",
              "  </thead>\n",
              "  <tbody>\n",
              "  </tbody>\n",
              "</table>\n",
              "</div>"
            ],
            "text/plain": [
              "Empty DataFrame\n",
              "Columns: [event_time, event_type, category_code, brand, price, user_id, user_session, event_days_of_week, event_date, event_hour]\n",
              "Index: []"
            ]
          },
          "metadata": {},
          "execution_count": 72
        }
      ]
    },
    {
      "cell_type": "markdown",
      "metadata": {
        "id": "0v1BWxgyOc_m"
      },
      "source": [
        "# **RFM Analysis**"
      ]
    },
    {
      "cell_type": "markdown",
      "metadata": {
        "id": "VMTBaPyZPy1Y"
      },
      "source": [
        "## **Preparation**"
      ]
    },
    {
      "cell_type": "code",
      "metadata": {
        "id": "BfTHZBvDOcFN"
      },
      "source": [
        "frames = [df2019oct_non_outlier, df2019nov_non_outlier]\n",
        "data=pd.concat(frames)"
      ],
      "execution_count": null,
      "outputs": []
    },
    {
      "cell_type": "code",
      "metadata": {
        "colab": {
          "base_uri": "https://localhost:8080/",
          "height": 203
        },
        "id": "or-d3NCgO2AV",
        "outputId": "16c5ab39-f735-4edb-a237-7acea04100c2"
      },
      "source": [
        "data.head()"
      ],
      "execution_count": null,
      "outputs": [
        {
          "output_type": "execute_result",
          "data": {
            "text/html": [
              "<div>\n",
              "<style scoped>\n",
              "    .dataframe tbody tr th:only-of-type {\n",
              "        vertical-align: middle;\n",
              "    }\n",
              "\n",
              "    .dataframe tbody tr th {\n",
              "        vertical-align: top;\n",
              "    }\n",
              "\n",
              "    .dataframe thead th {\n",
              "        text-align: right;\n",
              "    }\n",
              "</style>\n",
              "<table border=\"1\" class=\"dataframe\">\n",
              "  <thead>\n",
              "    <tr style=\"text-align: right;\">\n",
              "      <th></th>\n",
              "      <th>event_time</th>\n",
              "      <th>event_type</th>\n",
              "      <th>category_code</th>\n",
              "      <th>brand</th>\n",
              "      <th>price</th>\n",
              "      <th>user_id</th>\n",
              "      <th>user_session</th>\n",
              "      <th>event_days_of_week</th>\n",
              "      <th>event_date</th>\n",
              "      <th>event_hour</th>\n",
              "    </tr>\n",
              "  </thead>\n",
              "  <tbody>\n",
              "    <tr>\n",
              "      <th>1649</th>\n",
              "      <td>2019-10-01 02:19:34 UTC</td>\n",
              "      <td>purchase</td>\n",
              "      <td>electronics.smartphone</td>\n",
              "      <td>apple</td>\n",
              "      <td>975.57</td>\n",
              "      <td>555160488</td>\n",
              "      <td>a1395546-c124-456c-9752-0f5cf883c63d</td>\n",
              "      <td>Tuesday</td>\n",
              "      <td>1</td>\n",
              "      <td>2</td>\n",
              "    </tr>\n",
              "    <tr>\n",
              "      <th>1905</th>\n",
              "      <td>2019-10-01 02:20:33 UTC</td>\n",
              "      <td>purchase</td>\n",
              "      <td>electronics.smartphone</td>\n",
              "      <td>apple</td>\n",
              "      <td>946.97</td>\n",
              "      <td>516198933</td>\n",
              "      <td>e1050ba4-5425-4b8e-9cc8-194878031718</td>\n",
              "      <td>Tuesday</td>\n",
              "      <td>1</td>\n",
              "      <td>2</td>\n",
              "    </tr>\n",
              "    <tr>\n",
              "      <th>2927</th>\n",
              "      <td>2019-10-01 02:23:25 UTC</td>\n",
              "      <td>purchase</td>\n",
              "      <td>electronics.smartphone</td>\n",
              "      <td>apple</td>\n",
              "      <td>1747.79</td>\n",
              "      <td>515384420</td>\n",
              "      <td>7f82b450-6c45-4346-96fb-ecf4ab25779c</td>\n",
              "      <td>Tuesday</td>\n",
              "      <td>1</td>\n",
              "      <td>2</td>\n",
              "    </tr>\n",
              "    <tr>\n",
              "      <th>5210</th>\n",
              "      <td>2019-10-01 02:28:40 UTC</td>\n",
              "      <td>purchase</td>\n",
              "      <td>electronics.smartphone</td>\n",
              "      <td>apple</td>\n",
              "      <td>975.57</td>\n",
              "      <td>552408931</td>\n",
              "      <td>e8b95f1a-5f87-40ab-b75a-40942d5a1726</td>\n",
              "      <td>Tuesday</td>\n",
              "      <td>1</td>\n",
              "      <td>2</td>\n",
              "    </tr>\n",
              "    <tr>\n",
              "      <th>6496</th>\n",
              "      <td>2019-10-01 02:31:01 UTC</td>\n",
              "      <td>purchase</td>\n",
              "      <td>electronics.smartphone</td>\n",
              "      <td>apple</td>\n",
              "      <td>1206.40</td>\n",
              "      <td>555462711</td>\n",
              "      <td>38c6d3f7-6c32-4fed-bca6-ef98e1746386</td>\n",
              "      <td>Tuesday</td>\n",
              "      <td>1</td>\n",
              "      <td>2</td>\n",
              "    </tr>\n",
              "  </tbody>\n",
              "</table>\n",
              "</div>"
            ],
            "text/plain": [
              "                   event_time event_type  ... event_date event_hour\n",
              "1649  2019-10-01 02:19:34 UTC   purchase  ...          1          2\n",
              "1905  2019-10-01 02:20:33 UTC   purchase  ...          1          2\n",
              "2927  2019-10-01 02:23:25 UTC   purchase  ...          1          2\n",
              "5210  2019-10-01 02:28:40 UTC   purchase  ...          1          2\n",
              "6496  2019-10-01 02:31:01 UTC   purchase  ...          1          2\n",
              "\n",
              "[5 rows x 10 columns]"
            ]
          },
          "metadata": {},
          "execution_count": 129
        }
      ]
    },
    {
      "cell_type": "code",
      "metadata": {
        "colab": {
          "base_uri": "https://localhost:8080/"
        },
        "id": "TgmMZISXO5tG",
        "outputId": "5e612714-5cf9-4d46-a503-feb666c8aa6f"
      },
      "source": [
        "%%time\n",
        "data['event_time']=pd.to_datetime(data['event_time']).dt.tz_convert(None)"
      ],
      "execution_count": null,
      "outputs": [
        {
          "output_type": "stream",
          "name": "stdout",
          "text": [
            "CPU times: user 23.6 s, sys: 65 ms, total: 23.7 s\n",
            "Wall time: 23.8 s\n"
          ]
        }
      ]
    },
    {
      "cell_type": "code",
      "metadata": {
        "colab": {
          "base_uri": "https://localhost:8080/"
        },
        "id": "ROto4s1jO-cZ",
        "outputId": "648587da-4be4-4e4c-ca6f-0e81a70c35a2"
      },
      "source": [
        "data.dtypes"
      ],
      "execution_count": null,
      "outputs": [
        {
          "output_type": "execute_result",
          "data": {
            "text/plain": [
              "event_time            datetime64[ns]\n",
              "event_type                    object\n",
              "category_code                 object\n",
              "brand                         object\n",
              "price                        float64\n",
              "user_id                        int64\n",
              "user_session                  object\n",
              "event_days_of_week            object\n",
              "event_date                     int64\n",
              "event_hour                     int64\n",
              "dtype: object"
            ]
          },
          "metadata": {},
          "execution_count": 131
        }
      ]
    },
    {
      "cell_type": "code",
      "metadata": {
        "colab": {
          "base_uri": "https://localhost:8080/"
        },
        "id": "B6AaIiUiPC0x",
        "outputId": "cac0a721-6776-4ea4-c0c7-6fc5f11792c7"
      },
      "source": [
        "%%time\n",
        "#save dataframe as feather in case our notebook got crashed\n",
        "#feather save column data types\n",
        "import pyarrow.feather as feather\n",
        "os.makedirs('tmp', exist_ok=True)  # Make a temp dir for storing the feather file\n",
        "feather.write_feather(data, './tmp/data')"
      ],
      "execution_count": null,
      "outputs": [
        {
          "output_type": "stream",
          "name": "stdout",
          "text": [
            "CPU times: user 126 ms, sys: 52.3 ms, total: 178 ms\n",
            "Wall time: 444 ms\n"
          ]
        }
      ]
    },
    {
      "cell_type": "code",
      "metadata": {
        "colab": {
          "base_uri": "https://localhost:8080/"
        },
        "id": "9EFqCbH6PUw9",
        "outputId": "b0477ee1-a0b7-4709-c5ba-250167560726"
      },
      "source": [
        "%%time\n",
        "#load the feather data cause feather more lightweight\n",
        "data = pd.read_feather('./tmp/data')\n",
        "data"
      ],
      "execution_count": null,
      "outputs": [
        {
          "output_type": "stream",
          "name": "stdout",
          "text": [
            "CPU times: user 70.2 ms, sys: 78.1 ms, total: 148 ms\n",
            "Wall time: 177 ms\n"
          ]
        }
      ]
    },
    {
      "cell_type": "code",
      "metadata": {
        "colab": {
          "base_uri": "https://localhost:8080/"
        },
        "id": "uKrR44U1PXXv",
        "outputId": "2c30b82d-ea85-407d-e39c-b329c2fc933e"
      },
      "source": [
        "data.dtypes"
      ],
      "execution_count": null,
      "outputs": [
        {
          "output_type": "execute_result",
          "data": {
            "text/plain": [
              "event_time            datetime64[ns]\n",
              "event_type                    object\n",
              "category_code                 object\n",
              "brand                         object\n",
              "price                        float64\n",
              "user_id                        int64\n",
              "user_session                  object\n",
              "event_days_of_week            object\n",
              "event_date                     int64\n",
              "event_hour                     int64\n",
              "dtype: object"
            ]
          },
          "metadata": {},
          "execution_count": 136
        }
      ]
    },
    {
      "cell_type": "code",
      "metadata": {
        "colab": {
          "base_uri": "https://localhost:8080/",
          "height": 417
        },
        "id": "SuXWwUinPagx",
        "outputId": "157e801a-3552-457a-c0e4-5d1338daeb39"
      },
      "source": [
        "data=data.groupby(by='user_session').agg(Date_order=('event_time',lambda x: x.max()),\n",
        "                                                  user_id=('user_id',lambda x: x.unique()),\n",
        "                                          Quantity=('user_session','count'),\n",
        "                                         money_spent=('price','sum')).reset_index(drop=True)\n",
        "data"
      ],
      "execution_count": null,
      "outputs": [
        {
          "output_type": "execute_result",
          "data": {
            "text/html": [
              "<div>\n",
              "<style scoped>\n",
              "    .dataframe tbody tr th:only-of-type {\n",
              "        vertical-align: middle;\n",
              "    }\n",
              "\n",
              "    .dataframe tbody tr th {\n",
              "        vertical-align: top;\n",
              "    }\n",
              "\n",
              "    .dataframe thead th {\n",
              "        text-align: right;\n",
              "    }\n",
              "</style>\n",
              "<table border=\"1\" class=\"dataframe\">\n",
              "  <thead>\n",
              "    <tr style=\"text-align: right;\">\n",
              "      <th></th>\n",
              "      <th>Date_order</th>\n",
              "      <th>user_id</th>\n",
              "      <th>Quantity</th>\n",
              "      <th>money_spent</th>\n",
              "    </tr>\n",
              "  </thead>\n",
              "  <tbody>\n",
              "    <tr>\n",
              "      <th>0</th>\n",
              "      <td>2019-11-17 05:52:39</td>\n",
              "      <td>516763048</td>\n",
              "      <td>1</td>\n",
              "      <td>795.90</td>\n",
              "    </tr>\n",
              "    <tr>\n",
              "      <th>1</th>\n",
              "      <td>2019-11-17 07:49:40</td>\n",
              "      <td>572468447</td>\n",
              "      <td>1</td>\n",
              "      <td>795.13</td>\n",
              "    </tr>\n",
              "    <tr>\n",
              "      <th>2</th>\n",
              "      <td>2019-11-05 10:08:48</td>\n",
              "      <td>567769006</td>\n",
              "      <td>1</td>\n",
              "      <td>915.85</td>\n",
              "    </tr>\n",
              "    <tr>\n",
              "      <th>3</th>\n",
              "      <td>2019-10-15 06:29:33</td>\n",
              "      <td>519267944</td>\n",
              "      <td>1</td>\n",
              "      <td>1541.58</td>\n",
              "    </tr>\n",
              "    <tr>\n",
              "      <th>4</th>\n",
              "      <td>2019-10-21 09:57:11</td>\n",
              "      <td>554836187</td>\n",
              "      <td>1</td>\n",
              "      <td>999.61</td>\n",
              "    </tr>\n",
              "    <tr>\n",
              "      <th>...</th>\n",
              "      <td>...</td>\n",
              "      <td>...</td>\n",
              "      <td>...</td>\n",
              "      <td>...</td>\n",
              "    </tr>\n",
              "    <tr>\n",
              "      <th>147356</th>\n",
              "      <td>2019-10-17 06:10:22</td>\n",
              "      <td>512742411</td>\n",
              "      <td>1</td>\n",
              "      <td>1010.14</td>\n",
              "    </tr>\n",
              "    <tr>\n",
              "      <th>147357</th>\n",
              "      <td>2019-10-02 08:32:17</td>\n",
              "      <td>532580318</td>\n",
              "      <td>1</td>\n",
              "      <td>1415.48</td>\n",
              "    </tr>\n",
              "    <tr>\n",
              "      <th>147358</th>\n",
              "      <td>2019-10-29 05:18:45</td>\n",
              "      <td>565273783</td>\n",
              "      <td>2</td>\n",
              "      <td>2715.20</td>\n",
              "    </tr>\n",
              "    <tr>\n",
              "      <th>147359</th>\n",
              "      <td>2019-11-27 12:42:23</td>\n",
              "      <td>571371835</td>\n",
              "      <td>1</td>\n",
              "      <td>959.73</td>\n",
              "    </tr>\n",
              "    <tr>\n",
              "      <th>147360</th>\n",
              "      <td>2019-11-24 08:34:23</td>\n",
              "      <td>513821974</td>\n",
              "      <td>1</td>\n",
              "      <td>977.86</td>\n",
              "    </tr>\n",
              "  </tbody>\n",
              "</table>\n",
              "<p>147361 rows × 4 columns</p>\n",
              "</div>"
            ],
            "text/plain": [
              "                Date_order    user_id  Quantity  money_spent\n",
              "0      2019-11-17 05:52:39  516763048         1       795.90\n",
              "1      2019-11-17 07:49:40  572468447         1       795.13\n",
              "2      2019-11-05 10:08:48  567769006         1       915.85\n",
              "3      2019-10-15 06:29:33  519267944         1      1541.58\n",
              "4      2019-10-21 09:57:11  554836187         1       999.61\n",
              "...                    ...        ...       ...          ...\n",
              "147356 2019-10-17 06:10:22  512742411         1      1010.14\n",
              "147357 2019-10-02 08:32:17  532580318         1      1415.48\n",
              "147358 2019-10-29 05:18:45  565273783         2      2715.20\n",
              "147359 2019-11-27 12:42:23  571371835         1       959.73\n",
              "147360 2019-11-24 08:34:23  513821974         1       977.86\n",
              "\n",
              "[147361 rows x 4 columns]"
            ]
          },
          "metadata": {},
          "execution_count": 137
        }
      ]
    },
    {
      "cell_type": "markdown",
      "metadata": {
        "id": "QoRegcxmP1yo"
      },
      "source": [
        "## **Modelling**"
      ]
    },
    {
      "cell_type": "code",
      "metadata": {
        "colab": {
          "base_uri": "https://localhost:8080/"
        },
        "id": "2iYyIM7AP1gy",
        "outputId": "a2f49a1e-d87e-4a61-b0d5-bd91f904da1f"
      },
      "source": [
        "data['Date_order'].max()"
      ],
      "execution_count": null,
      "outputs": [
        {
          "output_type": "execute_result",
          "data": {
            "text/plain": [
              "Timestamp('2019-11-30 23:58:22')"
            ]
          },
          "metadata": {},
          "execution_count": 138
        }
      ]
    },
    {
      "cell_type": "code",
      "metadata": {
        "colab": {
          "base_uri": "https://localhost:8080/",
          "height": 203
        },
        "id": "Zgsqk2LJP-w3",
        "outputId": "896cf2c9-7122-4998-e771-7cace44d7767"
      },
      "source": [
        "import datetime as dt\n",
        "study_date = dt.datetime(2019,12,1)\n",
        "data=pd.DataFrame(data)\n",
        "data['last_purchase']=study_date - data['Date_order']\n",
        "data['last_purchase'].astype('timedelta64[D]')\n",
        "data['last_purchase']=data['last_purchase'] / np.timedelta64(1, 'D')\n",
        "data.head()"
      ],
      "execution_count": null,
      "outputs": [
        {
          "output_type": "execute_result",
          "data": {
            "text/html": [
              "<div>\n",
              "<style scoped>\n",
              "    .dataframe tbody tr th:only-of-type {\n",
              "        vertical-align: middle;\n",
              "    }\n",
              "\n",
              "    .dataframe tbody tr th {\n",
              "        vertical-align: top;\n",
              "    }\n",
              "\n",
              "    .dataframe thead th {\n",
              "        text-align: right;\n",
              "    }\n",
              "</style>\n",
              "<table border=\"1\" class=\"dataframe\">\n",
              "  <thead>\n",
              "    <tr style=\"text-align: right;\">\n",
              "      <th></th>\n",
              "      <th>Date_order</th>\n",
              "      <th>user_id</th>\n",
              "      <th>Quantity</th>\n",
              "      <th>money_spent</th>\n",
              "      <th>last_purchase</th>\n",
              "    </tr>\n",
              "  </thead>\n",
              "  <tbody>\n",
              "    <tr>\n",
              "      <th>0</th>\n",
              "      <td>2019-11-17 05:52:39</td>\n",
              "      <td>516763048</td>\n",
              "      <td>1</td>\n",
              "      <td>795.90</td>\n",
              "      <td>13.755104</td>\n",
              "    </tr>\n",
              "    <tr>\n",
              "      <th>1</th>\n",
              "      <td>2019-11-17 07:49:40</td>\n",
              "      <td>572468447</td>\n",
              "      <td>1</td>\n",
              "      <td>795.13</td>\n",
              "      <td>13.673843</td>\n",
              "    </tr>\n",
              "    <tr>\n",
              "      <th>2</th>\n",
              "      <td>2019-11-05 10:08:48</td>\n",
              "      <td>567769006</td>\n",
              "      <td>1</td>\n",
              "      <td>915.85</td>\n",
              "      <td>25.577222</td>\n",
              "    </tr>\n",
              "    <tr>\n",
              "      <th>3</th>\n",
              "      <td>2019-10-15 06:29:33</td>\n",
              "      <td>519267944</td>\n",
              "      <td>1</td>\n",
              "      <td>1541.58</td>\n",
              "      <td>46.729479</td>\n",
              "    </tr>\n",
              "    <tr>\n",
              "      <th>4</th>\n",
              "      <td>2019-10-21 09:57:11</td>\n",
              "      <td>554836187</td>\n",
              "      <td>1</td>\n",
              "      <td>999.61</td>\n",
              "      <td>40.585289</td>\n",
              "    </tr>\n",
              "  </tbody>\n",
              "</table>\n",
              "</div>"
            ],
            "text/plain": [
              "           Date_order    user_id  Quantity  money_spent  last_purchase\n",
              "0 2019-11-17 05:52:39  516763048         1       795.90      13.755104\n",
              "1 2019-11-17 07:49:40  572468447         1       795.13      13.673843\n",
              "2 2019-11-05 10:08:48  567769006         1       915.85      25.577222\n",
              "3 2019-10-15 06:29:33  519267944         1      1541.58      46.729479\n",
              "4 2019-10-21 09:57:11  554836187         1       999.61      40.585289"
            ]
          },
          "metadata": {},
          "execution_count": 139
        }
      ]
    },
    {
      "cell_type": "code",
      "metadata": {
        "colab": {
          "base_uri": "https://localhost:8080/",
          "height": 234
        },
        "id": "MTjTi8P_QEaA",
        "outputId": "6ed35cc5-362d-4815-9d93-a685d100ad84"
      },
      "source": [
        "#Calculate Recency, Frequency, and Monetary of the data\n",
        "RFM= data.groupby('user_id').agg(Recency=('last_purchase',lambda x: x.min()),\n",
        "                                 Frequency=('user_id',lambda x: x.count()),\n",
        "                                 Monetary=('money_spent',lambda x: x.sum()))\n",
        "RFM.head()"
      ],
      "execution_count": null,
      "outputs": [
        {
          "output_type": "execute_result",
          "data": {
            "text/html": [
              "<div>\n",
              "<style scoped>\n",
              "    .dataframe tbody tr th:only-of-type {\n",
              "        vertical-align: middle;\n",
              "    }\n",
              "\n",
              "    .dataframe tbody tr th {\n",
              "        vertical-align: top;\n",
              "    }\n",
              "\n",
              "    .dataframe thead th {\n",
              "        text-align: right;\n",
              "    }\n",
              "</style>\n",
              "<table border=\"1\" class=\"dataframe\">\n",
              "  <thead>\n",
              "    <tr style=\"text-align: right;\">\n",
              "      <th></th>\n",
              "      <th>Recency</th>\n",
              "      <th>Frequency</th>\n",
              "      <th>Monetary</th>\n",
              "    </tr>\n",
              "    <tr>\n",
              "      <th>user_id</th>\n",
              "      <th></th>\n",
              "      <th></th>\n",
              "      <th></th>\n",
              "    </tr>\n",
              "  </thead>\n",
              "  <tbody>\n",
              "    <tr>\n",
              "      <th>304707635</th>\n",
              "      <td>17.539884</td>\n",
              "      <td>1</td>\n",
              "      <td>2007.52</td>\n",
              "    </tr>\n",
              "    <tr>\n",
              "      <th>369801696</th>\n",
              "      <td>17.657002</td>\n",
              "      <td>2</td>\n",
              "      <td>3180.19</td>\n",
              "    </tr>\n",
              "    <tr>\n",
              "      <th>413528456</th>\n",
              "      <td>3.107130</td>\n",
              "      <td>1</td>\n",
              "      <td>1827.33</td>\n",
              "    </tr>\n",
              "    <tr>\n",
              "      <th>419993051</th>\n",
              "      <td>20.443414</td>\n",
              "      <td>1</td>\n",
              "      <td>914.64</td>\n",
              "    </tr>\n",
              "    <tr>\n",
              "      <th>428293417</th>\n",
              "      <td>28.610706</td>\n",
              "      <td>1</td>\n",
              "      <td>1575.50</td>\n",
              "    </tr>\n",
              "  </tbody>\n",
              "</table>\n",
              "</div>"
            ],
            "text/plain": [
              "             Recency  Frequency  Monetary\n",
              "user_id                                  \n",
              "304707635  17.539884          1   2007.52\n",
              "369801696  17.657002          2   3180.19\n",
              "413528456   3.107130          1   1827.33\n",
              "419993051  20.443414          1    914.64\n",
              "428293417  28.610706          1   1575.50"
            ]
          },
          "metadata": {},
          "execution_count": 140
        }
      ]
    },
    {
      "cell_type": "markdown",
      "metadata": {
        "id": "9pwd-4DeQIek"
      },
      "source": [
        "**Frequency**"
      ]
    },
    {
      "cell_type": "code",
      "metadata": {
        "colab": {
          "base_uri": "https://localhost:8080/"
        },
        "id": "ySZDpkhyQK4t",
        "outputId": "c9ba2ac1-2575-4bf0-9c7d-44f342be6691"
      },
      "source": [
        "RFM['Frequency'].describe()"
      ],
      "execution_count": null,
      "outputs": [
        {
          "output_type": "execute_result",
          "data": {
            "text/plain": [
              "count    82402.000000\n",
              "mean         1.788318\n",
              "std          2.675399\n",
              "min          1.000000\n",
              "25%          1.000000\n",
              "50%          1.000000\n",
              "75%          2.000000\n",
              "max        166.000000\n",
              "Name: Frequency, dtype: float64"
            ]
          },
          "metadata": {},
          "execution_count": 141
        }
      ]
    },
    {
      "cell_type": "markdown",
      "metadata": {
        "id": "Qwi5QDG9QQAK"
      },
      "source": [
        "**Monetary**"
      ]
    },
    {
      "cell_type": "code",
      "metadata": {
        "colab": {
          "base_uri": "https://localhost:8080/"
        },
        "id": "YP3t9IxzQRyN",
        "outputId": "932c36bd-f75c-497b-f79a-df8ee96c6ef2"
      },
      "source": [
        "RFM['Recency'].describe()"
      ],
      "execution_count": null,
      "outputs": [
        {
          "output_type": "execute_result",
          "data": {
            "text/plain": [
              "count    82402.000000\n",
              "mean        24.224900\n",
              "std         17.025036\n",
              "min          0.001134\n",
              "25%         13.223733\n",
              "50%         17.879676\n",
              "75%         38.486322\n",
              "max         60.902396\n",
              "Name: Recency, dtype: float64"
            ]
          },
          "metadata": {},
          "execution_count": 142
        }
      ]
    },
    {
      "cell_type": "markdown",
      "metadata": {
        "id": "7F7Pa67dQV4g"
      },
      "source": [
        "**RFM Segmentation**"
      ]
    },
    {
      "cell_type": "code",
      "metadata": {
        "colab": {
          "base_uri": "https://localhost:8080/",
          "height": 142
        },
        "id": "E-gAXcSnQYEb",
        "outputId": "596aab05-827b-4101-81ee-b41c6f1f6382"
      },
      "source": [
        "RFM.quantile(q=[0.25,0.5,0.75])"
      ],
      "execution_count": null,
      "outputs": [
        {
          "output_type": "execute_result",
          "data": {
            "text/html": [
              "<div>\n",
              "<style scoped>\n",
              "    .dataframe tbody tr th:only-of-type {\n",
              "        vertical-align: middle;\n",
              "    }\n",
              "\n",
              "    .dataframe tbody tr th {\n",
              "        vertical-align: top;\n",
              "    }\n",
              "\n",
              "    .dataframe thead th {\n",
              "        text-align: right;\n",
              "    }\n",
              "</style>\n",
              "<table border=\"1\" class=\"dataframe\">\n",
              "  <thead>\n",
              "    <tr style=\"text-align: right;\">\n",
              "      <th></th>\n",
              "      <th>Recency</th>\n",
              "      <th>Frequency</th>\n",
              "      <th>Monetary</th>\n",
              "    </tr>\n",
              "  </thead>\n",
              "  <tbody>\n",
              "    <tr>\n",
              "      <th>0.25</th>\n",
              "      <td>13.223733</td>\n",
              "      <td>1.0</td>\n",
              "      <td>964.760</td>\n",
              "    </tr>\n",
              "    <tr>\n",
              "      <th>0.50</th>\n",
              "      <td>17.879676</td>\n",
              "      <td>1.0</td>\n",
              "      <td>1352.545</td>\n",
              "    </tr>\n",
              "    <tr>\n",
              "      <th>0.75</th>\n",
              "      <td>38.486322</td>\n",
              "      <td>2.0</td>\n",
              "      <td>2204.105</td>\n",
              "    </tr>\n",
              "  </tbody>\n",
              "</table>\n",
              "</div>"
            ],
            "text/plain": [
              "        Recency  Frequency  Monetary\n",
              "0.25  13.223733        1.0   964.760\n",
              "0.50  17.879676        1.0  1352.545\n",
              "0.75  38.486322        2.0  2204.105"
            ]
          },
          "metadata": {},
          "execution_count": 143
        }
      ]
    },
    {
      "cell_type": "code",
      "metadata": {
        "colab": {
          "base_uri": "https://localhost:8080/"
        },
        "id": "VJJKStgPQcVx",
        "outputId": "5a080514-5e32-44ce-a950-de379b77deed"
      },
      "source": [
        "quartiles=RFM.quantile(q=[0.25,0.5,0.75]).to_dict()\n",
        "quartiles"
      ],
      "execution_count": null,
      "outputs": [
        {
          "output_type": "execute_result",
          "data": {
            "text/plain": [
              "{'Frequency': {0.25: 1.0, 0.5: 1.0, 0.75: 2.0},\n",
              " 'Monetary': {0.25: 964.76, 0.5: 1352.545, 0.75: 2204.1050000000005},\n",
              " 'Recency': {0.25: 13.223732638888889,\n",
              "  0.5: 17.879675925925923,\n",
              "  0.75: 38.48632233796296}}"
            ]
          },
          "metadata": {},
          "execution_count": 144
        }
      ]
    },
    {
      "cell_type": "markdown",
      "metadata": {
        "id": "Den4KAksQhX0"
      },
      "source": [
        "Creation of RFM Segments"
      ]
    },
    {
      "cell_type": "code",
      "metadata": {
        "id": "G4m12ohzQk7B"
      },
      "source": [
        "## for Recency \n",
        "\n",
        "def R(x,p,d):\n",
        "    if x <= d[p][0.25]:\n",
        "        return 1\n",
        "    elif x <= d[p][0.50]:\n",
        "        return 2\n",
        "    elif x <= d[p][0.75]: \n",
        "        return 3\n",
        "    else:\n",
        "        return 4\n",
        "    \n",
        "## for Frequency and Monetary \n",
        "\n",
        "def FM(x,p,d):\n",
        "    if x <= d[p][0.25]:\n",
        "        return 4\n",
        "    elif x <= d[p][0.50]:\n",
        "        return 3\n",
        "    elif x <= d[p][0.75]: \n",
        "        return 2\n",
        "    else:\n",
        "        return 1 "
      ],
      "execution_count": null,
      "outputs": []
    },
    {
      "cell_type": "code",
      "metadata": {
        "colab": {
          "base_uri": "https://localhost:8080/",
          "height": 234
        },
        "id": "CMiGz2z8Qnha",
        "outputId": "1abda3f2-24c5-4cf5-f3b7-806704794221"
      },
      "source": [
        "#create RFM segmentation column\n",
        "RFM['R_Quartile'] = RFM['Recency'].apply(R, args=('Recency',quartiles,))\n",
        "RFM['F_Quartile'] = RFM['Frequency'].apply(FM, args=('Frequency',quartiles,))\n",
        "RFM['M_Quartile'] = RFM['Monetary'].apply(FM, args=('Monetary',quartiles,))\n",
        "RFM['RFM_segmentation'] = RFM.R_Quartile.map(str) \\\n",
        "                    + RFM.F_Quartile.map(str) \\\n",
        "                    + RFM.M_Quartile.map(str)\n",
        "RFM['RFM_score'] = RFM.R_Quartile.map(int) \\\n",
        "                    + RFM.F_Quartile.map(int) \\\n",
        "                    + RFM.M_Quartile.map(int)\n",
        "RFM.head()"
      ],
      "execution_count": null,
      "outputs": [
        {
          "output_type": "execute_result",
          "data": {
            "text/html": [
              "<div>\n",
              "<style scoped>\n",
              "    .dataframe tbody tr th:only-of-type {\n",
              "        vertical-align: middle;\n",
              "    }\n",
              "\n",
              "    .dataframe tbody tr th {\n",
              "        vertical-align: top;\n",
              "    }\n",
              "\n",
              "    .dataframe thead th {\n",
              "        text-align: right;\n",
              "    }\n",
              "</style>\n",
              "<table border=\"1\" class=\"dataframe\">\n",
              "  <thead>\n",
              "    <tr style=\"text-align: right;\">\n",
              "      <th></th>\n",
              "      <th>Recency</th>\n",
              "      <th>Frequency</th>\n",
              "      <th>Monetary</th>\n",
              "      <th>R_Quartile</th>\n",
              "      <th>F_Quartile</th>\n",
              "      <th>M_Quartile</th>\n",
              "      <th>RFM_segmentation</th>\n",
              "      <th>RFM_score</th>\n",
              "    </tr>\n",
              "    <tr>\n",
              "      <th>user_id</th>\n",
              "      <th></th>\n",
              "      <th></th>\n",
              "      <th></th>\n",
              "      <th></th>\n",
              "      <th></th>\n",
              "      <th></th>\n",
              "      <th></th>\n",
              "      <th></th>\n",
              "    </tr>\n",
              "  </thead>\n",
              "  <tbody>\n",
              "    <tr>\n",
              "      <th>304707635</th>\n",
              "      <td>17.539884</td>\n",
              "      <td>1</td>\n",
              "      <td>2007.52</td>\n",
              "      <td>2</td>\n",
              "      <td>4</td>\n",
              "      <td>2</td>\n",
              "      <td>242</td>\n",
              "      <td>8</td>\n",
              "    </tr>\n",
              "    <tr>\n",
              "      <th>369801696</th>\n",
              "      <td>17.657002</td>\n",
              "      <td>2</td>\n",
              "      <td>3180.19</td>\n",
              "      <td>2</td>\n",
              "      <td>2</td>\n",
              "      <td>1</td>\n",
              "      <td>221</td>\n",
              "      <td>5</td>\n",
              "    </tr>\n",
              "    <tr>\n",
              "      <th>413528456</th>\n",
              "      <td>3.107130</td>\n",
              "      <td>1</td>\n",
              "      <td>1827.33</td>\n",
              "      <td>1</td>\n",
              "      <td>4</td>\n",
              "      <td>2</td>\n",
              "      <td>142</td>\n",
              "      <td>7</td>\n",
              "    </tr>\n",
              "    <tr>\n",
              "      <th>419993051</th>\n",
              "      <td>20.443414</td>\n",
              "      <td>1</td>\n",
              "      <td>914.64</td>\n",
              "      <td>3</td>\n",
              "      <td>4</td>\n",
              "      <td>4</td>\n",
              "      <td>344</td>\n",
              "      <td>11</td>\n",
              "    </tr>\n",
              "    <tr>\n",
              "      <th>428293417</th>\n",
              "      <td>28.610706</td>\n",
              "      <td>1</td>\n",
              "      <td>1575.50</td>\n",
              "      <td>3</td>\n",
              "      <td>4</td>\n",
              "      <td>2</td>\n",
              "      <td>342</td>\n",
              "      <td>9</td>\n",
              "    </tr>\n",
              "  </tbody>\n",
              "</table>\n",
              "</div>"
            ],
            "text/plain": [
              "             Recency  Frequency  ...  RFM_segmentation  RFM_score\n",
              "user_id                          ...                             \n",
              "304707635  17.539884          1  ...               242          8\n",
              "369801696  17.657002          2  ...               221          5\n",
              "413528456   3.107130          1  ...               142          7\n",
              "419993051  20.443414          1  ...               344         11\n",
              "428293417  28.610706          1  ...               342          9\n",
              "\n",
              "[5 rows x 8 columns]"
            ]
          },
          "metadata": {},
          "execution_count": 146
        }
      ]
    },
    {
      "cell_type": "code",
      "metadata": {
        "colab": {
          "base_uri": "https://localhost:8080/",
          "height": 234
        },
        "id": "eo6EQgs9Qqfd",
        "outputId": "9ea575e0-c7e5-425a-e840-6a1052aa94ab"
      },
      "source": [
        "# Define rfm_level function\n",
        "def RFM_label(data):\n",
        "    if data['RFM_score'] >= 10:\n",
        "        return 'Lost'\n",
        "    elif ((data['RFM_score'] >= 9) and (data['RFM_score'] < 10)):\n",
        "        return 'Hibernating'\n",
        "    elif ((data['RFM_score'] >= 8) and (data['RFM_score'] < 9)):\n",
        "        return 'Can’t Lose Them'\n",
        "    elif ((data['RFM_score'] >= 7) and (data['RFM_score'] < 8)):\n",
        "        return 'About To Sleep'\n",
        "    elif ((data['RFM_score'] >= 6) and (data['RFM_score'] < 7)):\n",
        "        return 'Promising'\n",
        "    elif ((data['RFM_score'] >= 5) and (data['RFM_score'] < 6)):\n",
        "        return 'Potential Loyalist'\n",
        "    elif ((data['RFM_score'] >= 4) and (data['RFM_score'] < 5)):\n",
        "        return 'Loyal Customers'\n",
        "    else:\n",
        "        return 'Champions'\n",
        "#Create RFM label for customer\n",
        "RFM['RFM_label'] = RFM.apply(RFM_label, axis=1)\n",
        "RFM.head()"
      ],
      "execution_count": null,
      "outputs": [
        {
          "output_type": "execute_result",
          "data": {
            "text/html": [
              "<div>\n",
              "<style scoped>\n",
              "    .dataframe tbody tr th:only-of-type {\n",
              "        vertical-align: middle;\n",
              "    }\n",
              "\n",
              "    .dataframe tbody tr th {\n",
              "        vertical-align: top;\n",
              "    }\n",
              "\n",
              "    .dataframe thead th {\n",
              "        text-align: right;\n",
              "    }\n",
              "</style>\n",
              "<table border=\"1\" class=\"dataframe\">\n",
              "  <thead>\n",
              "    <tr style=\"text-align: right;\">\n",
              "      <th></th>\n",
              "      <th>Recency</th>\n",
              "      <th>Frequency</th>\n",
              "      <th>Monetary</th>\n",
              "      <th>R_Quartile</th>\n",
              "      <th>F_Quartile</th>\n",
              "      <th>M_Quartile</th>\n",
              "      <th>RFM_segmentation</th>\n",
              "      <th>RFM_score</th>\n",
              "      <th>RFM_label</th>\n",
              "    </tr>\n",
              "    <tr>\n",
              "      <th>user_id</th>\n",
              "      <th></th>\n",
              "      <th></th>\n",
              "      <th></th>\n",
              "      <th></th>\n",
              "      <th></th>\n",
              "      <th></th>\n",
              "      <th></th>\n",
              "      <th></th>\n",
              "      <th></th>\n",
              "    </tr>\n",
              "  </thead>\n",
              "  <tbody>\n",
              "    <tr>\n",
              "      <th>304707635</th>\n",
              "      <td>17.539884</td>\n",
              "      <td>1</td>\n",
              "      <td>2007.52</td>\n",
              "      <td>2</td>\n",
              "      <td>4</td>\n",
              "      <td>2</td>\n",
              "      <td>242</td>\n",
              "      <td>8</td>\n",
              "      <td>Can’t Lose Them</td>\n",
              "    </tr>\n",
              "    <tr>\n",
              "      <th>369801696</th>\n",
              "      <td>17.657002</td>\n",
              "      <td>2</td>\n",
              "      <td>3180.19</td>\n",
              "      <td>2</td>\n",
              "      <td>2</td>\n",
              "      <td>1</td>\n",
              "      <td>221</td>\n",
              "      <td>5</td>\n",
              "      <td>Potential Loyalist</td>\n",
              "    </tr>\n",
              "    <tr>\n",
              "      <th>413528456</th>\n",
              "      <td>3.107130</td>\n",
              "      <td>1</td>\n",
              "      <td>1827.33</td>\n",
              "      <td>1</td>\n",
              "      <td>4</td>\n",
              "      <td>2</td>\n",
              "      <td>142</td>\n",
              "      <td>7</td>\n",
              "      <td>About To Sleep</td>\n",
              "    </tr>\n",
              "    <tr>\n",
              "      <th>419993051</th>\n",
              "      <td>20.443414</td>\n",
              "      <td>1</td>\n",
              "      <td>914.64</td>\n",
              "      <td>3</td>\n",
              "      <td>4</td>\n",
              "      <td>4</td>\n",
              "      <td>344</td>\n",
              "      <td>11</td>\n",
              "      <td>Lost</td>\n",
              "    </tr>\n",
              "    <tr>\n",
              "      <th>428293417</th>\n",
              "      <td>28.610706</td>\n",
              "      <td>1</td>\n",
              "      <td>1575.50</td>\n",
              "      <td>3</td>\n",
              "      <td>4</td>\n",
              "      <td>2</td>\n",
              "      <td>342</td>\n",
              "      <td>9</td>\n",
              "      <td>Hibernating</td>\n",
              "    </tr>\n",
              "  </tbody>\n",
              "</table>\n",
              "</div>"
            ],
            "text/plain": [
              "             Recency  Frequency  ...  RFM_score           RFM_label\n",
              "user_id                          ...                               \n",
              "304707635  17.539884          1  ...          8     Can’t Lose Them\n",
              "369801696  17.657002          2  ...          5  Potential Loyalist\n",
              "413528456   3.107130          1  ...          7      About To Sleep\n",
              "419993051  20.443414          1  ...         11                Lost\n",
              "428293417  28.610706          1  ...          9         Hibernating\n",
              "\n",
              "[5 rows x 9 columns]"
            ]
          },
          "metadata": {},
          "execution_count": 147
        }
      ]
    },
    {
      "cell_type": "code",
      "metadata": {
        "colab": {
          "base_uri": "https://localhost:8080/"
        },
        "id": "9upMip62Qt52",
        "outputId": "06b4aed8-ec56-4882-819c-3dfb9d60e50e"
      },
      "source": [
        "# Calculate average values for each RFM_Level, and return a size of each segment \n",
        "RFM_desc = RFM.groupby('RFM_label').agg({\n",
        "    'Recency': 'mean',\n",
        "    'Frequency': 'mean',\n",
        "    'Monetary': ['mean', 'count']\n",
        "}).round(1)\n",
        "# Print the aggregated dataset\n",
        "print(RFM_desc)"
      ],
      "execution_count": null,
      "outputs": [
        {
          "output_type": "stream",
          "name": "stdout",
          "text": [
            "                   Recency Frequency Monetary       \n",
            "                      mean      mean     mean  count\n",
            "RFM_label                                           \n",
            "About To Sleep        22.0       1.5   2198.9   6435\n",
            "Can’t Lose Them       17.6       1.1   1595.8   8513\n",
            "Champions              5.1       6.3   8835.0   4662\n",
            "Hibernating           15.9       1.0   1218.9  14154\n",
            "Lost                  35.1       1.0   1070.3  32786\n",
            "Loyal Customers       10.5       3.6   5285.3   3992\n",
            "Potential Loyalist    17.8       3.5   4842.5   6351\n",
            "Promising             27.7       2.7   3823.7   5509\n"
          ]
        }
      ]
    },
    {
      "cell_type": "code",
      "metadata": {
        "colab": {
          "base_uri": "https://localhost:8080/",
          "height": 540
        },
        "id": "G9DRADLfQwoh",
        "outputId": "09757e04-2c58-4c26-b6cb-3cfca9e364e8"
      },
      "source": [
        "#RFM_desc.columns = RFM_desc.columns.droplevel()\n",
        "RFM_desc.columns = ['RecencyMean','FrequencyMean','MonetaryMean', 'Count']\n",
        "#Create our plot and resize it.\n",
        "fig = plt.gcf()\n",
        "ax = fig.add_subplot()\n",
        "fig.set_size_inches(16, 9)\n",
        "squarify.plot(sizes=RFM_desc['Count'], \n",
        "              label=['Lost',\n",
        "                     'Hibernating',\n",
        "                     'Can’t Lose Them',\n",
        "                     'About To Sleep',\n",
        "                     'Promising', \n",
        "                     'Potential Loyalist', \n",
        "                     'Loyal Customers',\n",
        "                     'Champions'], alpha=.6 )\n",
        "plt.title(\"RFM Segments\",fontsize=18,fontweight=\"bold\")\n",
        "plt.axis('off')\n",
        "plt.show()"
      ],
      "execution_count": null,
      "outputs": [
        {
          "output_type": "display_data",
          "data": {
            "image/png": "[encoded data removed]",
            "text/plain": [
              "<Figure size 1152x648 with 1 Axes>"
            ]
          },
          "metadata": {
            "needs_background": "light"
          }
        }
      ]
    }
  ]
}